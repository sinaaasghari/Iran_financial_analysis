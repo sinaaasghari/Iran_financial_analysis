{
  "cells": [
    {
      "cell_type": "markdown",
      "metadata": {},
      "source": [
        "### 4. مقایسه درآمد افرادی شهری در سال های 1400 و 1401"
      ]
    },
    {
      "cell_type": "code",
      "execution_count": 33,
      "metadata": {},
      "outputs": [],
      "source": [
        "import numpy as np\n",
        "import pandas as pd\n",
        "import matplotlib.pyplot as plt"
      ]
    },
    {
      "cell_type": "code",
      "execution_count": 34,
      "metadata": {},
      "outputs": [],
      "source": [
        "def get_total_job_income(df, member_id):\n",
        "    return df[df['Member_id'] == member_id]['netincome_w_y'].apply(to_int).sum()\n",
        "\n",
        "\n",
        "def get_total_free_income(df, member_id):\n",
        "    return df[df['Member_id'] == member_id]['income_s_y'].apply(to_int).sum()\n",
        "\n",
        "\n",
        "def get_total_subsidy_income(df, member_id):\n",
        "    return df[df['Member_id'] == member_id]['subsidy'].apply(to_int).sum()\n",
        "\n",
        "\n",
        "def to_int(num):\n",
        "    try:\n",
        "        if type(num) == str:\n",
        "            num = num.strip()\n",
        "        return int(num)\n",
        "    except Exception as e:\n",
        "        return 0\n",
        "\n",
        "\n",
        "def get_total_other_income(record):\n",
        "    total_income = 0\n",
        "\n",
        "    total_income += to_int(record['income_pension'])\n",
        "    total_income += to_int(record['income_rent'])\n",
        "    total_income += to_int(record['income_interest'])\n",
        "    total_income += to_int(record['income_aid'])\n",
        "    total_income += to_int(record['income_resale'])\n",
        "    total_income += to_int(record['income_transfer'])\n",
        "\n",
        "    return total_income\n",
        "\n",
        "\n",
        "def get_total_income(df, member_id):\n",
        "    return df[df['Member_id'] == member_id]['income'].apply(to_int).sum()\n",
        "\n",
        "\n",
        "def calc_total_person_income(file_name):\n",
        "    df_job_income = pd.read_excel(file_name, engine='openpyxl', sheet_name=file_name.split('.')[0] + 'P4S01')\n",
        "\n",
        "    df_job_income = df_job_income[(~np.isnan(df_job_income['Address'])) & (~np.isnan(df_job_income['member']))]\n",
        "    df_job_income['Member_id'] = df_job_income.apply(lambda r: str(r['Address']) + '_' + str(int(r['member'])), axis=1)\n",
        "    df_job_income['income'] = df_job_income.apply(lambda r: get_total_job_income(df_job_income, r['Member_id']), axis=1)\n",
        "    df_job_income.drop_duplicates(subset=['Member_id'], inplace=True)\n",
        "    df_job_income = df_job_income[['Member_id', 'income']]\n",
        "\n",
        "    df_free_income = pd.read_excel(file_name, engine='openpyxl', sheet_name=file_name.split('.')[0] + 'P4S02')\n",
        "\n",
        "    df_free_income = df_free_income[(~np.isnan(df_free_income['Address'])) & (~np.isnan(df_free_income['member']))]\n",
        "    df_free_income['Member_id'] = df_free_income.apply(lambda r: str(r['Address']) + '_' + str(int(r['member'])), axis=1)\n",
        "    df_free_income['income'] = df_free_income.apply(lambda r: get_total_free_income(df_free_income, r['Member_id']), axis=1)\n",
        "    df_free_income.drop_duplicates(subset=['Member_id'], inplace=True)\n",
        "    df_free_income = df_free_income[['Member_id', 'income']]\n",
        "    \n",
        "    df_other_income = pd.read_excel(file_name, engine='openpyxl', sheet_name=file_name.split('.')[0] + 'P4S03')\n",
        "\n",
        "    df_other_income.fillna(0, inplace=True)\n",
        "    df_other_income = df_other_income[(~np.isnan(df_other_income['Address'])) & (~np.isnan(df_other_income['member']))]\n",
        "    df_other_income['Member_id'] = df_other_income.apply(lambda r: str(r['Address']) + '_' + str(int(r['member'])), axis=1)\n",
        "    df_other_income['income'] = df_other_income.apply(lambda r: get_total_other_income(r), axis=1)\n",
        "    df_other_income.drop_duplicates(subset=['Member_id'], inplace=True)\n",
        "    df_other_income = df_other_income[['Member_id', 'income']]\n",
        "    \n",
        "    df_subsidy_income = pd.read_excel(file_name, engine='openpyxl', sheet_name=file_name.split('.')[0] + 'P4S04')\n",
        "\n",
        "    df_subsidy_income = df_subsidy_income[(~np.isnan(df_subsidy_income['Address'])) & (~np.isnan(df_subsidy_income['member']))]\n",
        "    df_subsidy_income['Member_id'] = df_subsidy_income.apply(lambda r: str(r['Address']) + '_' + str(int(r['member'])), axis=1)\n",
        "    df_subsidy_income['income'] = df_subsidy_income.apply(lambda r: get_total_subsidy_income(df_subsidy_income, r['Member_id']), axis=1)\n",
        "    df_subsidy_income.drop_duplicates(subset=['Member_id'], inplace=True)\n",
        "    df_subsidy_income = df_subsidy_income[['Member_id', 'income']]\n",
        "\n",
        "    df_income = pd.concat([df_job_income, df_free_income, df_other_income, df_subsidy_income])\n",
        "    \n",
        "    return df_income"
      ]
    },
    {
      "cell_type": "code",
      "execution_count": 35,
      "metadata": {},
      "outputs": [],
      "source": [
        "U1400 = calc_total_person_income('U1400.xlsx')\n",
        "U1400_income = U1400.groupby('Member_id').agg({'income': 'sum'})\n",
        "U1400_income = U1400_income['income'].values"
      ]
    },
    {
      "cell_type": "code",
      "execution_count": 36,
      "metadata": {},
      "outputs": [],
      "source": [
        "U1401 = calc_total_person_income('U1401.xlsx')\n",
        "U1401_income = U1401.groupby('Member_id').agg({'income': 'sum'})\n",
        "U1401_income = U1401_income['income'].values"
      ]
    },
    {
      "cell_type": "code",
      "execution_count": 37,
      "metadata": {},
      "outputs": [
        {
          "data": {
            "text/plain": [
              "(235215582.0052185, 378516110.72378343)"
            ]
          },
          "execution_count": 37,
          "metadata": {},
          "output_type": "execute_result"
        }
      ],
      "source": [
        "U1400_income.mean(), U1401_income.mean()"
      ]
    },
    {
      "cell_type": "markdown",
      "metadata": {},
      "source": [
        "همان طور که مشاهده می شود، میانگین درآمد افراد شهری در سال 1401 از سال 1400 بسیار بیشتر است اکنون واریانس آنها را بررسی میکنیم"
      ]
    },
    {
      "cell_type": "code",
      "execution_count": 38,
      "metadata": {},
      "outputs": [
        {
          "data": {
            "text/plain": [
              "(393554946.75185376, 615398339.4857981)"
            ]
          },
          "execution_count": 38,
          "metadata": {},
          "output_type": "execute_result"
        }
      ],
      "source": [
        "U1400_income.std(), U1401_income.std()"
      ]
    },
    {
      "cell_type": "markdown",
      "metadata": {},
      "source": [
        "حالا میتوانیم توزیع میانگین دو سال متوالی رو بر روی دو نمودار جداگانه مشاهده کنیم که به شکل زیر خواهد بود"
      ]
    },
    {
      "cell_type": "code",
      "execution_count": 39,
      "metadata": {},
      "outputs": [
        {
          "data": {
            "image/png": "[encoded data removed]",
            "text/plain": [
              "<Figure size 640x480 with 1 Axes>"
            ]
          },
          "metadata": {},
          "output_type": "display_data"
        },
        {
          "data": {
            "image/png": "[encoded data removed]",
            "text/plain": [
              "<Figure size 640x480 with 1 Axes>"
            ]
          },
          "metadata": {},
          "output_type": "display_data"
        }
      ],
      "source": [
        "plt.hist(U1400_income, bins=20)\n",
        "plt.xlabel('Urban Income 1400')\n",
        "plt.title('Urban Income 1400 Distribution')\n",
        "plt.show()\n",
        "plt.hist(U1401_income, bins=20)\n",
        "plt.xlabel('Urban Income 1401')\n",
        "plt.title('Urban Income 1401 Distribution')\n",
        "plt.show()"
      ]
    },
    {
      "cell_type": "markdown",
      "metadata": {},
      "source": [
        "اکنون نمودار درآمد را برای هر سال جداگانه و زیر یکدیگر رسم می کنیم"
      ]
    },
    {
      "cell_type": "code",
      "execution_count": 40,
      "metadata": {},
      "outputs": [
        {
          "name": "stderr",
          "output_type": "stream",
          "text": [
            "C:\\Users\\a\\AppData\\Local\\Temp\\ipykernel_12120\\1730996501.py:2: UserWarning: marker is redundantly defined by the 'marker' keyword argument and the fmt string \"x\" (-> marker='x'). The keyword argument will take precedence.\n",
            "  plt.plot(U1400_income, np.zeros_like(U1400_income) + 0, 'x', color='blue', marker='o', label='Urban income 1400')\n",
            "C:\\Users\\a\\AppData\\Local\\Temp\\ipykernel_12120\\1730996501.py:5: UserWarning: marker is redundantly defined by the 'marker' keyword argument and the fmt string \"x\" (-> marker='x'). The keyword argument will take precedence.\n",
            "  plt.plot(U1401_income, np.zeros_like(U1401_income) + 0, 'x', color='red', marker='o', label='Urban income 1401')\n"
          ]
        },
        {
          "data": {
            "image/png": "[encoded data removed]",
            "text/plain": [
              "<Figure size 640x480 with 2 Axes>"
            ]
          },
          "metadata": {},
          "output_type": "display_data"
        }
      ],
      "source": [
        "plt.subplot(2, 1, 1)\n",
        "plt.plot(U1400_income, np.zeros_like(U1400_income) + 0, 'x', color='blue', marker='o', label='Urban income 1400')\n",
        "plt.legend()\n",
        "plt.subplot(2, 1, 2)\n",
        "plt.plot(U1401_income, np.zeros_like(U1401_income) + 0, 'x', color='red', marker='o', label='Urban income 1401')\n",
        "plt.legend()\n",
        "plt.show()"
      ]
    },
    {
      "cell_type": "markdown",
      "metadata": {},
      "source": [
        "از روی نمودار هم کمی میتوان مشاهده کرد که درآمد سال 1401 بیشتر از سال 1400 است. اکنون درآمد .واقعی سال 1401 را محاسبه می کنیم. فرض میکنیم درآمد سال 1400 درآمد خالص باشد\n",
        "اکنون خالص درآمد افراد در سال 1401 را محاسبه کرده و میبینیم که میانگین کلی آنها کمی بالاتر از سال قبلی است"
      ]
    },
    {
      "cell_type": "code",
      "execution_count": 41,
      "metadata": {},
      "outputs": [
        {
          "data": {
            "text/plain": [
              "(235215582.0052185, 258372771.82510814)"
            ]
          },
          "execution_count": 41,
          "metadata": {},
          "output_type": "execute_result"
        }
      ],
      "source": [
        "inflation_1401 =0.465\n",
        "np.mean(U1400_income), np.mean(U1401_income / (1 + inflation_1401))"
      ]
    },
    {
      "cell_type": "code",
      "execution_count": 42,
      "metadata": {},
      "outputs": [
        {
          "data": {
            "text/plain": [
              "(58829, 53697)"
            ]
          },
          "execution_count": 42,
          "metadata": {},
          "output_type": "execute_result"
        }
      ],
      "source": [
        "len(U1400_income), len(U1401_income)"
      ]
    },
    {
      "cell_type": "code",
      "execution_count": 43,
      "metadata": {},
      "outputs": [
        {
          "data": {
            "image/png": "[encoded data removed]",
            "text/plain": [
              "<Figure size 640x480 with 1 Axes>"
            ]
          },
          "metadata": {},
          "output_type": "display_data"
        }
      ],
      "source": [
        "U1400_income_sample = U1400_income[:53697]\n",
        "\n",
        "plt.scatter(U1400_income_sample, U1401_income)\n",
        "plt.plot(np.arange(0, 4e10, step=5e9), np.arange(0, 4e10, step=5e9), color='red')\n",
        "plt.xlabel('U1400 income')\n",
        "plt.ylabel('U1401 income')\n",
        "plt.title('Scatter plot for U1400 and U1401 incomes')\n",
        "plt.show()"
      ]
    },
    {
      "cell_type": "markdown",
      "metadata": {},
      "source": [
        "اگر تعداد نمونه ها که با یکدیگر مقایسه شده اند را داشته باشیم (53697) انگاه میتوان مشاهده کرد تعداد زوج مرتب های بالای نیمساز صفحه بیشتر از نصف است\n",
        "و این همان فرضیه بیشتر بودن درآمد افراد شهری در سال 1401 نسبت به 1400 را تقویت می کند"
      ]
    },
    {
      "cell_type": "code",
      "execution_count": 44,
      "metadata": {},
      "outputs": [
        {
          "data": {
            "text/plain": [
              "31528"
            ]
          },
          "execution_count": 44,
          "metadata": {},
          "output_type": "execute_result"
        }
      ],
      "source": [
        "list(u1 < u2 for u1, u2 in zip(U1400_income_sample, U1401_income)).count(True)"
      ]
    },
    {
      "cell_type": "markdown",
      "metadata": {},
      "source": [
        "طبق مشاهده نمونه های بالای خط نیمساز کمی بیشتر هستند. به همین دلیل باز هم میتوان نتیجه قبلی مبنی بر بیشتر بودن درآمد سال 1401 را تکرار کرد"
      ]
    },
    {
      "cell_type": "markdown",
      "metadata": {},
      "source": [
        "مشاهده می کنیم با احتساب درآمد سال 1400 به عنوان درآمد حقیقی یک فرد، در سال بعد درآمد حقیقی با توجه نرخ تورم تقریبا برابر با درآمد سال قبل می شود و حتی کمی از آن نیز بیشتر است\n",
        "این موضوع نیز خود نشان دهنده بیشتر بودن درآمد افراد شهری در سال 1401 نسبت به سال 1400 است"
      ]
    },
    {
      "cell_type": "code",
      "execution_count": 45,
      "metadata": {},
      "outputs": [
        {
          "data": {
            "text/html": [
              "<div>\n",
              "<style scoped>\n",
              "    .dataframe tbody tr th:only-of-type {\n",
              "        vertical-align: middle;\n",
              "    }\n",
              "\n",
              "    .dataframe tbody tr th {\n",
              "        vertical-align: top;\n",
              "    }\n",
              "\n",
              "    .dataframe thead th {\n",
              "        text-align: right;\n",
              "    }\n",
              "</style>\n",
              "<table border=\"1\" class=\"dataframe\">\n",
              "  <thead>\n",
              "    <tr style=\"text-align: right;\">\n",
              "      <th></th>\n",
              "      <th>Address</th>\n",
              "      <th>code</th>\n",
              "      <th>purchased</th>\n",
              "      <th>gram</th>\n",
              "      <th>kilogram</th>\n",
              "      <th>price</th>\n",
              "      <th>value</th>\n",
              "    </tr>\n",
              "  </thead>\n",
              "  <tbody>\n",
              "    <tr>\n",
              "      <th>0</th>\n",
              "      <td>10004004227</td>\n",
              "      <td>11112</td>\n",
              "      <td>1</td>\n",
              "      <td>NaN</td>\n",
              "      <td>10.0</td>\n",
              "      <td>250000.0</td>\n",
              "      <td>2500000.0</td>\n",
              "    </tr>\n",
              "    <tr>\n",
              "      <th>1</th>\n",
              "      <td>10004004227</td>\n",
              "      <td>11142</td>\n",
              "      <td>1</td>\n",
              "      <td>NaN</td>\n",
              "      <td>10.0</td>\n",
              "      <td>30000.0</td>\n",
              "      <td>300000.0</td>\n",
              "    </tr>\n",
              "    <tr>\n",
              "      <th>2</th>\n",
              "      <td>10004004227</td>\n",
              "      <td>11143</td>\n",
              "      <td>1</td>\n",
              "      <td>NaN</td>\n",
              "      <td>10.0</td>\n",
              "      <td>30000.0</td>\n",
              "      <td>300000.0</td>\n",
              "    </tr>\n",
              "    <tr>\n",
              "      <th>3</th>\n",
              "      <td>10004004227</td>\n",
              "      <td>11174</td>\n",
              "      <td>1</td>\n",
              "      <td>NaN</td>\n",
              "      <td>2.0</td>\n",
              "      <td>350000.0</td>\n",
              "      <td>700000.0</td>\n",
              "    </tr>\n",
              "    <tr>\n",
              "      <th>4</th>\n",
              "      <td>10004004227</td>\n",
              "      <td>11211</td>\n",
              "      <td>1</td>\n",
              "      <td>NaN</td>\n",
              "      <td>2.0</td>\n",
              "      <td>1300000.0</td>\n",
              "      <td>2600000.0</td>\n",
              "    </tr>\n",
              "    <tr>\n",
              "      <th>...</th>\n",
              "      <td>...</td>\n",
              "      <td>...</td>\n",
              "      <td>...</td>\n",
              "      <td>...</td>\n",
              "      <td>...</td>\n",
              "      <td>...</td>\n",
              "      <td>...</td>\n",
              "    </tr>\n",
              "    <tr>\n",
              "      <th>617702</th>\n",
              "      <td>13001375135</td>\n",
              "      <td>11424</td>\n",
              "      <td>1</td>\n",
              "      <td>NaN</td>\n",
              "      <td>2.0</td>\n",
              "      <td>150000.0</td>\n",
              "      <td>300000.0</td>\n",
              "    </tr>\n",
              "    <tr>\n",
              "      <th>617703</th>\n",
              "      <td>13001375135</td>\n",
              "      <td>11428</td>\n",
              "      <td>1</td>\n",
              "      <td>NaN</td>\n",
              "      <td>1.0</td>\n",
              "      <td>280000.0</td>\n",
              "      <td>280000.0</td>\n",
              "    </tr>\n",
              "    <tr>\n",
              "      <th>617704</th>\n",
              "      <td>13001375135</td>\n",
              "      <td>11441</td>\n",
              "      <td>1</td>\n",
              "      <td>NaN</td>\n",
              "      <td>2.0</td>\n",
              "      <td>250000.0</td>\n",
              "      <td>500000.0</td>\n",
              "    </tr>\n",
              "    <tr>\n",
              "      <th>617705</th>\n",
              "      <td>13001375135</td>\n",
              "      <td>11631</td>\n",
              "      <td>1</td>\n",
              "      <td>NaN</td>\n",
              "      <td>2.0</td>\n",
              "      <td>150000.0</td>\n",
              "      <td>300000.0</td>\n",
              "    </tr>\n",
              "    <tr>\n",
              "      <th>617706</th>\n",
              "      <td>13001375135</td>\n",
              "      <td>11632</td>\n",
              "      <td>1</td>\n",
              "      <td>NaN</td>\n",
              "      <td>2.0</td>\n",
              "      <td>150000.0</td>\n",
              "      <td>300000.0</td>\n",
              "    </tr>\n",
              "  </tbody>\n",
              "</table>\n",
              "<p>617707 rows × 7 columns</p>\n",
              "</div>"
            ],
            "text/plain": [
              "            Address   code  purchased gram  kilogram      price      value\n",
              "0       10004004227  11112          1  NaN      10.0   250000.0  2500000.0\n",
              "1       10004004227  11142          1  NaN      10.0    30000.0   300000.0\n",
              "2       10004004227  11143          1  NaN      10.0    30000.0   300000.0\n",
              "3       10004004227  11174          1  NaN       2.0   350000.0   700000.0\n",
              "4       10004004227  11211          1  NaN       2.0  1300000.0  2600000.0\n",
              "...             ...    ...        ...  ...       ...        ...        ...\n",
              "617702  13001375135  11424          1  NaN       2.0   150000.0   300000.0\n",
              "617703  13001375135  11428          1  NaN       1.0   280000.0   280000.0\n",
              "617704  13001375135  11441          1  NaN       2.0   250000.0   500000.0\n",
              "617705  13001375135  11631          1  NaN       2.0   150000.0   300000.0\n",
              "617706  13001375135  11632          1  NaN       2.0   150000.0   300000.0\n",
              "\n",
              "[617707 rows x 7 columns]"
            ]
          },
          "execution_count": 45,
          "metadata": {},
          "output_type": "execute_result"
        }
      ],
      "source": [
        "U1400_food_cost = pd.read_excel('U1400.xlsx', engine='openpyxl', sheet_name='U1400P3S01')\n",
        "U1400_food_cost"
      ]
    },
    {
      "cell_type": "code",
      "execution_count": 46,
      "metadata": {},
      "outputs": [
        {
          "data": {
            "text/html": [
              "<div>\n",
              "<style scoped>\n",
              "    .dataframe tbody tr th:only-of-type {\n",
              "        vertical-align: middle;\n",
              "    }\n",
              "\n",
              "    .dataframe tbody tr th {\n",
              "        vertical-align: top;\n",
              "    }\n",
              "\n",
              "    .dataframe thead th {\n",
              "        text-align: right;\n",
              "    }\n",
              "</style>\n",
              "<table border=\"1\" class=\"dataframe\">\n",
              "  <thead>\n",
              "    <tr style=\"text-align: right;\">\n",
              "      <th></th>\n",
              "      <th>Address</th>\n",
              "      <th>code</th>\n",
              "      <th>purchased</th>\n",
              "      <th>gram</th>\n",
              "      <th>kilogram</th>\n",
              "      <th>price</th>\n",
              "      <th>value</th>\n",
              "    </tr>\n",
              "  </thead>\n",
              "  <tbody>\n",
              "    <tr>\n",
              "      <th>0</th>\n",
              "      <td>12709339934</td>\n",
              "      <td>11812</td>\n",
              "      <td>1</td>\n",
              "      <td>NaN</td>\n",
              "      <td>2.0</td>\n",
              "      <td>300000</td>\n",
              "      <td>600000</td>\n",
              "    </tr>\n",
              "    <tr>\n",
              "      <th>1</th>\n",
              "      <td>12709339934</td>\n",
              "      <td>11823</td>\n",
              "      <td>1</td>\n",
              "      <td>500.0</td>\n",
              "      <td>NaN</td>\n",
              "      <td>800000</td>\n",
              "      <td>400000</td>\n",
              "    </tr>\n",
              "    <tr>\n",
              "      <th>2</th>\n",
              "      <td>12709339934</td>\n",
              "      <td>11841</td>\n",
              "      <td>1</td>\n",
              "      <td>500.0</td>\n",
              "      <td>NaN</td>\n",
              "      <td>500000</td>\n",
              "      <td>250000</td>\n",
              "    </tr>\n",
              "    <tr>\n",
              "      <th>3</th>\n",
              "      <td>12709339934</td>\n",
              "      <td>11842</td>\n",
              "      <td>1</td>\n",
              "      <td>NaN</td>\n",
              "      <td>NaN</td>\n",
              "      <td>0</td>\n",
              "      <td>200000</td>\n",
              "    </tr>\n",
              "    <tr>\n",
              "      <th>4</th>\n",
              "      <td>12709339934</td>\n",
              "      <td>11913</td>\n",
              "      <td>1</td>\n",
              "      <td>100.0</td>\n",
              "      <td>NaN</td>\n",
              "      <td>2000000</td>\n",
              "      <td>200000</td>\n",
              "    </tr>\n",
              "    <tr>\n",
              "      <th>...</th>\n",
              "      <td>...</td>\n",
              "      <td>...</td>\n",
              "      <td>...</td>\n",
              "      <td>...</td>\n",
              "      <td>...</td>\n",
              "      <td>...</td>\n",
              "      <td>...</td>\n",
              "    </tr>\n",
              "    <tr>\n",
              "      <th>591701</th>\n",
              "      <td>12709339928</td>\n",
              "      <td>11923</td>\n",
              "      <td>1</td>\n",
              "      <td>NaN</td>\n",
              "      <td>1.0</td>\n",
              "      <td>550000</td>\n",
              "      <td>550000</td>\n",
              "    </tr>\n",
              "    <tr>\n",
              "      <th>591702</th>\n",
              "      <td>12709339928</td>\n",
              "      <td>11928</td>\n",
              "      <td>1</td>\n",
              "      <td>500.0</td>\n",
              "      <td>NaN</td>\n",
              "      <td>700000</td>\n",
              "      <td>350000</td>\n",
              "    </tr>\n",
              "    <tr>\n",
              "      <th>591703</th>\n",
              "      <td>12709339928</td>\n",
              "      <td>12211</td>\n",
              "      <td>1</td>\n",
              "      <td>NaN</td>\n",
              "      <td>NaN</td>\n",
              "      <td>0</td>\n",
              "      <td>450000</td>\n",
              "    </tr>\n",
              "    <tr>\n",
              "      <th>591704</th>\n",
              "      <td>12709339928</td>\n",
              "      <td>12212</td>\n",
              "      <td>1</td>\n",
              "      <td>NaN</td>\n",
              "      <td>NaN</td>\n",
              "      <td>0</td>\n",
              "      <td>400000</td>\n",
              "    </tr>\n",
              "    <tr>\n",
              "      <th>591705</th>\n",
              "      <td>12709339928</td>\n",
              "      <td>12213</td>\n",
              "      <td>1</td>\n",
              "      <td>NaN</td>\n",
              "      <td>NaN</td>\n",
              "      <td>0</td>\n",
              "      <td>300000</td>\n",
              "    </tr>\n",
              "  </tbody>\n",
              "</table>\n",
              "<p>591706 rows × 7 columns</p>\n",
              "</div>"
            ],
            "text/plain": [
              "            Address   code  purchased   gram  kilogram    price   value\n",
              "0       12709339934  11812          1    NaN       2.0   300000  600000\n",
              "1       12709339934  11823          1  500.0       NaN   800000  400000\n",
              "2       12709339934  11841          1  500.0       NaN   500000  250000\n",
              "3       12709339934  11842          1    NaN       NaN        0  200000\n",
              "4       12709339934  11913          1  100.0       NaN  2000000  200000\n",
              "...             ...    ...        ...    ...       ...      ...     ...\n",
              "591701  12709339928  11923          1    NaN       1.0   550000  550000\n",
              "591702  12709339928  11928          1  500.0       NaN   700000  350000\n",
              "591703  12709339928  12211          1    NaN       NaN        0  450000\n",
              "591704  12709339928  12212          1    NaN       NaN        0  400000\n",
              "591705  12709339928  12213          1    NaN       NaN        0  300000\n",
              "\n",
              "[591706 rows x 7 columns]"
            ]
          },
          "execution_count": 46,
          "metadata": {},
          "output_type": "execute_result"
        }
      ],
      "source": [
        "U1401_food_cost = pd.read_excel('U1401.xlsx', engine='openpyxl', sheet_name='U1401P3S01')\n",
        "U1401_food_cost"
      ]
    },
    {
      "cell_type": "code",
      "execution_count": 47,
      "metadata": {},
      "outputs": [
        {
          "data": {
            "text/plain": [
              "(582344.9269004996, 939166.0683717928)"
            ]
          },
          "execution_count": 47,
          "metadata": {},
          "output_type": "execute_result"
        }
      ],
      "source": [
        "U1400_food_cost['value'].mean(), U1401_food_cost['value'].mean()"
      ]
    },
    {
      "cell_type": "markdown",
      "metadata": {},
      "source": [
        "حتی هزینه مواد غذایی مصرفی و خوراکی مردم در سال 1401 نسبت به 1400 افزایش یافته است برای نوشیدنی ها نیز میتوان این امار را محاسبه کرد"
      ]
    },
    {
      "cell_type": "code",
      "execution_count": 48,
      "metadata": {},
      "outputs": [
        {
          "data": {
            "text/html": [
              "<div>\n",
              "<style scoped>\n",
              "    .dataframe tbody tr th:only-of-type {\n",
              "        vertical-align: middle;\n",
              "    }\n",
              "\n",
              "    .dataframe tbody tr th {\n",
              "        vertical-align: top;\n",
              "    }\n",
              "\n",
              "    .dataframe thead th {\n",
              "        text-align: right;\n",
              "    }\n",
              "</style>\n",
              "<table border=\"1\" class=\"dataframe\">\n",
              "  <thead>\n",
              "    <tr style=\"text-align: right;\">\n",
              "      <th></th>\n",
              "      <th>Address</th>\n",
              "      <th>code</th>\n",
              "      <th>purchased</th>\n",
              "      <th>gram</th>\n",
              "      <th>kilogram</th>\n",
              "      <th>price</th>\n",
              "      <th>value</th>\n",
              "    </tr>\n",
              "  </thead>\n",
              "  <tbody>\n",
              "    <tr>\n",
              "      <th>0</th>\n",
              "      <td>10011009729</td>\n",
              "      <td>22111</td>\n",
              "      <td>1</td>\n",
              "      <td>NaN</td>\n",
              "      <td>600.0</td>\n",
              "      <td>3500.0</td>\n",
              "      <td>2100000</td>\n",
              "    </tr>\n",
              "    <tr>\n",
              "      <th>1</th>\n",
              "      <td>10001001520</td>\n",
              "      <td>22113</td>\n",
              "      <td>1</td>\n",
              "      <td>NaN</td>\n",
              "      <td>150.0</td>\n",
              "      <td>5000.0</td>\n",
              "      <td>750000</td>\n",
              "    </tr>\n",
              "    <tr>\n",
              "      <th>2</th>\n",
              "      <td>10007007222</td>\n",
              "      <td>22111</td>\n",
              "      <td>1</td>\n",
              "      <td>NaN</td>\n",
              "      <td>600.0</td>\n",
              "      <td>4000.0</td>\n",
              "      <td>2400000</td>\n",
              "    </tr>\n",
              "    <tr>\n",
              "      <th>3</th>\n",
              "      <td>10005004635</td>\n",
              "      <td>22113</td>\n",
              "      <td>1</td>\n",
              "      <td>NaN</td>\n",
              "      <td>20.0</td>\n",
              "      <td>2500.0</td>\n",
              "      <td>50000</td>\n",
              "    </tr>\n",
              "    <tr>\n",
              "      <th>4</th>\n",
              "      <td>10009008530</td>\n",
              "      <td>22111</td>\n",
              "      <td>1</td>\n",
              "      <td>NaN</td>\n",
              "      <td>120.0</td>\n",
              "      <td>3750.0</td>\n",
              "      <td>450000</td>\n",
              "    </tr>\n",
              "    <tr>\n",
              "      <th>...</th>\n",
              "      <td>...</td>\n",
              "      <td>...</td>\n",
              "      <td>...</td>\n",
              "      <td>...</td>\n",
              "      <td>...</td>\n",
              "      <td>...</td>\n",
              "      <td>...</td>\n",
              "    </tr>\n",
              "    <tr>\n",
              "      <th>3202</th>\n",
              "      <td>13002381224</td>\n",
              "      <td>22111</td>\n",
              "      <td>1</td>\n",
              "      <td>NaN</td>\n",
              "      <td>150.0</td>\n",
              "      <td>5000.0</td>\n",
              "      <td>750000</td>\n",
              "    </tr>\n",
              "    <tr>\n",
              "      <th>3203</th>\n",
              "      <td>13002381227</td>\n",
              "      <td>22111</td>\n",
              "      <td>1</td>\n",
              "      <td>NaN</td>\n",
              "      <td>300.0</td>\n",
              "      <td>5000.0</td>\n",
              "      <td>1500000</td>\n",
              "    </tr>\n",
              "    <tr>\n",
              "      <th>3204</th>\n",
              "      <td>13006382726</td>\n",
              "      <td>22113</td>\n",
              "      <td>1</td>\n",
              "      <td>NaN</td>\n",
              "      <td>300.0</td>\n",
              "      <td>10000.0</td>\n",
              "      <td>3000000</td>\n",
              "    </tr>\n",
              "    <tr>\n",
              "      <th>3205</th>\n",
              "      <td>13006382732</td>\n",
              "      <td>22111</td>\n",
              "      <td>1</td>\n",
              "      <td>NaN</td>\n",
              "      <td>600.0</td>\n",
              "      <td>9000.0</td>\n",
              "      <td>5400000</td>\n",
              "    </tr>\n",
              "    <tr>\n",
              "      <th>3206</th>\n",
              "      <td>13006382735</td>\n",
              "      <td>22113</td>\n",
              "      <td>1</td>\n",
              "      <td>NaN</td>\n",
              "      <td>600.0</td>\n",
              "      <td>10000.0</td>\n",
              "      <td>6000000</td>\n",
              "    </tr>\n",
              "  </tbody>\n",
              "</table>\n",
              "<p>3207 rows × 7 columns</p>\n",
              "</div>"
            ],
            "text/plain": [
              "          Address   code  purchased  gram  kilogram    price    value\n",
              "0     10011009729  22111          1   NaN     600.0   3500.0  2100000\n",
              "1     10001001520  22113          1   NaN     150.0   5000.0   750000\n",
              "2     10007007222  22111          1   NaN     600.0   4000.0  2400000\n",
              "3     10005004635  22113          1   NaN      20.0   2500.0    50000\n",
              "4     10009008530  22111          1   NaN     120.0   3750.0   450000\n",
              "...           ...    ...        ...   ...       ...      ...      ...\n",
              "3202  13002381224  22111          1   NaN     150.0   5000.0   750000\n",
              "3203  13002381227  22111          1   NaN     300.0   5000.0  1500000\n",
              "3204  13006382726  22113          1   NaN     300.0  10000.0  3000000\n",
              "3205  13006382732  22111          1   NaN     600.0   9000.0  5400000\n",
              "3206  13006382735  22113          1   NaN     600.0  10000.0  6000000\n",
              "\n",
              "[3207 rows x 7 columns]"
            ]
          },
          "execution_count": 48,
          "metadata": {},
          "output_type": "execute_result"
        }
      ],
      "source": [
        "U1400_drink_cost = pd.read_excel('U1400.xlsx', engine='openpyxl', sheet_name='U1400P3S02')\n",
        "U1400_drink_cost"
      ]
    },
    {
      "cell_type": "code",
      "execution_count": 49,
      "metadata": {},
      "outputs": [
        {
          "data": {
            "text/html": [
              "<div>\n",
              "<style scoped>\n",
              "    .dataframe tbody tr th:only-of-type {\n",
              "        vertical-align: middle;\n",
              "    }\n",
              "\n",
              "    .dataframe tbody tr th {\n",
              "        vertical-align: top;\n",
              "    }\n",
              "\n",
              "    .dataframe thead th {\n",
              "        text-align: right;\n",
              "    }\n",
              "</style>\n",
              "<table border=\"1\" class=\"dataframe\">\n",
              "  <thead>\n",
              "    <tr style=\"text-align: right;\">\n",
              "      <th></th>\n",
              "      <th>Address</th>\n",
              "      <th>code</th>\n",
              "      <th>purchased</th>\n",
              "      <th>gram</th>\n",
              "      <th>kilogram</th>\n",
              "      <th>price</th>\n",
              "      <th>value</th>\n",
              "    </tr>\n",
              "  </thead>\n",
              "  <tbody>\n",
              "    <tr>\n",
              "      <th>0</th>\n",
              "      <td>10001000635</td>\n",
              "      <td>22111</td>\n",
              "      <td>1</td>\n",
              "      <td>NaN</td>\n",
              "      <td>300.0</td>\n",
              "      <td>5000</td>\n",
              "      <td>1500000</td>\n",
              "    </tr>\n",
              "    <tr>\n",
              "      <th>1</th>\n",
              "      <td>10001000638</td>\n",
              "      <td>22111</td>\n",
              "      <td>1</td>\n",
              "      <td>NaN</td>\n",
              "      <td>600.0</td>\n",
              "      <td>5000</td>\n",
              "      <td>3000000</td>\n",
              "    </tr>\n",
              "    <tr>\n",
              "      <th>2</th>\n",
              "      <td>10001000641</td>\n",
              "      <td>22111</td>\n",
              "      <td>1</td>\n",
              "      <td>NaN</td>\n",
              "      <td>30.0</td>\n",
              "      <td>5000</td>\n",
              "      <td>150000</td>\n",
              "    </tr>\n",
              "    <tr>\n",
              "      <th>3</th>\n",
              "      <td>10001001125</td>\n",
              "      <td>22111</td>\n",
              "      <td>1</td>\n",
              "      <td>NaN</td>\n",
              "      <td>150.0</td>\n",
              "      <td>4000</td>\n",
              "      <td>600000</td>\n",
              "    </tr>\n",
              "    <tr>\n",
              "      <th>4</th>\n",
              "      <td>10001001527</td>\n",
              "      <td>22111</td>\n",
              "      <td>1</td>\n",
              "      <td>NaN</td>\n",
              "      <td>120.0</td>\n",
              "      <td>15000</td>\n",
              "      <td>1800000</td>\n",
              "    </tr>\n",
              "    <tr>\n",
              "      <th>...</th>\n",
              "      <td>...</td>\n",
              "      <td>...</td>\n",
              "      <td>...</td>\n",
              "      <td>...</td>\n",
              "      <td>...</td>\n",
              "      <td>...</td>\n",
              "      <td>...</td>\n",
              "    </tr>\n",
              "    <tr>\n",
              "      <th>3105</th>\n",
              "      <td>13005382241</td>\n",
              "      <td>22115</td>\n",
              "      <td>1</td>\n",
              "      <td>NaN</td>\n",
              "      <td>NaN</td>\n",
              "      <td>0</td>\n",
              "      <td>500000</td>\n",
              "    </tr>\n",
              "    <tr>\n",
              "      <th>3106</th>\n",
              "      <td>13006383038</td>\n",
              "      <td>22111</td>\n",
              "      <td>1</td>\n",
              "      <td>NaN</td>\n",
              "      <td>300.0</td>\n",
              "      <td>5000</td>\n",
              "      <td>1500000</td>\n",
              "    </tr>\n",
              "    <tr>\n",
              "      <th>3107</th>\n",
              "      <td>13006383826</td>\n",
              "      <td>22113</td>\n",
              "      <td>1</td>\n",
              "      <td>NaN</td>\n",
              "      <td>300.0</td>\n",
              "      <td>10000</td>\n",
              "      <td>3000000</td>\n",
              "    </tr>\n",
              "    <tr>\n",
              "      <th>3108</th>\n",
              "      <td>13006383835</td>\n",
              "      <td>22113</td>\n",
              "      <td>1</td>\n",
              "      <td>NaN</td>\n",
              "      <td>300.0</td>\n",
              "      <td>10000</td>\n",
              "      <td>3000000</td>\n",
              "    </tr>\n",
              "    <tr>\n",
              "      <th>3109</th>\n",
              "      <td>13006383838</td>\n",
              "      <td>22113</td>\n",
              "      <td>1</td>\n",
              "      <td>NaN</td>\n",
              "      <td>400.0</td>\n",
              "      <td>10000</td>\n",
              "      <td>4000000</td>\n",
              "    </tr>\n",
              "  </tbody>\n",
              "</table>\n",
              "<p>3110 rows × 7 columns</p>\n",
              "</div>"
            ],
            "text/plain": [
              "          Address   code  purchased  gram  kilogram  price    value\n",
              "0     10001000635  22111          1   NaN     300.0   5000  1500000\n",
              "1     10001000638  22111          1   NaN     600.0   5000  3000000\n",
              "2     10001000641  22111          1   NaN      30.0   5000   150000\n",
              "3     10001001125  22111          1   NaN     150.0   4000   600000\n",
              "4     10001001527  22111          1   NaN     120.0  15000  1800000\n",
              "...           ...    ...        ...   ...       ...    ...      ...\n",
              "3105  13005382241  22115          1   NaN       NaN      0   500000\n",
              "3106  13006383038  22111          1   NaN     300.0   5000  1500000\n",
              "3107  13006383826  22113          1   NaN     300.0  10000  3000000\n",
              "3108  13006383835  22113          1   NaN     300.0  10000  3000000\n",
              "3109  13006383838  22113          1   NaN     400.0  10000  4000000\n",
              "\n",
              "[3110 rows x 7 columns]"
            ]
          },
          "execution_count": 49,
          "metadata": {},
          "output_type": "execute_result"
        }
      ],
      "source": [
        "U1401_drink_cost = pd.read_excel('U1401.xlsx', engine='openpyxl', sheet_name='U1401P3S02')\n",
        "U1401_drink_cost"
      ]
    },
    {
      "cell_type": "code",
      "execution_count": 50,
      "metadata": {},
      "outputs": [
        {
          "data": {
            "text/plain": [
              "(2106340.8169628936, 3088575.1607717043)"
            ]
          },
          "execution_count": 50,
          "metadata": {},
          "output_type": "execute_result"
        }
      ],
      "source": [
        "U1400_drink_cost['value'].mean(), U1401_drink_cost['value'].mean()"
      ]
    },
    {
      "cell_type": "markdown",
      "metadata": {},
      "source": [
        "هزینه های نوشیدنی مصرفی مردم در سال 1401 نیز بسیار بیشتر از این هزینه های در سال قبلی بوده است\n",
        "اکنون سرمایه گذاری های انجام شده توسط مردم در سال 1401 نسبت به 1400 را بررسی می کنیم"
      ]
    },
    {
      "cell_type": "code",
      "execution_count": 51,
      "metadata": {},
      "outputs": [
        {
          "data": {
            "text/html": [
              "<div>\n",
              "<style scoped>\n",
              "    .dataframe tbody tr th:only-of-type {\n",
              "        vertical-align: middle;\n",
              "    }\n",
              "\n",
              "    .dataframe tbody tr th {\n",
              "        vertical-align: top;\n",
              "    }\n",
              "\n",
              "    .dataframe thead th {\n",
              "        text-align: right;\n",
              "    }\n",
              "</style>\n",
              "<table border=\"1\" class=\"dataframe\">\n",
              "  <thead>\n",
              "    <tr style=\"text-align: right;\">\n",
              "      <th></th>\n",
              "      <th>Address</th>\n",
              "      <th>code</th>\n",
              "      <th>purchased</th>\n",
              "      <th>value</th>\n",
              "    </tr>\n",
              "  </thead>\n",
              "  <tbody>\n",
              "    <tr>\n",
              "      <th>0</th>\n",
              "      <td>10003003229</td>\n",
              "      <td>34126</td>\n",
              "      <td>1</td>\n",
              "      <td>20000000.0</td>\n",
              "    </tr>\n",
              "    <tr>\n",
              "      <th>1</th>\n",
              "      <td>10011009735</td>\n",
              "      <td>33214</td>\n",
              "      <td>1</td>\n",
              "      <td>20000000.0</td>\n",
              "    </tr>\n",
              "    <tr>\n",
              "      <th>2</th>\n",
              "      <td>10010009325</td>\n",
              "      <td>33214</td>\n",
              "      <td>1</td>\n",
              "      <td>130000000.0</td>\n",
              "    </tr>\n",
              "    <tr>\n",
              "      <th>3</th>\n",
              "      <td>10002002832</td>\n",
              "      <td>33214</td>\n",
              "      <td>1</td>\n",
              "      <td>300000000.0</td>\n",
              "    </tr>\n",
              "    <tr>\n",
              "      <th>4</th>\n",
              "      <td>10002002832</td>\n",
              "      <td>34181</td>\n",
              "      <td>1</td>\n",
              "      <td>10000000.0</td>\n",
              "    </tr>\n",
              "    <tr>\n",
              "      <th>...</th>\n",
              "      <td>...</td>\n",
              "      <td>...</td>\n",
              "      <td>...</td>\n",
              "      <td>...</td>\n",
              "    </tr>\n",
              "    <tr>\n",
              "      <th>2524</th>\n",
              "      <td>13001373129</td>\n",
              "      <td>33214</td>\n",
              "      <td>1</td>\n",
              "      <td>300000000.0</td>\n",
              "    </tr>\n",
              "    <tr>\n",
              "      <th>2525</th>\n",
              "      <td>13001373132</td>\n",
              "      <td>33190</td>\n",
              "      <td>1</td>\n",
              "      <td>160000000.0</td>\n",
              "    </tr>\n",
              "    <tr>\n",
              "      <th>2526</th>\n",
              "      <td>13001373135</td>\n",
              "      <td>33190</td>\n",
              "      <td>1</td>\n",
              "      <td>130000000.0</td>\n",
              "    </tr>\n",
              "    <tr>\n",
              "      <th>2527</th>\n",
              "      <td>13001373135</td>\n",
              "      <td>33214</td>\n",
              "      <td>1</td>\n",
              "      <td>150000000.0</td>\n",
              "    </tr>\n",
              "    <tr>\n",
              "      <th>2528</th>\n",
              "      <td>13002380622</td>\n",
              "      <td>34272</td>\n",
              "      <td>1</td>\n",
              "      <td>230000000.0</td>\n",
              "    </tr>\n",
              "  </tbody>\n",
              "</table>\n",
              "<p>2529 rows × 4 columns</p>\n",
              "</div>"
            ],
            "text/plain": [
              "          Address   code purchased        value\n",
              "0     10003003229  34126         1   20000000.0\n",
              "1     10011009735  33214         1   20000000.0\n",
              "2     10010009325  33214         1  130000000.0\n",
              "3     10002002832  33214         1  300000000.0\n",
              "4     10002002832  34181         1   10000000.0\n",
              "...           ...    ...       ...          ...\n",
              "2524  13001373129  33214         1  300000000.0\n",
              "2525  13001373132  33190         1  160000000.0\n",
              "2526  13001373135  33190         1  130000000.0\n",
              "2527  13001373135  33214         1  150000000.0\n",
              "2528  13002380622  34272         1  230000000.0\n",
              "\n",
              "[2529 rows x 4 columns]"
            ]
          },
          "execution_count": 51,
          "metadata": {},
          "output_type": "execute_result"
        }
      ],
      "source": [
        "U1400_investment = pd.read_excel('U1400.xlsx', engine='openpyxl', sheet_name='U1400P3S14')\n",
        "U1400_investment"
      ]
    },
    {
      "cell_type": "code",
      "execution_count": 52,
      "metadata": {},
      "outputs": [
        {
          "data": {
            "text/html": [
              "<div>\n",
              "<style scoped>\n",
              "    .dataframe tbody tr th:only-of-type {\n",
              "        vertical-align: middle;\n",
              "    }\n",
              "\n",
              "    .dataframe tbody tr th {\n",
              "        vertical-align: top;\n",
              "    }\n",
              "\n",
              "    .dataframe thead th {\n",
              "        text-align: right;\n",
              "    }\n",
              "</style>\n",
              "<table border=\"1\" class=\"dataframe\">\n",
              "  <thead>\n",
              "    <tr style=\"text-align: right;\">\n",
              "      <th></th>\n",
              "      <th>Address</th>\n",
              "      <th>code</th>\n",
              "      <th>purchased</th>\n",
              "      <th>value</th>\n",
              "    </tr>\n",
              "  </thead>\n",
              "  <tbody>\n",
              "    <tr>\n",
              "      <th>0</th>\n",
              "      <td>10001000230</td>\n",
              "      <td>33190</td>\n",
              "      <td>1</td>\n",
              "      <td>000300000000</td>\n",
              "    </tr>\n",
              "    <tr>\n",
              "      <th>1</th>\n",
              "      <td>10001000625</td>\n",
              "      <td>33190</td>\n",
              "      <td>1</td>\n",
              "      <td>000161750000</td>\n",
              "    </tr>\n",
              "    <tr>\n",
              "      <th>2</th>\n",
              "      <td>10001000632</td>\n",
              "      <td>33214</td>\n",
              "      <td>1</td>\n",
              "      <td>000070000000</td>\n",
              "    </tr>\n",
              "    <tr>\n",
              "      <th>3</th>\n",
              "      <td>10001001125</td>\n",
              "      <td>33190</td>\n",
              "      <td>1</td>\n",
              "      <td>000600000000</td>\n",
              "    </tr>\n",
              "    <tr>\n",
              "      <th>4</th>\n",
              "      <td>10001001132</td>\n",
              "      <td>33190</td>\n",
              "      <td>1</td>\n",
              "      <td>000240000000</td>\n",
              "    </tr>\n",
              "    <tr>\n",
              "      <th>...</th>\n",
              "      <td>...</td>\n",
              "      <td>...</td>\n",
              "      <td>...</td>\n",
              "      <td>...</td>\n",
              "    </tr>\n",
              "    <tr>\n",
              "      <th>2202</th>\n",
              "      <td>11403177926</td>\n",
              "      <td>33134</td>\n",
              "      <td>0</td>\n",
              "      <td></td>\n",
              "    </tr>\n",
              "    <tr>\n",
              "      <th>2203</th>\n",
              "      <td>11803213331</td>\n",
              "      <td>33145</td>\n",
              "      <td>0</td>\n",
              "      <td></td>\n",
              "    </tr>\n",
              "    <tr>\n",
              "      <th>2204</th>\n",
              "      <td>11803213341</td>\n",
              "      <td>34272</td>\n",
              "      <td>0</td>\n",
              "      <td></td>\n",
              "    </tr>\n",
              "    <tr>\n",
              "      <th>2205</th>\n",
              "      <td>12602318841</td>\n",
              "      <td>33145</td>\n",
              "      <td>0</td>\n",
              "      <td></td>\n",
              "    </tr>\n",
              "    <tr>\n",
              "      <th>2206</th>\n",
              "      <td>12906363430</td>\n",
              "      <td>33338</td>\n",
              "      <td>0</td>\n",
              "      <td></td>\n",
              "    </tr>\n",
              "  </tbody>\n",
              "</table>\n",
              "<p>2207 rows × 4 columns</p>\n",
              "</div>"
            ],
            "text/plain": [
              "          Address   code  purchased         value\n",
              "0     10001000230  33190          1  000300000000\n",
              "1     10001000625  33190          1  000161750000\n",
              "2     10001000632  33214          1  000070000000\n",
              "3     10001001125  33190          1  000600000000\n",
              "4     10001001132  33190          1  000240000000\n",
              "...           ...    ...        ...           ...\n",
              "2202  11403177926  33134          0              \n",
              "2203  11803213331  33145          0              \n",
              "2204  11803213341  34272          0              \n",
              "2205  12602318841  33145          0              \n",
              "2206  12906363430  33338          0              \n",
              "\n",
              "[2207 rows x 4 columns]"
            ]
          },
          "execution_count": 52,
          "metadata": {},
          "output_type": "execute_result"
        }
      ],
      "source": [
        "U1401_investment = pd.read_excel('U1401.xlsx', engine='openpyxl', sheet_name='U1401P3S14')\n",
        "U1401_investment"
      ]
    },
    {
      "cell_type": "code",
      "execution_count": 53,
      "metadata": {},
      "outputs": [
        {
          "data": {
            "text/plain": [
              "(460081006.3266113, 562709392.8409606)"
            ]
          },
          "execution_count": 53,
          "metadata": {},
          "output_type": "execute_result"
        }
      ],
      "source": [
        "U1400_investment['value'].apply(to_int).mean(), U1401_investment['value'].apply(to_int).mean()"
      ]
    },
    {
      "cell_type": "markdown",
      "metadata": {},
      "source": [
        "مشاهده می شود که هزینه های سرمایه گذاری بین افراد شهری در سال 1401 نسبت به سال قبل افزایش یافته است این موضوع در نمودار زیر نیز قابل مشاهده است"
      ]
    },
    {
      "cell_type": "code",
      "execution_count": 54,
      "metadata": {},
      "outputs": [
        {
          "data": {
            "image/png": "[encoded data removed]",
            "text/plain": [
              "<Figure size 640x480 with 1 Axes>"
            ]
          },
          "metadata": {},
          "output_type": "display_data"
        }
      ],
      "source": [
        "min_length = min(len(U1400_investment), len(U1401_investment))\n",
        "\n",
        "plt.scatter(U1400_investment[:min_length]['value'].apply(to_int), U1401_investment[:min_length]['value'].apply(to_int))\n",
        "plt.plot(np.arange(0, 4e10, step=5e9), np.arange(0, 4e10, step=5e9), color='red')\n",
        "plt.xlabel('U1400 investment')\n",
        "plt.ylabel('U1401 investment')\n",
        "plt.title('Scatter plot for U1400 and U1401 investment')\n",
        "plt.show()"
      ]
    },
    {
      "cell_type": "code",
      "execution_count": 55,
      "metadata": {},
      "outputs": [
        {
          "data": {
            "image/png": "[encoded data removed]",
            "text/plain": [
              "<Figure size 640x480 with 1 Axes>"
            ]
          },
          "metadata": {},
          "output_type": "display_data"
        },
        {
          "data": {
            "image/png": "[encoded data removed]",
            "text/plain": [
              "<Figure size 640x480 with 1 Axes>"
            ]
          },
          "metadata": {},
          "output_type": "display_data"
        }
      ],
      "source": [
        "from scipy import stats\n",
        "\n",
        "U1400_income_normal, _ = stats.yeojohnson(U1400_income)\n",
        "U1401_income_normal, _ = stats.yeojohnson(U1401_income)\n",
        "\n",
        "plt.hist(U1400_income_normal, bins=10)\n",
        "plt.xlabel('Normalized Urban Income 1400')\n",
        "plt.title('Normalized Urban Income 1400 Distribution')\n",
        "plt.show()\n",
        "plt.hist(U1401_income_normal, bins=10)\n",
        "plt.xlabel('Normalized Urban Income 1401')\n",
        "plt.title('Normalized Urban Income 1401 Distribution')\n",
        "plt.show()"
      ]
    },
    {
      "cell_type": "code",
      "execution_count": 56,
      "metadata": {},
      "outputs": [
        {
          "name": "stderr",
          "output_type": "stream",
          "text": [
            "c:\\Users\\a\\miniconda3\\envs\\quera\\lib\\site-packages\\scipy\\stats\\_axis_nan_policy.py:531: UserWarning: scipy.stats.shapiro: For N > 5000, computed p-value may not be accurate. Current N is 58829.\n",
            "  res = hypotest_fun_out(*samples, **kwds)\n",
            "c:\\Users\\a\\miniconda3\\envs\\quera\\lib\\site-packages\\scipy\\stats\\_axis_nan_policy.py:531: UserWarning: scipy.stats.shapiro: For N > 5000, computed p-value may not be accurate. Current N is 53697.\n",
            "  res = hypotest_fun_out(*samples, **kwds)\n"
          ]
        },
        {
          "data": {
            "text/plain": [
              "(ShapiroResult(statistic=0.6183707941270489, pvalue=4.8514647450574087e-138),\n",
              " ShapiroResult(statistic=0.5983127118107952, pvalue=3.982697200434836e-137))"
            ]
          },
          "execution_count": 56,
          "metadata": {},
          "output_type": "execute_result"
        }
      ],
      "source": [
        "from scipy.stats import shapiro\n",
        "\n",
        "shapiro(U1400_income_normal), shapiro(U1401_income_normal)"
      ]
    },
    {
      "cell_type": "markdown",
      "metadata": {},
      "source": [
        "چون داده های همچنان نرمال نیستند، پس باید از روش آماری دیگری برای بررسی این سوال استفاده کرد و چون داده ها از دو نمونه متفاوت بوده و به صورت ترتیبی نیستند، میتوان \n",
        "از تست آماری \" من وایت\" استفاده کرد"
      ]
    },
    {
      "cell_type": "code",
      "execution_count": 57,
      "metadata": {},
      "outputs": [
        {
          "data": {
            "text/plain": [
              "(1281381182.0, 0.0)"
            ]
          },
          "execution_count": 57,
          "metadata": {},
          "output_type": "execute_result"
        }
      ],
      "source": [
        "from scipy.stats import mannwhitneyu\n",
        "\n",
        "u_stat, p_value = mannwhitneyu(U1400_income, U1401_income)\n",
        "u_stat, p_value"
      ]
    },
    {
      "cell_type": "markdown",
      "metadata": {},
      "source": [
        "چون مقدار پی برابر با صفر محاسبه شده است نشان می دهد که فرض اولیه ما اشتباه بوده است و در نتیجه درآمد این دو سوال در مناطق شهری با یکدیگر برابر نمی باشد"
      ]
    }
  ],
  "metadata": {
    "colab": {
      "provenance": [],
      "toc_visible": true
    },
    "kernelspec": {
      "display_name": "Python 3",
      "language": "python",
      "name": "python3"
    },
    "language_info": {
      "codemirror_mode": {
        "name": "ipython",
        "version": 3
      },
      "file_extension": ".py",
      "mimetype": "text/x-python",
      "name": "python",
      "nbconvert_exporter": "python",
      "pygments_lexer": "ipython3",
      "version": "3.9.19"
    },
    "vscode": {
      "interpreter": {
        "hash": "44e7e1b8fa2096bd5707ed7fd18b1724a2db25f4c565a7673f8b6e7bfc49d25d"
      }
    }
  },
  "nbformat": 4,
  "nbformat_minor": 0
}
