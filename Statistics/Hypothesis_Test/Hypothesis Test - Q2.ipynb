{
  "cells": [
    {
      "cell_type": "markdown",
      "metadata": {},
      "source": [
        "### 2. بررسی تفاوت ارزش خانه های شهری و روستایی"
      ]
    },
    {
      "cell_type": "code",
      "execution_count": 1,
      "metadata": {},
      "outputs": [],
      "source": [
        "import numpy as np\n",
        "import pandas as pd"
      ]
    },
    {
      "cell_type": "code",
      "execution_count": 2,
      "metadata": {},
      "outputs": [],
      "source": [
        "def calc_houses_value(file_name):\n",
        "    df_house_price = pd.read_excel(file_name, engine='openpyxl', sheet_name=file_name.split('.')[0] + 'P3S04')\n",
        "    return df_house_price    "
      ]
    },
    {
      "cell_type": "code",
      "execution_count": 3,
      "metadata": {},
      "outputs": [
        {
          "data": {
            "text/html": [
              "<div>\n",
              "<style scoped>\n",
              "    .dataframe tbody tr th:only-of-type {\n",
              "        vertical-align: middle;\n",
              "    }\n",
              "\n",
              "    .dataframe tbody tr th {\n",
              "        vertical-align: top;\n",
              "    }\n",
              "\n",
              "    .dataframe thead th {\n",
              "        text-align: right;\n",
              "    }\n",
              "</style>\n",
              "<table border=\"1\" class=\"dataframe\">\n",
              "  <thead>\n",
              "    <tr style=\"text-align: right;\">\n",
              "      <th></th>\n",
              "      <th>Address</th>\n",
              "      <th>code</th>\n",
              "      <th>mortgage</th>\n",
              "      <th>purchased</th>\n",
              "      <th>value</th>\n",
              "    </tr>\n",
              "  </thead>\n",
              "  <tbody>\n",
              "    <tr>\n",
              "      <th>0</th>\n",
              "      <td>20011395420</td>\n",
              "      <td>42111</td>\n",
              "      <td>NaN</td>\n",
              "      <td>NaN</td>\n",
              "      <td>1000000</td>\n",
              "    </tr>\n",
              "    <tr>\n",
              "      <th>1</th>\n",
              "      <td>20011395420</td>\n",
              "      <td>44418</td>\n",
              "      <td>NaN</td>\n",
              "      <td>1</td>\n",
              "      <td>20000</td>\n",
              "    </tr>\n",
              "    <tr>\n",
              "      <th>2</th>\n",
              "      <td>20011395420</td>\n",
              "      <td>45111</td>\n",
              "      <td>NaN</td>\n",
              "      <td>1</td>\n",
              "      <td>350000</td>\n",
              "    </tr>\n",
              "    <tr>\n",
              "      <th>3</th>\n",
              "      <td>20011395420</td>\n",
              "      <td>45211</td>\n",
              "      <td>NaN</td>\n",
              "      <td>1</td>\n",
              "      <td>200000</td>\n",
              "    </tr>\n",
              "    <tr>\n",
              "      <th>4</th>\n",
              "      <td>20001385412</td>\n",
              "      <td>42111</td>\n",
              "      <td>NaN</td>\n",
              "      <td>NaN</td>\n",
              "      <td>1500000</td>\n",
              "    </tr>\n",
              "  </tbody>\n",
              "</table>\n",
              "</div>"
            ],
            "text/plain": [
              "       Address   code  mortgage purchased    value\n",
              "0  20011395420  42111       NaN       NaN  1000000\n",
              "1  20011395420  44418       NaN         1    20000\n",
              "2  20011395420  45111       NaN         1   350000\n",
              "3  20011395420  45211       NaN         1   200000\n",
              "4  20001385412  42111       NaN       NaN  1500000"
            ]
          },
          "execution_count": 3,
          "metadata": {},
          "output_type": "execute_result"
        }
      ],
      "source": [
        "R98_house_price = calc_houses_value('R98.xlsx')\n",
        "R98_house_price.head()"
      ]
    },
    {
      "cell_type": "code",
      "execution_count": 4,
      "metadata": {},
      "outputs": [
        {
          "data": {
            "text/html": [
              "<div>\n",
              "<style scoped>\n",
              "    .dataframe tbody tr th:only-of-type {\n",
              "        vertical-align: middle;\n",
              "    }\n",
              "\n",
              "    .dataframe tbody tr th {\n",
              "        vertical-align: top;\n",
              "    }\n",
              "\n",
              "    .dataframe thead th {\n",
              "        text-align: right;\n",
              "    }\n",
              "</style>\n",
              "<table border=\"1\" class=\"dataframe\">\n",
              "  <thead>\n",
              "    <tr style=\"text-align: right;\">\n",
              "      <th></th>\n",
              "      <th>Address</th>\n",
              "      <th>code</th>\n",
              "      <th>mortgage</th>\n",
              "      <th>purchased</th>\n",
              "      <th>value</th>\n",
              "    </tr>\n",
              "  </thead>\n",
              "  <tbody>\n",
              "    <tr>\n",
              "      <th>0</th>\n",
              "      <td>20011394629</td>\n",
              "      <td>42111</td>\n",
              "      <td>NaN</td>\n",
              "      <td>NaN</td>\n",
              "      <td>3000000</td>\n",
              "    </tr>\n",
              "    <tr>\n",
              "      <th>1</th>\n",
              "      <td>20011394629</td>\n",
              "      <td>44111</td>\n",
              "      <td>NaN</td>\n",
              "      <td>1</td>\n",
              "      <td>150000</td>\n",
              "    </tr>\n",
              "    <tr>\n",
              "      <th>2</th>\n",
              "      <td>20011394629</td>\n",
              "      <td>44418</td>\n",
              "      <td>NaN</td>\n",
              "      <td>1</td>\n",
              "      <td>80000</td>\n",
              "    </tr>\n",
              "    <tr>\n",
              "      <th>3</th>\n",
              "      <td>20011394629</td>\n",
              "      <td>45111</td>\n",
              "      <td>NaN</td>\n",
              "      <td>1</td>\n",
              "      <td>160000</td>\n",
              "    </tr>\n",
              "    <tr>\n",
              "      <th>4</th>\n",
              "      <td>20011394629</td>\n",
              "      <td>45211</td>\n",
              "      <td>NaN</td>\n",
              "      <td>1</td>\n",
              "      <td>80000</td>\n",
              "    </tr>\n",
              "  </tbody>\n",
              "</table>\n",
              "</div>"
            ],
            "text/plain": [
              "       Address   code  mortgage purchased    value\n",
              "0  20011394629  42111       NaN       NaN  3000000\n",
              "1  20011394629  44111       NaN         1   150000\n",
              "2  20011394629  44418       NaN         1    80000\n",
              "3  20011394629  45111       NaN         1   160000\n",
              "4  20011394629  45211       NaN         1    80000"
            ]
          },
          "execution_count": 4,
          "metadata": {},
          "output_type": "execute_result"
        }
      ],
      "source": [
        "R99_house_price = calc_houses_value('R99.xlsx')\n",
        "R99_house_price.head()"
      ]
    },
    {
      "cell_type": "code",
      "execution_count": 5,
      "metadata": {},
      "outputs": [
        {
          "data": {
            "text/html": [
              "<div>\n",
              "<style scoped>\n",
              "    .dataframe tbody tr th:only-of-type {\n",
              "        vertical-align: middle;\n",
              "    }\n",
              "\n",
              "    .dataframe tbody tr th {\n",
              "        vertical-align: top;\n",
              "    }\n",
              "\n",
              "    .dataframe thead th {\n",
              "        text-align: right;\n",
              "    }\n",
              "</style>\n",
              "<table border=\"1\" class=\"dataframe\">\n",
              "  <thead>\n",
              "    <tr style=\"text-align: right;\">\n",
              "      <th></th>\n",
              "      <th>Address</th>\n",
              "      <th>code</th>\n",
              "      <th>mortgage</th>\n",
              "      <th>purchased</th>\n",
              "      <th>value</th>\n",
              "    </tr>\n",
              "  </thead>\n",
              "  <tbody>\n",
              "    <tr>\n",
              "      <th>0</th>\n",
              "      <td>20001384220</td>\n",
              "      <td>42111</td>\n",
              "      <td>NaN</td>\n",
              "      <td>NaN</td>\n",
              "      <td>23000000</td>\n",
              "    </tr>\n",
              "    <tr>\n",
              "      <th>1</th>\n",
              "      <td>20001384220</td>\n",
              "      <td>44111</td>\n",
              "      <td>NaN</td>\n",
              "      <td>1</td>\n",
              "      <td>245000</td>\n",
              "    </tr>\n",
              "    <tr>\n",
              "      <th>2</th>\n",
              "      <td>20001384220</td>\n",
              "      <td>45111</td>\n",
              "      <td>NaN</td>\n",
              "      <td>1</td>\n",
              "      <td>317000</td>\n",
              "    </tr>\n",
              "    <tr>\n",
              "      <th>3</th>\n",
              "      <td>20001384220</td>\n",
              "      <td>45211</td>\n",
              "      <td>NaN</td>\n",
              "      <td>1</td>\n",
              "      <td>396000</td>\n",
              "    </tr>\n",
              "    <tr>\n",
              "      <th>4</th>\n",
              "      <td>20001384225</td>\n",
              "      <td>42111</td>\n",
              "      <td>NaN</td>\n",
              "      <td>NaN</td>\n",
              "      <td>9000000</td>\n",
              "    </tr>\n",
              "  </tbody>\n",
              "</table>\n",
              "</div>"
            ],
            "text/plain": [
              "       Address   code  mortgage purchased     value\n",
              "0  20001384220  42111       NaN       NaN  23000000\n",
              "1  20001384220  44111       NaN         1    245000\n",
              "2  20001384220  45111       NaN         1    317000\n",
              "3  20001384220  45211       NaN         1    396000\n",
              "4  20001384225  42111       NaN       NaN   9000000"
            ]
          },
          "execution_count": 5,
          "metadata": {},
          "output_type": "execute_result"
        }
      ],
      "source": [
        "R1400_house_price = calc_houses_value('R1400.xlsx')\n",
        "R1400_house_price.head()"
      ]
    },
    {
      "cell_type": "code",
      "execution_count": 6,
      "metadata": {},
      "outputs": [
        {
          "data": {
            "text/html": [
              "<div>\n",
              "<style scoped>\n",
              "    .dataframe tbody tr th:only-of-type {\n",
              "        vertical-align: middle;\n",
              "    }\n",
              "\n",
              "    .dataframe tbody tr th {\n",
              "        vertical-align: top;\n",
              "    }\n",
              "\n",
              "    .dataframe thead th {\n",
              "        text-align: right;\n",
              "    }\n",
              "</style>\n",
              "<table border=\"1\" class=\"dataframe\">\n",
              "  <thead>\n",
              "    <tr style=\"text-align: right;\">\n",
              "      <th></th>\n",
              "      <th>Address</th>\n",
              "      <th>code</th>\n",
              "      <th>mortgage</th>\n",
              "      <th>purchased</th>\n",
              "      <th>value</th>\n",
              "    </tr>\n",
              "  </thead>\n",
              "  <tbody>\n",
              "    <tr>\n",
              "      <th>0</th>\n",
              "      <td>20001384225</td>\n",
              "      <td>44111</td>\n",
              "      <td></td>\n",
              "      <td>1</td>\n",
              "      <td>300000</td>\n",
              "    </tr>\n",
              "    <tr>\n",
              "      <th>1</th>\n",
              "      <td>20001384225</td>\n",
              "      <td>45111</td>\n",
              "      <td></td>\n",
              "      <td>1</td>\n",
              "      <td>360000</td>\n",
              "    </tr>\n",
              "    <tr>\n",
              "      <th>2</th>\n",
              "      <td>20001384225</td>\n",
              "      <td>45211</td>\n",
              "      <td></td>\n",
              "      <td>1</td>\n",
              "      <td>460000</td>\n",
              "    </tr>\n",
              "    <tr>\n",
              "      <th>3</th>\n",
              "      <td>20001384225</td>\n",
              "      <td>42111</td>\n",
              "      <td></td>\n",
              "      <td></td>\n",
              "      <td>11000000</td>\n",
              "    </tr>\n",
              "    <tr>\n",
              "      <th>4</th>\n",
              "      <td>20001384229</td>\n",
              "      <td>41111</td>\n",
              "      <td></td>\n",
              "      <td>1</td>\n",
              "      <td>7000000</td>\n",
              "    </tr>\n",
              "  </tbody>\n",
              "</table>\n",
              "</div>"
            ],
            "text/plain": [
              "       Address   code     mortgage purchased     value\n",
              "0  20001384225  44111                      1    300000\n",
              "1  20001384225  45111                      1    360000\n",
              "2  20001384225  45211                      1    460000\n",
              "3  20001384225  42111                         11000000\n",
              "4  20001384229  41111                      1   7000000"
            ]
          },
          "execution_count": 6,
          "metadata": {},
          "output_type": "execute_result"
        }
      ],
      "source": [
        "R1401_house_price = calc_houses_value('R1401.xlsx')\n",
        "R1401_house_price.head()"
      ]
    },
    {
      "cell_type": "code",
      "execution_count": 7,
      "metadata": {},
      "outputs": [
        {
          "data": {
            "text/html": [
              "<div>\n",
              "<style scoped>\n",
              "    .dataframe tbody tr th:only-of-type {\n",
              "        vertical-align: middle;\n",
              "    }\n",
              "\n",
              "    .dataframe tbody tr th {\n",
              "        vertical-align: top;\n",
              "    }\n",
              "\n",
              "    .dataframe thead th {\n",
              "        text-align: right;\n",
              "    }\n",
              "</style>\n",
              "<table border=\"1\" class=\"dataframe\">\n",
              "  <thead>\n",
              "    <tr style=\"text-align: right;\">\n",
              "      <th></th>\n",
              "      <th>Address</th>\n",
              "      <th>code</th>\n",
              "      <th>mortgage</th>\n",
              "      <th>purchased</th>\n",
              "      <th>value</th>\n",
              "    </tr>\n",
              "  </thead>\n",
              "  <tbody>\n",
              "    <tr>\n",
              "      <th>0</th>\n",
              "      <td>10004004223</td>\n",
              "      <td>42111</td>\n",
              "      <td>NaN</td>\n",
              "      <td>NaN</td>\n",
              "      <td>8000000</td>\n",
              "    </tr>\n",
              "    <tr>\n",
              "      <th>1</th>\n",
              "      <td>10004004223</td>\n",
              "      <td>44111</td>\n",
              "      <td>NaN</td>\n",
              "      <td>1</td>\n",
              "      <td>200000</td>\n",
              "    </tr>\n",
              "    <tr>\n",
              "      <th>2</th>\n",
              "      <td>10004004223</td>\n",
              "      <td>44311</td>\n",
              "      <td>NaN</td>\n",
              "      <td>1</td>\n",
              "      <td>100000</td>\n",
              "    </tr>\n",
              "    <tr>\n",
              "      <th>3</th>\n",
              "      <td>10004004223</td>\n",
              "      <td>45111</td>\n",
              "      <td>NaN</td>\n",
              "      <td>1</td>\n",
              "      <td>400000</td>\n",
              "    </tr>\n",
              "    <tr>\n",
              "      <th>4</th>\n",
              "      <td>10004004223</td>\n",
              "      <td>45211</td>\n",
              "      <td>NaN</td>\n",
              "      <td>1</td>\n",
              "      <td>200000</td>\n",
              "    </tr>\n",
              "  </tbody>\n",
              "</table>\n",
              "</div>"
            ],
            "text/plain": [
              "       Address   code mortgage purchased    value\n",
              "0  10004004223  42111      NaN       NaN  8000000\n",
              "1  10004004223  44111      NaN         1   200000\n",
              "2  10004004223  44311      NaN         1   100000\n",
              "3  10004004223  45111      NaN         1   400000\n",
              "4  10004004223  45211      NaN         1   200000"
            ]
          },
          "execution_count": 7,
          "metadata": {},
          "output_type": "execute_result"
        }
      ],
      "source": [
        "U98_house_price = calc_houses_value('U98.xlsx')\n",
        "U98_house_price.head()"
      ]
    },
    {
      "cell_type": "code",
      "execution_count": 8,
      "metadata": {},
      "outputs": [
        {
          "data": {
            "text/html": [
              "<div>\n",
              "<style scoped>\n",
              "    .dataframe tbody tr th:only-of-type {\n",
              "        vertical-align: middle;\n",
              "    }\n",
              "\n",
              "    .dataframe tbody tr th {\n",
              "        vertical-align: top;\n",
              "    }\n",
              "\n",
              "    .dataframe thead th {\n",
              "        text-align: right;\n",
              "    }\n",
              "</style>\n",
              "<table border=\"1\" class=\"dataframe\">\n",
              "  <thead>\n",
              "    <tr style=\"text-align: right;\">\n",
              "      <th></th>\n",
              "      <th>Address</th>\n",
              "      <th>code</th>\n",
              "      <th>mortgage</th>\n",
              "      <th>purchased</th>\n",
              "      <th>value</th>\n",
              "    </tr>\n",
              "  </thead>\n",
              "  <tbody>\n",
              "    <tr>\n",
              "      <th>0</th>\n",
              "      <td>10009008517</td>\n",
              "      <td>42111</td>\n",
              "      <td>NaN</td>\n",
              "      <td>NaN</td>\n",
              "      <td>8000000</td>\n",
              "    </tr>\n",
              "    <tr>\n",
              "      <th>1</th>\n",
              "      <td>10009008517</td>\n",
              "      <td>44111</td>\n",
              "      <td>NaN</td>\n",
              "      <td>1</td>\n",
              "      <td>160000</td>\n",
              "    </tr>\n",
              "    <tr>\n",
              "      <th>2</th>\n",
              "      <td>10009008517</td>\n",
              "      <td>45111</td>\n",
              "      <td>NaN</td>\n",
              "      <td>1</td>\n",
              "      <td>320000</td>\n",
              "    </tr>\n",
              "    <tr>\n",
              "      <th>3</th>\n",
              "      <td>10009008517</td>\n",
              "      <td>45211</td>\n",
              "      <td>NaN</td>\n",
              "      <td>1</td>\n",
              "      <td>196000</td>\n",
              "    </tr>\n",
              "    <tr>\n",
              "      <th>4</th>\n",
              "      <td>10009008518</td>\n",
              "      <td>42111</td>\n",
              "      <td>NaN</td>\n",
              "      <td>NaN</td>\n",
              "      <td>7000000</td>\n",
              "    </tr>\n",
              "  </tbody>\n",
              "</table>\n",
              "</div>"
            ],
            "text/plain": [
              "       Address   code  mortgage purchased    value\n",
              "0  10009008517  42111       NaN       NaN  8000000\n",
              "1  10009008517  44111       NaN         1   160000\n",
              "2  10009008517  45111       NaN         1   320000\n",
              "3  10009008517  45211       NaN         1   196000\n",
              "4  10009008518  42111       NaN       NaN  7000000"
            ]
          },
          "execution_count": 8,
          "metadata": {},
          "output_type": "execute_result"
        }
      ],
      "source": [
        "U99_house_price = calc_houses_value('U99.xlsx')\n",
        "U99_house_price.head()"
      ]
    },
    {
      "cell_type": "code",
      "execution_count": 9,
      "metadata": {},
      "outputs": [
        {
          "data": {
            "text/html": [
              "<div>\n",
              "<style scoped>\n",
              "    .dataframe tbody tr th:only-of-type {\n",
              "        vertical-align: middle;\n",
              "    }\n",
              "\n",
              "    .dataframe tbody tr th {\n",
              "        vertical-align: top;\n",
              "    }\n",
              "\n",
              "    .dataframe thead th {\n",
              "        text-align: right;\n",
              "    }\n",
              "</style>\n",
              "<table border=\"1\" class=\"dataframe\">\n",
              "  <thead>\n",
              "    <tr style=\"text-align: right;\">\n",
              "      <th></th>\n",
              "      <th>Address</th>\n",
              "      <th>code</th>\n",
              "      <th>mortgage</th>\n",
              "      <th>purchased</th>\n",
              "      <th>value</th>\n",
              "    </tr>\n",
              "  </thead>\n",
              "  <tbody>\n",
              "    <tr>\n",
              "      <th>0</th>\n",
              "      <td>10011009725</td>\n",
              "      <td>42214</td>\n",
              "      <td>NaN</td>\n",
              "      <td>8</td>\n",
              "      <td>7000000</td>\n",
              "    </tr>\n",
              "    <tr>\n",
              "      <th>1</th>\n",
              "      <td>10011009725</td>\n",
              "      <td>44111</td>\n",
              "      <td>NaN</td>\n",
              "      <td>1</td>\n",
              "      <td>250000</td>\n",
              "    </tr>\n",
              "    <tr>\n",
              "      <th>2</th>\n",
              "      <td>10011009725</td>\n",
              "      <td>45111</td>\n",
              "      <td>NaN</td>\n",
              "      <td>1</td>\n",
              "      <td>330000</td>\n",
              "    </tr>\n",
              "    <tr>\n",
              "      <th>3</th>\n",
              "      <td>10011009725</td>\n",
              "      <td>45211</td>\n",
              "      <td>NaN</td>\n",
              "      <td>1</td>\n",
              "      <td>220000</td>\n",
              "    </tr>\n",
              "    <tr>\n",
              "      <th>4</th>\n",
              "      <td>10003003235</td>\n",
              "      <td>41111</td>\n",
              "      <td>NaN</td>\n",
              "      <td>1</td>\n",
              "      <td>5000000</td>\n",
              "    </tr>\n",
              "  </tbody>\n",
              "</table>\n",
              "</div>"
            ],
            "text/plain": [
              "       Address   code  mortgage purchased    value\n",
              "0  10011009725  42214       NaN         8  7000000\n",
              "1  10011009725  44111       NaN         1   250000\n",
              "2  10011009725  45111       NaN         1   330000\n",
              "3  10011009725  45211       NaN         1   220000\n",
              "4  10003003235  41111       NaN         1  5000000"
            ]
          },
          "execution_count": 9,
          "metadata": {},
          "output_type": "execute_result"
        }
      ],
      "source": [
        "U1400_house_price = calc_houses_value('U1400.xlsx')\n",
        "U1400_house_price.head()"
      ]
    },
    {
      "cell_type": "code",
      "execution_count": 10,
      "metadata": {},
      "outputs": [
        {
          "data": {
            "text/html": [
              "<div>\n",
              "<style scoped>\n",
              "    .dataframe tbody tr th:only-of-type {\n",
              "        vertical-align: middle;\n",
              "    }\n",
              "\n",
              "    .dataframe tbody tr th {\n",
              "        vertical-align: top;\n",
              "    }\n",
              "\n",
              "    .dataframe thead th {\n",
              "        text-align: right;\n",
              "    }\n",
              "</style>\n",
              "<table border=\"1\" class=\"dataframe\">\n",
              "  <thead>\n",
              "    <tr style=\"text-align: right;\">\n",
              "      <th></th>\n",
              "      <th>Address</th>\n",
              "      <th>code</th>\n",
              "      <th>mortgage</th>\n",
              "      <th>purchased</th>\n",
              "      <th>value</th>\n",
              "    </tr>\n",
              "  </thead>\n",
              "  <tbody>\n",
              "    <tr>\n",
              "      <th>0</th>\n",
              "      <td>10001000226</td>\n",
              "      <td>41111</td>\n",
              "      <td></td>\n",
              "      <td>1</td>\n",
              "      <td>20000000</td>\n",
              "    </tr>\n",
              "    <tr>\n",
              "      <th>1</th>\n",
              "      <td>10001000226</td>\n",
              "      <td>42212</td>\n",
              "      <td>0100000000</td>\n",
              "      <td>1</td>\n",
              "      <td>3000000</td>\n",
              "    </tr>\n",
              "    <tr>\n",
              "      <th>2</th>\n",
              "      <td>10001000226</td>\n",
              "      <td>44111</td>\n",
              "      <td></td>\n",
              "      <td>1</td>\n",
              "      <td>300000</td>\n",
              "    </tr>\n",
              "    <tr>\n",
              "      <th>3</th>\n",
              "      <td>10001000226</td>\n",
              "      <td>45111</td>\n",
              "      <td></td>\n",
              "      <td>1</td>\n",
              "      <td>300000</td>\n",
              "    </tr>\n",
              "    <tr>\n",
              "      <th>4</th>\n",
              "      <td>10001000226</td>\n",
              "      <td>45211</td>\n",
              "      <td></td>\n",
              "      <td>1</td>\n",
              "      <td>50000</td>\n",
              "    </tr>\n",
              "  </tbody>\n",
              "</table>\n",
              "</div>"
            ],
            "text/plain": [
              "       Address   code     mortgage purchased     value\n",
              "0  10001000226  41111                      1  20000000\n",
              "1  10001000226  42212  0100000000          1   3000000\n",
              "2  10001000226  44111                      1    300000\n",
              "3  10001000226  45111                      1    300000\n",
              "4  10001000226  45211                      1     50000"
            ]
          },
          "execution_count": 10,
          "metadata": {},
          "output_type": "execute_result"
        }
      ],
      "source": [
        "U1401_house_price = calc_houses_value('U1401.xlsx')\n",
        "U1401_house_price.head()"
      ]
    },
    {
      "cell_type": "markdown",
      "metadata": {},
      "source": [
        "### مقایسه قیمت خانه های شهری و روستایی سال 1398"
      ]
    },
    {
      "cell_type": "code",
      "execution_count": 11,
      "metadata": {},
      "outputs": [
        {
          "data": {
            "text/plain": [
              "(969446.108700394, 2128747.865530435)"
            ]
          },
          "execution_count": 11,
          "metadata": {},
          "output_type": "execute_result"
        }
      ],
      "source": [
        "R98_house_price['value'].mean(), U98_house_price['value'].mean()"
      ]
    },
    {
      "cell_type": "code",
      "execution_count": 12,
      "metadata": {},
      "outputs": [
        {
          "data": {
            "text/plain": [
              "(1722758.221371, 5319004.87229648)"
            ]
          },
          "execution_count": 12,
          "metadata": {},
          "output_type": "execute_result"
        }
      ],
      "source": [
        "R98_house_price['value'].std(), U98_house_price['value'].std()"
      ]
    },
    {
      "cell_type": "code",
      "execution_count": 13,
      "metadata": {},
      "outputs": [
        {
          "data": {
            "text/plain": [
              "(array([6.7867e+04, 7.6100e+02, 8.4000e+01, 3.9000e+01, 9.0000e+00,\n",
              "        0.0000e+00, 2.0000e+00, 2.0000e+00, 0.0000e+00, 3.0000e+00]),\n",
              " array([4.00000e+03, 6.50360e+06, 1.30032e+07, 1.95028e+07, 2.60024e+07,\n",
              "        3.25020e+07, 3.90016e+07, 4.55012e+07, 5.20008e+07, 5.85004e+07,\n",
              "        6.50000e+07]),\n",
              " <BarContainer object of 10 artists>)"
            ]
          },
          "execution_count": 13,
          "metadata": {},
          "output_type": "execute_result"
        },
        {
          "data": {
            "image/png": "[encoded data removed]",
            "text/plain": [
              "<Figure size 640x480 with 1 Axes>"
            ]
          },
          "metadata": {},
          "output_type": "display_data"
        }
      ],
      "source": [
        "import matplotlib.pyplot as plt\n",
        "\n",
        "plt.hist(R98_house_price['value'])"
      ]
    },
    {
      "cell_type": "code",
      "execution_count": 14,
      "metadata": {},
      "outputs": [
        {
          "data": {
            "text/plain": [
              "(array([8.5313e+04, 6.9700e+02, 1.6300e+02, 3.4000e+01, 3.0000e+01,\n",
              "        5.0000e+00, 1.0000e+00, 5.0000e+00, 0.0000e+00, 2.0000e+00]),\n",
              " array([1.00000e+04, 2.00090e+07, 4.00080e+07, 6.00070e+07, 8.00060e+07,\n",
              "        1.00005e+08, 1.20004e+08, 1.40003e+08, 1.60002e+08, 1.80001e+08,\n",
              "        2.00000e+08]),\n",
              " <BarContainer object of 10 artists>)"
            ]
          },
          "execution_count": 14,
          "metadata": {},
          "output_type": "execute_result"
        },
        {
          "data": {
            "image/png": "[encoded data removed]",
            "text/plain": [
              "<Figure size 640x480 with 1 Axes>"
            ]
          },
          "metadata": {},
          "output_type": "display_data"
        }
      ],
      "source": [
        "plt.hist(U98_house_price['value'])"
      ]
    },
    {
      "cell_type": "code",
      "execution_count": 15,
      "metadata": {},
      "outputs": [
        {
          "data": {
            "text/plain": [
              "(array([1.0000e+00, 1.2000e+01, 4.6000e+01, 6.4600e+02, 4.6850e+03,\n",
              "        1.8804e+04, 2.0865e+04, 1.2048e+04, 1.1230e+04, 4.3000e+02]),\n",
              " array([4.5422165 , 4.66770947, 4.79320245, 4.91869543, 5.0441884 ,\n",
              "        5.16968138, 5.29517435, 5.42066733, 5.5461603 , 5.67165328,\n",
              "        5.79714625]),\n",
              " <BarContainer object of 10 artists>)"
            ]
          },
          "execution_count": 15,
          "metadata": {},
          "output_type": "execute_result"
        },
        {
          "data": {
            "image/png": "[encoded data removed]",
            "text/plain": [
              "<Figure size 640x480 with 1 Axes>"
            ]
          },
          "metadata": {},
          "output_type": "display_data"
        }
      ],
      "source": [
        "from scipy import stats\n",
        "\n",
        "R98_house_price_normal, _ = stats.yeojohnson(R98_house_price['value'])\n",
        "plt.hist(R98_house_price_normal, bins=10)"
      ]
    },
    {
      "cell_type": "code",
      "execution_count": 16,
      "metadata": {},
      "outputs": [
        {
          "data": {
            "text/plain": [
              "(array([   36.,   129.,   587.,  3901., 10865., 23028., 21767.,  7084.,\n",
              "        16514.,  2339.]),\n",
              " array([3.85516106, 3.90357135, 3.95198164, 4.00039192, 4.04880221,\n",
              "        4.0972125 , 4.14562279, 4.19403307, 4.24244336, 4.29085365,\n",
              "        4.33926393]),\n",
              " <BarContainer object of 10 artists>)"
            ]
          },
          "execution_count": 16,
          "metadata": {},
          "output_type": "execute_result"
        },
        {
          "data": {
            "image/png": "[encoded data removed]",
            "text/plain": [
              "<Figure size 640x480 with 1 Axes>"
            ]
          },
          "metadata": {},
          "output_type": "display_data"
        }
      ],
      "source": [
        "U98_house_price_normal, _ = stats.yeojohnson(U98_house_price['value'])\n",
        "plt.hist(U98_house_price_normal, bins=10)"
      ]
    },
    {
      "cell_type": "code",
      "execution_count": null,
      "metadata": {},
      "outputs": [],
      "source": [
        "x1 = U98_house_price_normal.mean()\n",
        "s1 = U98_house_price_normal.std(ddof=1)\n",
        "x2 = R98_house_price_normal.mean()\n",
        "s2 = R98_house_price_normal.std(ddof=1)\n",
        "\n",
        "x1, s1, x2, s2"
      ]
    },
    {
      "cell_type": "markdown",
      "metadata": {},
      "source": [
        "### سال 1398"
      ]
    },
    {
      "cell_type": "code",
      "execution_count": 17,
      "metadata": {},
      "outputs": [
        {
          "data": {
            "text/plain": [
              "(60.173373737659084, 0.0)"
            ]
          },
          "execution_count": 17,
          "metadata": {},
          "output_type": "execute_result"
        }
      ],
      "source": [
        "from scipy import stats\n",
        "\n",
        "n1 = len(U98_house_price['value'])\n",
        "n2 = len(R98_house_price['value'])\n",
        "x1 = U98_house_price['value'].mean()\n",
        "x2 = R98_house_price['value'].mean()\n",
        "s1 = U98_house_price['value'].std(ddof=1)\n",
        "s2 = R98_house_price['value'].std(ddof=1)\n",
        "\n",
        "degree_of_freedom = n1 + n2 - 2\n",
        "t_value = (x1 - x2) / np.sqrt((s1 ** 2) / n1 + (s2 ** 2) / n2)\n",
        "p_value = 1 - stats.t.cdf(t_value, degree_of_freedom)\n",
        "\n",
        "t_value, p_value"
      ]
    },
    {
      "cell_type": "markdown",
      "metadata": {},
      "source": [
        "### سال 1399"
      ]
    },
    {
      "cell_type": "code",
      "execution_count": 18,
      "metadata": {},
      "outputs": [
        {
          "data": {
            "text/plain": [
              "(54.97002773321749, 0.0)"
            ]
          },
          "execution_count": 18,
          "metadata": {},
          "output_type": "execute_result"
        }
      ],
      "source": [
        "from scipy import stats\n",
        "\n",
        "n1 = len(U99_house_price['value'])\n",
        "n2 = len(R99_house_price['value'])\n",
        "x1 = U99_house_price['value'].mean()\n",
        "x2 = R99_house_price['value'].mean()\n",
        "s1 = U99_house_price['value'].std(ddof=1)\n",
        "s2 = R99_house_price['value'].std(ddof=1)\n",
        "\n",
        "degree_of_freedom = n1 + n2 - 2\n",
        "t_value = (x1 - x2) / np.sqrt((s1 ** 2) / n1 + (s2 ** 2) / n2)\n",
        "p_value = 1 - stats.t.cdf(t_value, degree_of_freedom)\n",
        "\n",
        "t_value, p_value"
      ]
    },
    {
      "cell_type": "markdown",
      "metadata": {},
      "source": [
        "### سال 1400"
      ]
    },
    {
      "cell_type": "code",
      "execution_count": 19,
      "metadata": {},
      "outputs": [
        {
          "data": {
            "text/plain": [
              "(58.734581545898614, 0.0)"
            ]
          },
          "execution_count": 19,
          "metadata": {},
          "output_type": "execute_result"
        }
      ],
      "source": [
        "from scipy import stats\n",
        "\n",
        "n1 = len(U1400_house_price['value'])\n",
        "n2 = len(R1400_house_price['value'])\n",
        "x1 = U1400_house_price['value'].mean()\n",
        "x2 = R1400_house_price['value'].mean()\n",
        "s1 = U1400_house_price['value'].std(ddof=1)\n",
        "s2 = R1400_house_price['value'].std(ddof=1)\n",
        "\n",
        "degree_of_freedom = n1 + n2 - 2\n",
        "t_value = (x1 - x2) / np.sqrt((s1 ** 2) / n1 + (s2 ** 2) / n2)\n",
        "p_value = 1 - stats.t.cdf(t_value, degree_of_freedom)\n",
        "\n",
        "t_value, p_value"
      ]
    },
    {
      "cell_type": "markdown",
      "metadata": {},
      "source": [
        "### سال 1401"
      ]
    },
    {
      "cell_type": "code",
      "execution_count": 20,
      "metadata": {},
      "outputs": [
        {
          "data": {
            "text/plain": [
              "(59.46252047501706, 0.0)"
            ]
          },
          "execution_count": 20,
          "metadata": {},
          "output_type": "execute_result"
        }
      ],
      "source": [
        "from scipy import stats\n",
        "\n",
        "n1 = len(U1401_house_price['value'])\n",
        "n2 = len(R1401_house_price['value'])\n",
        "x1 = U1401_house_price['value'].mean()\n",
        "x2 = R1401_house_price['value'].mean()\n",
        "s1 = U1401_house_price['value'].std(ddof=1)\n",
        "s2 = R1401_house_price['value'].std(ddof=1)\n",
        "\n",
        "degree_of_freedom = n1 + n2 - 2\n",
        "t_value = (x1 - x2) / np.sqrt((s1 ** 2) / n1 + (s2 ** 2) / n2)\n",
        "p_value = 1 - stats.t.cdf(t_value, degree_of_freedom)\n",
        "\n",
        "t_value, p_value"
      ]
    },
    {
      "cell_type": "markdown",
      "metadata": {},
      "source": [
        "چون مقدار متغیر پی برابر با صفر محاسبه شده است، بنابراین فرض اولیه که ارزش یکسان خانه های شهری و روستایی است \n",
        "باطل شده و نتیجه می شود تفاوت محسوسی بین قیمت خانه های شهری و روستایی وجود دارد"
      ]
    }
  ],
  "metadata": {
    "colab": {
      "provenance": [],
      "toc_visible": true
    },
    "kernelspec": {
      "display_name": "Python 3",
      "language": "python",
      "name": "python3"
    },
    "language_info": {
      "codemirror_mode": {
        "name": "ipython",
        "version": 3
      },
      "file_extension": ".py",
      "mimetype": "text/x-python",
      "name": "python",
      "nbconvert_exporter": "python",
      "pygments_lexer": "ipython3",
      "version": "3.9.19"
    },
    "vscode": {
      "interpreter": {
        "hash": "44e7e1b8fa2096bd5707ed7fd18b1724a2db25f4c565a7673f8b6e7bfc49d25d"
      }
    }
  },
  "nbformat": 4,
  "nbformat_minor": 0
}
