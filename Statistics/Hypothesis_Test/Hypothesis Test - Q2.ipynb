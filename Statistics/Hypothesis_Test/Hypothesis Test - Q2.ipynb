{
 "cells": [
  {
   "cell_type": "markdown",
   "metadata": {},
   "source": [
    "### 2. بررسی تفاوت ارزش خانه های شهری و روستایی"
   ]
  },
  {
   "cell_type": "code",
   "execution_count": 7,
   "metadata": {},
   "outputs": [],
   "source": [
    "import numpy as np\n",
    "import pandas as pd"
   ]
  },
  {
   "cell_type": "code",
   "execution_count": 8,
   "metadata": {},
   "outputs": [],
   "source": [
    "def calc_houses_value(file_name):\n",
    "    df_house_price = pd.read_excel(file_name, engine='openpyxl', sheet_name=file_name.split('.')[0] + 'P3S04')\n",
    "    return df_house_price    "
   ]
  },
  {
   "cell_type": "code",
   "execution_count": 9,
   "metadata": {},
   "outputs": [
    {
     "data": {
      "text/html": [
       "<div>\n",
       "<style scoped>\n",
       "    .dataframe tbody tr th:only-of-type {\n",
       "        vertical-align: middle;\n",
       "    }\n",
       "\n",
       "    .dataframe tbody tr th {\n",
       "        vertical-align: top;\n",
       "    }\n",
       "\n",
       "    .dataframe thead th {\n",
       "        text-align: right;\n",
       "    }\n",
       "</style>\n",
       "<table border=\"1\" class=\"dataframe\">\n",
       "  <thead>\n",
       "    <tr style=\"text-align: right;\">\n",
       "      <th></th>\n",
       "      <th>Address</th>\n",
       "      <th>code</th>\n",
       "      <th>mortgage</th>\n",
       "      <th>purchased</th>\n",
       "      <th>value</th>\n",
       "    </tr>\n",
       "  </thead>\n",
       "  <tbody>\n",
       "    <tr>\n",
       "      <th>0</th>\n",
       "      <td>20011395420</td>\n",
       "      <td>42111</td>\n",
       "      <td>NaN</td>\n",
       "      <td>NaN</td>\n",
       "      <td>1000000</td>\n",
       "    </tr>\n",
       "    <tr>\n",
       "      <th>1</th>\n",
       "      <td>20011395420</td>\n",
       "      <td>44418</td>\n",
       "      <td>NaN</td>\n",
       "      <td>1</td>\n",
       "      <td>20000</td>\n",
       "    </tr>\n",
       "    <tr>\n",
       "      <th>2</th>\n",
       "      <td>20011395420</td>\n",
       "      <td>45111</td>\n",
       "      <td>NaN</td>\n",
       "      <td>1</td>\n",
       "      <td>350000</td>\n",
       "    </tr>\n",
       "    <tr>\n",
       "      <th>3</th>\n",
       "      <td>20011395420</td>\n",
       "      <td>45211</td>\n",
       "      <td>NaN</td>\n",
       "      <td>1</td>\n",
       "      <td>200000</td>\n",
       "    </tr>\n",
       "    <tr>\n",
       "      <th>4</th>\n",
       "      <td>20001385412</td>\n",
       "      <td>42111</td>\n",
       "      <td>NaN</td>\n",
       "      <td>NaN</td>\n",
       "      <td>1500000</td>\n",
       "    </tr>\n",
       "  </tbody>\n",
       "</table>\n",
       "</div>"
      ],
      "text/plain": [
       "       Address   code  mortgage purchased    value\n",
       "0  20011395420  42111       NaN       NaN  1000000\n",
       "1  20011395420  44418       NaN         1    20000\n",
       "2  20011395420  45111       NaN         1   350000\n",
       "3  20011395420  45211       NaN         1   200000\n",
       "4  20001385412  42111       NaN       NaN  1500000"
      ]
     },
     "execution_count": 9,
     "metadata": {},
     "output_type": "execute_result"
    }
   ],
   "source": [
    "R98_house_price = calc_houses_value('R98.xlsx')\n",
    "R98_house_price.head()"
   ]
  },
  {
   "cell_type": "code",
   "execution_count": 10,
   "metadata": {},
   "outputs": [
    {
     "data": {
      "text/html": [
       "<div>\n",
       "<style scoped>\n",
       "    .dataframe tbody tr th:only-of-type {\n",
       "        vertical-align: middle;\n",
       "    }\n",
       "\n",
       "    .dataframe tbody tr th {\n",
       "        vertical-align: top;\n",
       "    }\n",
       "\n",
       "    .dataframe thead th {\n",
       "        text-align: right;\n",
       "    }\n",
       "</style>\n",
       "<table border=\"1\" class=\"dataframe\">\n",
       "  <thead>\n",
       "    <tr style=\"text-align: right;\">\n",
       "      <th></th>\n",
       "      <th>Address</th>\n",
       "      <th>code</th>\n",
       "      <th>mortgage</th>\n",
       "      <th>purchased</th>\n",
       "      <th>value</th>\n",
       "    </tr>\n",
       "  </thead>\n",
       "  <tbody>\n",
       "    <tr>\n",
       "      <th>0</th>\n",
       "      <td>20011394629</td>\n",
       "      <td>42111</td>\n",
       "      <td>NaN</td>\n",
       "      <td>NaN</td>\n",
       "      <td>3000000</td>\n",
       "    </tr>\n",
       "    <tr>\n",
       "      <th>1</th>\n",
       "      <td>20011394629</td>\n",
       "      <td>44111</td>\n",
       "      <td>NaN</td>\n",
       "      <td>1</td>\n",
       "      <td>150000</td>\n",
       "    </tr>\n",
       "    <tr>\n",
       "      <th>2</th>\n",
       "      <td>20011394629</td>\n",
       "      <td>44418</td>\n",
       "      <td>NaN</td>\n",
       "      <td>1</td>\n",
       "      <td>80000</td>\n",
       "    </tr>\n",
       "    <tr>\n",
       "      <th>3</th>\n",
       "      <td>20011394629</td>\n",
       "      <td>45111</td>\n",
       "      <td>NaN</td>\n",
       "      <td>1</td>\n",
       "      <td>160000</td>\n",
       "    </tr>\n",
       "    <tr>\n",
       "      <th>4</th>\n",
       "      <td>20011394629</td>\n",
       "      <td>45211</td>\n",
       "      <td>NaN</td>\n",
       "      <td>1</td>\n",
       "      <td>80000</td>\n",
       "    </tr>\n",
       "  </tbody>\n",
       "</table>\n",
       "</div>"
      ],
      "text/plain": [
       "       Address   code  mortgage purchased    value\n",
       "0  20011394629  42111       NaN       NaN  3000000\n",
       "1  20011394629  44111       NaN         1   150000\n",
       "2  20011394629  44418       NaN         1    80000\n",
       "3  20011394629  45111       NaN         1   160000\n",
       "4  20011394629  45211       NaN         1    80000"
      ]
     },
     "execution_count": 10,
     "metadata": {},
     "output_type": "execute_result"
    }
   ],
   "source": [
    "R99_house_price = calc_houses_value('R99.xlsx')\n",
    "R99_house_price.head()"
   ]
  },
  {
   "cell_type": "code",
   "execution_count": 11,
   "metadata": {},
   "outputs": [
    {
     "data": {
      "text/html": [
       "<div>\n",
       "<style scoped>\n",
       "    .dataframe tbody tr th:only-of-type {\n",
       "        vertical-align: middle;\n",
       "    }\n",
       "\n",
       "    .dataframe tbody tr th {\n",
       "        vertical-align: top;\n",
       "    }\n",
       "\n",
       "    .dataframe thead th {\n",
       "        text-align: right;\n",
       "    }\n",
       "</style>\n",
       "<table border=\"1\" class=\"dataframe\">\n",
       "  <thead>\n",
       "    <tr style=\"text-align: right;\">\n",
       "      <th></th>\n",
       "      <th>Address</th>\n",
       "      <th>code</th>\n",
       "      <th>mortgage</th>\n",
       "      <th>purchased</th>\n",
       "      <th>value</th>\n",
       "    </tr>\n",
       "  </thead>\n",
       "  <tbody>\n",
       "    <tr>\n",
       "      <th>0</th>\n",
       "      <td>20001384220</td>\n",
       "      <td>42111</td>\n",
       "      <td>NaN</td>\n",
       "      <td>NaN</td>\n",
       "      <td>23000000</td>\n",
       "    </tr>\n",
       "    <tr>\n",
       "      <th>1</th>\n",
       "      <td>20001384220</td>\n",
       "      <td>44111</td>\n",
       "      <td>NaN</td>\n",
       "      <td>1</td>\n",
       "      <td>245000</td>\n",
       "    </tr>\n",
       "    <tr>\n",
       "      <th>2</th>\n",
       "      <td>20001384220</td>\n",
       "      <td>45111</td>\n",
       "      <td>NaN</td>\n",
       "      <td>1</td>\n",
       "      <td>317000</td>\n",
       "    </tr>\n",
       "    <tr>\n",
       "      <th>3</th>\n",
       "      <td>20001384220</td>\n",
       "      <td>45211</td>\n",
       "      <td>NaN</td>\n",
       "      <td>1</td>\n",
       "      <td>396000</td>\n",
       "    </tr>\n",
       "    <tr>\n",
       "      <th>4</th>\n",
       "      <td>20001384225</td>\n",
       "      <td>42111</td>\n",
       "      <td>NaN</td>\n",
       "      <td>NaN</td>\n",
       "      <td>9000000</td>\n",
       "    </tr>\n",
       "  </tbody>\n",
       "</table>\n",
       "</div>"
      ],
      "text/plain": [
       "       Address   code  mortgage purchased     value\n",
       "0  20001384220  42111       NaN       NaN  23000000\n",
       "1  20001384220  44111       NaN         1    245000\n",
       "2  20001384220  45111       NaN         1    317000\n",
       "3  20001384220  45211       NaN         1    396000\n",
       "4  20001384225  42111       NaN       NaN   9000000"
      ]
     },
     "execution_count": 11,
     "metadata": {},
     "output_type": "execute_result"
    }
   ],
   "source": [
    "R1400_house_price = calc_houses_value('R1400.xlsx')\n",
    "R1400_house_price.head()"
   ]
  },
  {
   "cell_type": "code",
   "execution_count": 12,
   "metadata": {},
   "outputs": [
    {
     "data": {
      "text/html": [
       "<div>\n",
       "<style scoped>\n",
       "    .dataframe tbody tr th:only-of-type {\n",
       "        vertical-align: middle;\n",
       "    }\n",
       "\n",
       "    .dataframe tbody tr th {\n",
       "        vertical-align: top;\n",
       "    }\n",
       "\n",
       "    .dataframe thead th {\n",
       "        text-align: right;\n",
       "    }\n",
       "</style>\n",
       "<table border=\"1\" class=\"dataframe\">\n",
       "  <thead>\n",
       "    <tr style=\"text-align: right;\">\n",
       "      <th></th>\n",
       "      <th>Address</th>\n",
       "      <th>code</th>\n",
       "      <th>mortgage</th>\n",
       "      <th>purchased</th>\n",
       "      <th>value</th>\n",
       "    </tr>\n",
       "  </thead>\n",
       "  <tbody>\n",
       "    <tr>\n",
       "      <th>0</th>\n",
       "      <td>20001384225</td>\n",
       "      <td>44111</td>\n",
       "      <td></td>\n",
       "      <td>1</td>\n",
       "      <td>300000</td>\n",
       "    </tr>\n",
       "    <tr>\n",
       "      <th>1</th>\n",
       "      <td>20001384225</td>\n",
       "      <td>45111</td>\n",
       "      <td></td>\n",
       "      <td>1</td>\n",
       "      <td>360000</td>\n",
       "    </tr>\n",
       "    <tr>\n",
       "      <th>2</th>\n",
       "      <td>20001384225</td>\n",
       "      <td>45211</td>\n",
       "      <td></td>\n",
       "      <td>1</td>\n",
       "      <td>460000</td>\n",
       "    </tr>\n",
       "    <tr>\n",
       "      <th>3</th>\n",
       "      <td>20001384225</td>\n",
       "      <td>42111</td>\n",
       "      <td></td>\n",
       "      <td></td>\n",
       "      <td>11000000</td>\n",
       "    </tr>\n",
       "    <tr>\n",
       "      <th>4</th>\n",
       "      <td>20001384229</td>\n",
       "      <td>41111</td>\n",
       "      <td></td>\n",
       "      <td>1</td>\n",
       "      <td>7000000</td>\n",
       "    </tr>\n",
       "  </tbody>\n",
       "</table>\n",
       "</div>"
      ],
      "text/plain": [
       "       Address   code     mortgage purchased     value\n",
       "0  20001384225  44111                      1    300000\n",
       "1  20001384225  45111                      1    360000\n",
       "2  20001384225  45211                      1    460000\n",
       "3  20001384225  42111                         11000000\n",
       "4  20001384229  41111                      1   7000000"
      ]
     },
     "execution_count": 12,
     "metadata": {},
     "output_type": "execute_result"
    }
   ],
   "source": [
    "R1401_house_price = calc_houses_value('R1401.xlsx')\n",
    "R1401_house_price.head()"
   ]
  },
  {
   "cell_type": "code",
   "execution_count": 13,
   "metadata": {},
   "outputs": [
    {
     "data": {
      "text/html": [
       "<div>\n",
       "<style scoped>\n",
       "    .dataframe tbody tr th:only-of-type {\n",
       "        vertical-align: middle;\n",
       "    }\n",
       "\n",
       "    .dataframe tbody tr th {\n",
       "        vertical-align: top;\n",
       "    }\n",
       "\n",
       "    .dataframe thead th {\n",
       "        text-align: right;\n",
       "    }\n",
       "</style>\n",
       "<table border=\"1\" class=\"dataframe\">\n",
       "  <thead>\n",
       "    <tr style=\"text-align: right;\">\n",
       "      <th></th>\n",
       "      <th>Address</th>\n",
       "      <th>code</th>\n",
       "      <th>mortgage</th>\n",
       "      <th>purchased</th>\n",
       "      <th>value</th>\n",
       "    </tr>\n",
       "  </thead>\n",
       "  <tbody>\n",
       "    <tr>\n",
       "      <th>0</th>\n",
       "      <td>10004004223</td>\n",
       "      <td>42111</td>\n",
       "      <td>NaN</td>\n",
       "      <td>NaN</td>\n",
       "      <td>8000000</td>\n",
       "    </tr>\n",
       "    <tr>\n",
       "      <th>1</th>\n",
       "      <td>10004004223</td>\n",
       "      <td>44111</td>\n",
       "      <td>NaN</td>\n",
       "      <td>1</td>\n",
       "      <td>200000</td>\n",
       "    </tr>\n",
       "    <tr>\n",
       "      <th>2</th>\n",
       "      <td>10004004223</td>\n",
       "      <td>44311</td>\n",
       "      <td>NaN</td>\n",
       "      <td>1</td>\n",
       "      <td>100000</td>\n",
       "    </tr>\n",
       "    <tr>\n",
       "      <th>3</th>\n",
       "      <td>10004004223</td>\n",
       "      <td>45111</td>\n",
       "      <td>NaN</td>\n",
       "      <td>1</td>\n",
       "      <td>400000</td>\n",
       "    </tr>\n",
       "    <tr>\n",
       "      <th>4</th>\n",
       "      <td>10004004223</td>\n",
       "      <td>45211</td>\n",
       "      <td>NaN</td>\n",
       "      <td>1</td>\n",
       "      <td>200000</td>\n",
       "    </tr>\n",
       "  </tbody>\n",
       "</table>\n",
       "</div>"
      ],
      "text/plain": [
       "       Address   code mortgage purchased    value\n",
       "0  10004004223  42111      NaN       NaN  8000000\n",
       "1  10004004223  44111      NaN         1   200000\n",
       "2  10004004223  44311      NaN         1   100000\n",
       "3  10004004223  45111      NaN         1   400000\n",
       "4  10004004223  45211      NaN         1   200000"
      ]
     },
     "execution_count": 13,
     "metadata": {},
     "output_type": "execute_result"
    }
   ],
   "source": [
    "U98_house_price = calc_houses_value('U98.xlsx')\n",
    "U98_house_price.head()"
   ]
  },
  {
   "cell_type": "code",
   "execution_count": 14,
   "metadata": {},
   "outputs": [
    {
     "data": {
      "text/html": [
       "<div>\n",
       "<style scoped>\n",
       "    .dataframe tbody tr th:only-of-type {\n",
       "        vertical-align: middle;\n",
       "    }\n",
       "\n",
       "    .dataframe tbody tr th {\n",
       "        vertical-align: top;\n",
       "    }\n",
       "\n",
       "    .dataframe thead th {\n",
       "        text-align: right;\n",
       "    }\n",
       "</style>\n",
       "<table border=\"1\" class=\"dataframe\">\n",
       "  <thead>\n",
       "    <tr style=\"text-align: right;\">\n",
       "      <th></th>\n",
       "      <th>Address</th>\n",
       "      <th>code</th>\n",
       "      <th>mortgage</th>\n",
       "      <th>purchased</th>\n",
       "      <th>value</th>\n",
       "    </tr>\n",
       "  </thead>\n",
       "  <tbody>\n",
       "    <tr>\n",
       "      <th>0</th>\n",
       "      <td>10009008517</td>\n",
       "      <td>42111</td>\n",
       "      <td>NaN</td>\n",
       "      <td>NaN</td>\n",
       "      <td>8000000</td>\n",
       "    </tr>\n",
       "    <tr>\n",
       "      <th>1</th>\n",
       "      <td>10009008517</td>\n",
       "      <td>44111</td>\n",
       "      <td>NaN</td>\n",
       "      <td>1</td>\n",
       "      <td>160000</td>\n",
       "    </tr>\n",
       "    <tr>\n",
       "      <th>2</th>\n",
       "      <td>10009008517</td>\n",
       "      <td>45111</td>\n",
       "      <td>NaN</td>\n",
       "      <td>1</td>\n",
       "      <td>320000</td>\n",
       "    </tr>\n",
       "    <tr>\n",
       "      <th>3</th>\n",
       "      <td>10009008517</td>\n",
       "      <td>45211</td>\n",
       "      <td>NaN</td>\n",
       "      <td>1</td>\n",
       "      <td>196000</td>\n",
       "    </tr>\n",
       "    <tr>\n",
       "      <th>4</th>\n",
       "      <td>10009008518</td>\n",
       "      <td>42111</td>\n",
       "      <td>NaN</td>\n",
       "      <td>NaN</td>\n",
       "      <td>7000000</td>\n",
       "    </tr>\n",
       "  </tbody>\n",
       "</table>\n",
       "</div>"
      ],
      "text/plain": [
       "       Address   code  mortgage purchased    value\n",
       "0  10009008517  42111       NaN       NaN  8000000\n",
       "1  10009008517  44111       NaN         1   160000\n",
       "2  10009008517  45111       NaN         1   320000\n",
       "3  10009008517  45211       NaN         1   196000\n",
       "4  10009008518  42111       NaN       NaN  7000000"
      ]
     },
     "execution_count": 14,
     "metadata": {},
     "output_type": "execute_result"
    }
   ],
   "source": [
    "U99_house_price = calc_houses_value('U99.xlsx')\n",
    "U99_house_price.head()"
   ]
  },
  {
   "cell_type": "code",
   "execution_count": 15,
   "metadata": {},
   "outputs": [
    {
     "data": {
      "text/html": [
       "<div>\n",
       "<style scoped>\n",
       "    .dataframe tbody tr th:only-of-type {\n",
       "        vertical-align: middle;\n",
       "    }\n",
       "\n",
       "    .dataframe tbody tr th {\n",
       "        vertical-align: top;\n",
       "    }\n",
       "\n",
       "    .dataframe thead th {\n",
       "        text-align: right;\n",
       "    }\n",
       "</style>\n",
       "<table border=\"1\" class=\"dataframe\">\n",
       "  <thead>\n",
       "    <tr style=\"text-align: right;\">\n",
       "      <th></th>\n",
       "      <th>Address</th>\n",
       "      <th>code</th>\n",
       "      <th>mortgage</th>\n",
       "      <th>purchased</th>\n",
       "      <th>value</th>\n",
       "    </tr>\n",
       "  </thead>\n",
       "  <tbody>\n",
       "    <tr>\n",
       "      <th>0</th>\n",
       "      <td>10011009725</td>\n",
       "      <td>42214</td>\n",
       "      <td>NaN</td>\n",
       "      <td>8</td>\n",
       "      <td>7000000</td>\n",
       "    </tr>\n",
       "    <tr>\n",
       "      <th>1</th>\n",
       "      <td>10011009725</td>\n",
       "      <td>44111</td>\n",
       "      <td>NaN</td>\n",
       "      <td>1</td>\n",
       "      <td>250000</td>\n",
       "    </tr>\n",
       "    <tr>\n",
       "      <th>2</th>\n",
       "      <td>10011009725</td>\n",
       "      <td>45111</td>\n",
       "      <td>NaN</td>\n",
       "      <td>1</td>\n",
       "      <td>330000</td>\n",
       "    </tr>\n",
       "    <tr>\n",
       "      <th>3</th>\n",
       "      <td>10011009725</td>\n",
       "      <td>45211</td>\n",
       "      <td>NaN</td>\n",
       "      <td>1</td>\n",
       "      <td>220000</td>\n",
       "    </tr>\n",
       "    <tr>\n",
       "      <th>4</th>\n",
       "      <td>10003003235</td>\n",
       "      <td>41111</td>\n",
       "      <td>NaN</td>\n",
       "      <td>1</td>\n",
       "      <td>5000000</td>\n",
       "    </tr>\n",
       "  </tbody>\n",
       "</table>\n",
       "</div>"
      ],
      "text/plain": [
       "       Address   code  mortgage purchased    value\n",
       "0  10011009725  42214       NaN         8  7000000\n",
       "1  10011009725  44111       NaN         1   250000\n",
       "2  10011009725  45111       NaN         1   330000\n",
       "3  10011009725  45211       NaN         1   220000\n",
       "4  10003003235  41111       NaN         1  5000000"
      ]
     },
     "execution_count": 15,
     "metadata": {},
     "output_type": "execute_result"
    }
   ],
   "source": [
    "U1400_house_price = calc_houses_value('U1400.xlsx')\n",
    "U1400_house_price.head()"
   ]
  },
  {
   "cell_type": "code",
   "execution_count": 16,
   "metadata": {},
   "outputs": [
    {
     "data": {
      "text/html": [
       "<div>\n",
       "<style scoped>\n",
       "    .dataframe tbody tr th:only-of-type {\n",
       "        vertical-align: middle;\n",
       "    }\n",
       "\n",
       "    .dataframe tbody tr th {\n",
       "        vertical-align: top;\n",
       "    }\n",
       "\n",
       "    .dataframe thead th {\n",
       "        text-align: right;\n",
       "    }\n",
       "</style>\n",
       "<table border=\"1\" class=\"dataframe\">\n",
       "  <thead>\n",
       "    <tr style=\"text-align: right;\">\n",
       "      <th></th>\n",
       "      <th>Address</th>\n",
       "      <th>code</th>\n",
       "      <th>mortgage</th>\n",
       "      <th>purchased</th>\n",
       "      <th>value</th>\n",
       "    </tr>\n",
       "  </thead>\n",
       "  <tbody>\n",
       "    <tr>\n",
       "      <th>0</th>\n",
       "      <td>10001000226</td>\n",
       "      <td>41111</td>\n",
       "      <td></td>\n",
       "      <td>1</td>\n",
       "      <td>20000000</td>\n",
       "    </tr>\n",
       "    <tr>\n",
       "      <th>1</th>\n",
       "      <td>10001000226</td>\n",
       "      <td>42212</td>\n",
       "      <td>0100000000</td>\n",
       "      <td>1</td>\n",
       "      <td>3000000</td>\n",
       "    </tr>\n",
       "    <tr>\n",
       "      <th>2</th>\n",
       "      <td>10001000226</td>\n",
       "      <td>44111</td>\n",
       "      <td></td>\n",
       "      <td>1</td>\n",
       "      <td>300000</td>\n",
       "    </tr>\n",
       "    <tr>\n",
       "      <th>3</th>\n",
       "      <td>10001000226</td>\n",
       "      <td>45111</td>\n",
       "      <td></td>\n",
       "      <td>1</td>\n",
       "      <td>300000</td>\n",
       "    </tr>\n",
       "    <tr>\n",
       "      <th>4</th>\n",
       "      <td>10001000226</td>\n",
       "      <td>45211</td>\n",
       "      <td></td>\n",
       "      <td>1</td>\n",
       "      <td>50000</td>\n",
       "    </tr>\n",
       "  </tbody>\n",
       "</table>\n",
       "</div>"
      ],
      "text/plain": [
       "       Address   code     mortgage purchased     value\n",
       "0  10001000226  41111                      1  20000000\n",
       "1  10001000226  42212  0100000000          1   3000000\n",
       "2  10001000226  44111                      1    300000\n",
       "3  10001000226  45111                      1    300000\n",
       "4  10001000226  45211                      1     50000"
      ]
     },
     "execution_count": 16,
     "metadata": {},
     "output_type": "execute_result"
    }
   ],
   "source": [
    "U1401_house_price = calc_houses_value('U1401.xlsx')\n",
    "U1401_house_price.head()"
   ]
  },
  {
   "cell_type": "markdown",
   "metadata": {},
   "source": [
    "### مقایسه قیمت خانه های شهری و روستایی سال 1398"
   ]
  },
  {
   "cell_type": "code",
   "execution_count": 17,
   "metadata": {},
   "outputs": [
    {
     "data": {
      "text/plain": [
       "(969446.108700394, 2128747.865530435)"
      ]
     },
     "execution_count": 17,
     "metadata": {},
     "output_type": "execute_result"
    }
   ],
   "source": [
    "R98_house_price['value'].mean(), U98_house_price['value'].mean()"
   ]
  },
  {
   "cell_type": "code",
   "execution_count": 18,
   "metadata": {},
   "outputs": [
    {
     "data": {
      "text/plain": [
       "(1722758.221371, 5319004.87229648)"
      ]
     },
     "execution_count": 18,
     "metadata": {},
     "output_type": "execute_result"
    }
   ],
   "source": [
    "R98_house_price['value'].std(), U98_house_price['value'].std()"
   ]
  },
  {
   "cell_type": "code",
   "execution_count": 19,
   "metadata": {},
   "outputs": [
    {
     "data": {
      "image/png": "[encoded data removed]",
      "text/plain": [
       "<Figure size 640x480 with 1 Axes>"
      ]
     },
     "metadata": {},
     "output_type": "display_data"
    },
    {
     "data": {
      "image/png": "[encoded data removed]",
      "text/plain": [
       "<Figure size 640x480 with 1 Axes>"
      ]
     },
     "metadata": {},
     "output_type": "display_data"
    }
   ],
   "source": [
    "import matplotlib.pyplot as plt\n",
    "\n",
    "plt.hist(R98_house_price['value'])\n",
    "plt.show()\n",
    "plt.hist(U98_house_price['value'])\n",
    "plt.show()"
   ]
  },
  {
   "cell_type": "code",
   "execution_count": 20,
   "metadata": {},
   "outputs": [
    {
     "data": {
      "image/png": "[encoded data removed]",
      "text/plain": [
       "<Figure size 640x480 with 1 Axes>"
      ]
     },
     "metadata": {},
     "output_type": "display_data"
    },
    {
     "data": {
      "image/png": "[encoded data removed]",
      "text/plain": [
       "<Figure size 640x480 with 1 Axes>"
      ]
     },
     "metadata": {},
     "output_type": "display_data"
    }
   ],
   "source": [
    "from scipy import stats\n",
    "\n",
    "R98_house_price_normal, _ = stats.yeojohnson(R98_house_price['value'])\n",
    "U98_house_price_normal, _ = stats.yeojohnson(U98_house_price['value'])\n",
    "\n",
    "plt.hist(R98_house_price_normal, bins=10)\n",
    "plt.show()\n",
    "plt.hist(U98_house_price_normal, bins=10)\n",
    "plt.show()"
   ]
  },
  {
   "cell_type": "code",
   "execution_count": 23,
   "metadata": {},
   "outputs": [
    {
     "name": "stderr",
     "output_type": "stream",
     "text": [
      "c:\\Users\\a\\miniconda3\\envs\\quera\\lib\\site-packages\\scipy\\stats\\_axis_nan_policy.py:531: UserWarning: scipy.stats.shapiro: For N > 5000, computed p-value may not be accurate. Current N is 68767.\n",
      "  res = hypotest_fun_out(*samples, **kwds)\n",
      "c:\\Users\\a\\miniconda3\\envs\\quera\\lib\\site-packages\\scipy\\stats\\_axis_nan_policy.py:531: UserWarning: scipy.stats.shapiro: For N > 5000, computed p-value may not be accurate. Current N is 86250.\n",
      "  res = hypotest_fun_out(*samples, **kwds)\n"
     ]
    },
    {
     "data": {
      "text/plain": [
       "(ShapiroResult(statistic=0.9865211207958338, pvalue=3.243205880990617e-58),\n",
       " ShapiroResult(statistic=0.97007429890517, pvalue=5.477588628099235e-79))"
      ]
     },
     "execution_count": 23,
     "metadata": {},
     "output_type": "execute_result"
    }
   ],
   "source": [
    "from scipy.stats import shapiro, mannwhitneyu\n",
    "\n",
    "shapiro(R98_house_price_normal), shapiro(U98_house_price_normal)"
   ]
  },
  {
   "cell_type": "markdown",
   "metadata": {},
   "source": [
    "چون داده هنوز نرمال نشده است از تست های آماری دیگری استفاده می کنیم"
   ]
  },
  {
   "cell_type": "code",
   "execution_count": 24,
   "metadata": {},
   "outputs": [],
   "source": [
    "#from scipy import stats\n",
    "\n",
    "#n1 = len(U98_house_price['value'])\n",
    "#n2 = len(R98_house_price['value'])\n",
    "#x1 = U98_house_price['value'].mean()\n",
    "#x2 = R98_house_price['value'].mean()\n",
    "#s1 = U98_house_price['value'].std(ddof=1)\n",
    "#s2 = R98_house_price['value'].std(ddof=1)\n",
    "\n",
    "#degree_of_freedom = n1 + n2 - 2\n",
    "#t_value = (x1 - x2) / np.sqrt((s1 ** 2) / n1 + (s2 ** 2) / n2)\n",
    "#p_value = 1 - stats.t.cdf(t_value, degree_of_freedom)\n",
    "\n",
    "#t_value, p_value"
   ]
  },
  {
   "cell_type": "code",
   "execution_count": 26,
   "metadata": {},
   "outputs": [
    {
     "data": {
      "text/plain": [
       "(2842950035.5, 1.2987503136187692e-44)"
      ]
     },
     "execution_count": 26,
     "metadata": {},
     "output_type": "execute_result"
    }
   ],
   "source": [
    "u_stat, p_value = mannwhitneyu(R98_house_price['value'], U98_house_price['value'])\n",
    "u_stat, p_value"
   ]
  },
  {
   "cell_type": "markdown",
   "metadata": {},
   "source": [
    "چون مقدار متغیر پی از 0.05 کمتر است، در نتیجه فرض اولیه مبنی بر تساوی ارزش خانه های شهری و روستایی رد شده و نتیجه می شود که این دو گروه در سال 1398 با هم برابر نیستند"
   ]
  },
  {
   "cell_type": "markdown",
   "metadata": {},
   "source": [
    "### مقایسه ارزش خانه های شهری و روستایی سال 1399"
   ]
  },
  {
   "cell_type": "code",
   "execution_count": 27,
   "metadata": {},
   "outputs": [
    {
     "data": {
      "text/plain": [
       "(1337254.2374977912, 2887546.2615338704)"
      ]
     },
     "execution_count": 27,
     "metadata": {},
     "output_type": "execute_result"
    }
   ],
   "source": [
    "R99_house_price['value'].mean(), U99_house_price['value'].mean()"
   ]
  },
  {
   "cell_type": "code",
   "execution_count": 28,
   "metadata": {},
   "outputs": [
    {
     "data": {
      "text/plain": [
       "(2453432.433038401, 7694625.040649703)"
      ]
     },
     "execution_count": 28,
     "metadata": {},
     "output_type": "execute_result"
    }
   ],
   "source": [
    "R99_house_price['value'].std(), U99_house_price['value'].std()"
   ]
  },
  {
   "cell_type": "code",
   "execution_count": 29,
   "metadata": {},
   "outputs": [
    {
     "data": {
      "image/png": "[encoded data removed]",
      "text/plain": [
       "<Figure size 640x480 with 1 Axes>"
      ]
     },
     "metadata": {},
     "output_type": "display_data"
    },
    {
     "data": {
      "image/png": "[encoded data removed]",
      "text/plain": [
       "<Figure size 640x480 with 1 Axes>"
      ]
     },
     "metadata": {},
     "output_type": "display_data"
    }
   ],
   "source": [
    "plt.hist(R99_house_price['value'])\n",
    "plt.show()\n",
    "plt.hist(U99_house_price['value'])\n",
    "plt.show()"
   ]
  },
  {
   "cell_type": "code",
   "execution_count": 30,
   "metadata": {},
   "outputs": [
    {
     "data": {
      "image/png": "[encoded data removed]",
      "text/plain": [
       "<Figure size 640x480 with 1 Axes>"
      ]
     },
     "metadata": {},
     "output_type": "display_data"
    },
    {
     "data": {
      "image/png": "[encoded data removed]",
      "text/plain": [
       "<Figure size 640x480 with 1 Axes>"
      ]
     },
     "metadata": {},
     "output_type": "display_data"
    }
   ],
   "source": [
    "R99_house_price_normal, _ = stats.yeojohnson(R99_house_price['value'])\n",
    "U99_house_price_normal, _ = stats.yeojohnson(U99_house_price['value'])\n",
    "\n",
    "plt.hist(R99_house_price_normal, bins=10)\n",
    "plt.show()\n",
    "plt.hist(U99_house_price_normal, bins=10)\n",
    "plt.show()"
   ]
  },
  {
   "cell_type": "code",
   "execution_count": 31,
   "metadata": {},
   "outputs": [
    {
     "name": "stderr",
     "output_type": "stream",
     "text": [
      "c:\\Users\\a\\miniconda3\\envs\\quera\\lib\\site-packages\\scipy\\stats\\_axis_nan_policy.py:531: UserWarning: scipy.stats.shapiro: For N > 5000, computed p-value may not be accurate. Current N is 67908.\n",
      "  res = hypotest_fun_out(*samples, **kwds)\n",
      "c:\\Users\\a\\miniconda3\\envs\\quera\\lib\\site-packages\\scipy\\stats\\_axis_nan_policy.py:531: UserWarning: scipy.stats.shapiro: For N > 5000, computed p-value may not be accurate. Current N is 83775.\n",
      "  res = hypotest_fun_out(*samples, **kwds)\n"
     ]
    },
    {
     "data": {
      "text/plain": [
       "(ShapiroResult(statistic=0.9803275872911358, pvalue=1.297700480708717e-65),\n",
       " ShapiroResult(statistic=0.9642014764865078, pvalue=1.359481778206479e-82))"
      ]
     },
     "execution_count": 31,
     "metadata": {},
     "output_type": "execute_result"
    }
   ],
   "source": [
    "shapiro(R99_house_price_normal), shapiro(U99_house_price_normal)"
   ]
  },
  {
   "cell_type": "markdown",
   "metadata": {},
   "source": [
    "چون داده هنوز نرمال نشده است از تست های آماری دیگری استفاده می کنیم"
   ]
  },
  {
   "cell_type": "code",
   "execution_count": 32,
   "metadata": {},
   "outputs": [],
   "source": [
    "#from scipy import stats\n",
    "\n",
    "#n1 = len(U98_house_price['value'])\n",
    "#n2 = len(R98_house_price['value'])\n",
    "#x1 = U98_house_price['value'].mean()\n",
    "#x2 = R98_house_price['value'].mean()\n",
    "#s1 = U98_house_price['value'].std(ddof=1)\n",
    "#s2 = R98_house_price['value'].std(ddof=1)\n",
    "\n",
    "#degree_of_freedom = n1 + n2 - 2\n",
    "#t_value = (x1 - x2) / np.sqrt((s1 ** 2) / n1 + (s2 ** 2) / n2)\n",
    "#p_value = 1 - stats.t.cdf(t_value, degree_of_freedom)\n",
    "\n",
    "#t_value, p_value"
   ]
  },
  {
   "cell_type": "code",
   "execution_count": 33,
   "metadata": {},
   "outputs": [
    {
     "data": {
      "text/plain": [
       "(2746798998.0, 1.0025276057547736e-30)"
      ]
     },
     "execution_count": 33,
     "metadata": {},
     "output_type": "execute_result"
    }
   ],
   "source": [
    "u_stat, p_value = mannwhitneyu(R99_house_price['value'], U99_house_price['value'])\n",
    "u_stat, p_value"
   ]
  },
  {
   "cell_type": "markdown",
   "metadata": {},
   "source": [
    "چون مقدار متغیر پی از 0.05 کمتر است، در نتیجه فرض اولیه مبنی بر تساوی ارزش خانه های شهری و روستایی رد شده و نتیجه می شود که این دو گروه در سال 1399 با هم برابر نیستند"
   ]
  },
  {
   "cell_type": "markdown",
   "metadata": {},
   "source": [
    "### مقایسه ارزش خانه های شهری و روستایی سال 1400"
   ]
  },
  {
   "cell_type": "code",
   "execution_count": 35,
   "metadata": {},
   "outputs": [
    {
     "data": {
      "text/plain": [
       "(1962088.3979624186, 4206407.823746948)"
      ]
     },
     "execution_count": 35,
     "metadata": {},
     "output_type": "execute_result"
    }
   ],
   "source": [
    "R1400_house_price['value'].mean(), U1400_house_price['value'].mean()"
   ]
  },
  {
   "cell_type": "code",
   "execution_count": 36,
   "metadata": {},
   "outputs": [
    {
     "data": {
      "text/plain": [
       "(3906604.276189736, 10326799.932652496)"
      ]
     },
     "execution_count": 36,
     "metadata": {},
     "output_type": "execute_result"
    }
   ],
   "source": [
    "R1400_house_price['value'].std(), U1400_house_price['value'].std()"
   ]
  },
  {
   "cell_type": "code",
   "execution_count": 37,
   "metadata": {},
   "outputs": [
    {
     "data": {
      "image/png": "[encoded data removed]",
      "text/plain": [
       "<Figure size 640x480 with 1 Axes>"
      ]
     },
     "metadata": {},
     "output_type": "display_data"
    },
    {
     "data": {
      "image/png": "[encoded data removed]",
      "text/plain": [
       "<Figure size 640x480 with 1 Axes>"
      ]
     },
     "metadata": {},
     "output_type": "display_data"
    }
   ],
   "source": [
    "plt.hist(R1400_house_price['value'])\n",
    "plt.show()\n",
    "plt.hist(U1400_house_price['value'])\n",
    "plt.show()"
   ]
  },
  {
   "cell_type": "code",
   "execution_count": 38,
   "metadata": {},
   "outputs": [
    {
     "data": {
      "image/png": "[encoded data removed]",
      "text/plain": [
       "<Figure size 640x480 with 1 Axes>"
      ]
     },
     "metadata": {},
     "output_type": "display_data"
    },
    {
     "data": {
      "image/png": "[encoded data removed]",
      "text/plain": [
       "<Figure size 640x480 with 1 Axes>"
      ]
     },
     "metadata": {},
     "output_type": "display_data"
    }
   ],
   "source": [
    "R1400_house_price_normal, _ = stats.yeojohnson(R1400_house_price['value'])\n",
    "U1400_house_price_normal, _ = stats.yeojohnson(U1400_house_price['value'])\n",
    "\n",
    "plt.hist(R1400_house_price_normal, bins=10)\n",
    "plt.show()\n",
    "plt.hist(U1400_house_price_normal, bins=10)\n",
    "plt.show()"
   ]
  },
  {
   "cell_type": "code",
   "execution_count": 39,
   "metadata": {},
   "outputs": [
    {
     "name": "stderr",
     "output_type": "stream",
     "text": [
      "c:\\Users\\a\\miniconda3\\envs\\quera\\lib\\site-packages\\scipy\\stats\\_axis_nan_policy.py:531: UserWarning: scipy.stats.shapiro: For N > 5000, computed p-value may not be accurate. Current N is 69396.\n",
      "  res = hypotest_fun_out(*samples, **kwds)\n",
      "c:\\Users\\a\\miniconda3\\envs\\quera\\lib\\site-packages\\scipy\\stats\\_axis_nan_policy.py:531: UserWarning: scipy.stats.shapiro: For N > 5000, computed p-value may not be accurate. Current N is 85990.\n",
      "  res = hypotest_fun_out(*samples, **kwds)\n"
     ]
    },
    {
     "data": {
      "text/plain": [
       "(ShapiroResult(statistic=0.9695025677660608, pvalue=2.0053071403180634e-75),\n",
       " ShapiroResult(statistic=0.9510326719744746, pvalue=1.3251819334470257e-90))"
      ]
     },
     "execution_count": 39,
     "metadata": {},
     "output_type": "execute_result"
    }
   ],
   "source": [
    "shapiro(R1400_house_price_normal), shapiro(U1400_house_price_normal)"
   ]
  },
  {
   "cell_type": "markdown",
   "metadata": {},
   "source": [
    "چون داده هنوز نرمال نشده است از تست های آماری دیگری استفاده می کنیم"
   ]
  },
  {
   "cell_type": "code",
   "execution_count": 40,
   "metadata": {},
   "outputs": [],
   "source": [
    "#from scipy import stats\n",
    "\n",
    "#n1 = len(U98_house_price['value'])\n",
    "#n2 = len(R98_house_price['value'])\n",
    "#x1 = U98_house_price['value'].mean()\n",
    "#x2 = R98_house_price['value'].mean()\n",
    "#s1 = U98_house_price['value'].std(ddof=1)\n",
    "#s2 = R98_house_price['value'].std(ddof=1)\n",
    "\n",
    "#degree_of_freedom = n1 + n2 - 2\n",
    "#t_value = (x1 - x2) / np.sqrt((s1 ** 2) / n1 + (s2 ** 2) / n2)\n",
    "#p_value = 1 - stats.t.cdf(t_value, degree_of_freedom)\n",
    "\n",
    "#t_value, p_value"
   ]
  },
  {
   "cell_type": "code",
   "execution_count": 41,
   "metadata": {},
   "outputs": [
    {
     "data": {
      "text/plain": [
       "(2910735477.5, 1.0373125437639164e-16)"
      ]
     },
     "execution_count": 41,
     "metadata": {},
     "output_type": "execute_result"
    }
   ],
   "source": [
    "u_stat, p_value = mannwhitneyu(R1400_house_price['value'], U1400_house_price['value'])\n",
    "u_stat, p_value"
   ]
  },
  {
   "cell_type": "markdown",
   "metadata": {},
   "source": [
    "چون مقدار متغیر پی از 0.05 کمتر است، در نتیجه فرض اولیه مبنی بر تساوی ارزش خانه های شهری و روستایی رد شده و نتیجه می شود که این دو گروه در سال 1400 با هم برابر نیستند"
   ]
  },
  {
   "cell_type": "markdown",
   "metadata": {},
   "source": [
    "### مقایسه ارزش خانه های شهری و روستایی سال 1401"
   ]
  },
  {
   "cell_type": "code",
   "execution_count": 44,
   "metadata": {},
   "outputs": [
    {
     "data": {
      "text/plain": [
       "(3019351.729213467, 6594069.247600106)"
      ]
     },
     "execution_count": 44,
     "metadata": {},
     "output_type": "execute_result"
    }
   ],
   "source": [
    "R1401_house_price['value'].mean(), U1401_house_price['value'].mean()"
   ]
  },
  {
   "cell_type": "code",
   "execution_count": 45,
   "metadata": {},
   "outputs": [
    {
     "data": {
      "text/plain": [
       "(6399271.123198388, 16229483.615343092)"
      ]
     },
     "execution_count": 45,
     "metadata": {},
     "output_type": "execute_result"
    }
   ],
   "source": [
    "R1401_house_price['value'].std(), U1401_house_price['value'].std()"
   ]
  },
  {
   "cell_type": "code",
   "execution_count": 46,
   "metadata": {},
   "outputs": [
    {
     "data": {
      "image/png": "[encoded data removed]",
      "text/plain": [
       "<Figure size 640x480 with 1 Axes>"
      ]
     },
     "metadata": {},
     "output_type": "display_data"
    },
    {
     "data": {
      "image/png": "[encoded data removed]",
      "text/plain": [
       "<Figure size 640x480 with 1 Axes>"
      ]
     },
     "metadata": {},
     "output_type": "display_data"
    }
   ],
   "source": [
    "plt.hist(R1401_house_price['value'])\n",
    "plt.show()\n",
    "plt.hist(U1401_house_price['value'])\n",
    "plt.show()"
   ]
  },
  {
   "cell_type": "code",
   "execution_count": 47,
   "metadata": {},
   "outputs": [
    {
     "data": {
      "image/png": "[encoded data removed]",
      "text/plain": [
       "<Figure size 640x480 with 1 Axes>"
      ]
     },
     "metadata": {},
     "output_type": "display_data"
    },
    {
     "data": {
      "image/png": "[encoded data removed]",
      "text/plain": [
       "<Figure size 640x480 with 1 Axes>"
      ]
     },
     "metadata": {},
     "output_type": "display_data"
    }
   ],
   "source": [
    "R1401_house_price_normal, _ = stats.yeojohnson(R1401_house_price['value'])\n",
    "U1401_house_price_normal, _ = stats.yeojohnson(U1401_house_price['value'])\n",
    "\n",
    "plt.hist(R1401_house_price_normal, bins=10)\n",
    "plt.show()\n",
    "plt.hist(U1401_house_price_normal, bins=10)\n",
    "plt.show()"
   ]
  },
  {
   "cell_type": "code",
   "execution_count": 48,
   "metadata": {},
   "outputs": [
    {
     "name": "stderr",
     "output_type": "stream",
     "text": [
      "c:\\Users\\a\\miniconda3\\envs\\quera\\lib\\site-packages\\scipy\\stats\\_axis_nan_policy.py:531: UserWarning: scipy.stats.shapiro: For N > 5000, computed p-value may not be accurate. Current N is 69889.\n",
      "  res = hypotest_fun_out(*samples, **kwds)\n",
      "c:\\Users\\a\\miniconda3\\envs\\quera\\lib\\site-packages\\scipy\\stats\\_axis_nan_policy.py:531: UserWarning: scipy.stats.shapiro: For N > 5000, computed p-value may not be accurate. Current N is 86983.\n",
      "  res = hypotest_fun_out(*samples, **kwds)\n"
     ]
    },
    {
     "data": {
      "text/plain": [
       "(ShapiroResult(statistic=0.966862611636391, pvalue=2.038675692221791e-77),\n",
       " ShapiroResult(statistic=0.9487956112805237, pvalue=6.224779947259652e-92))"
      ]
     },
     "execution_count": 48,
     "metadata": {},
     "output_type": "execute_result"
    }
   ],
   "source": [
    "shapiro(R1401_house_price_normal), shapiro(U1401_house_price_normal)"
   ]
  },
  {
   "cell_type": "markdown",
   "metadata": {},
   "source": [
    "چون داده هنوز نرمال نشده است از تست های آماری دیگری استفاده می کنیم"
   ]
  },
  {
   "cell_type": "code",
   "execution_count": 49,
   "metadata": {},
   "outputs": [],
   "source": [
    "#from scipy import stats\n",
    "\n",
    "#n1 = len(U98_house_price['value'])\n",
    "#n2 = len(R98_house_price['value'])\n",
    "#x1 = U98_house_price['value'].mean()\n",
    "#x2 = R98_house_price['value'].mean()\n",
    "#s1 = U98_house_price['value'].std(ddof=1)\n",
    "#s2 = R98_house_price['value'].std(ddof=1)\n",
    "\n",
    "#degree_of_freedom = n1 + n2 - 2\n",
    "#t_value = (x1 - x2) / np.sqrt((s1 ** 2) / n1 + (s2 ** 2) / n2)\n",
    "#p_value = 1 - stats.t.cdf(t_value, degree_of_freedom)\n",
    "\n",
    "#t_value, p_value"
   ]
  },
  {
   "cell_type": "code",
   "execution_count": 50,
   "metadata": {},
   "outputs": [
    {
     "data": {
      "text/plain": [
       "(2952452004.0, 1.4238866834422309e-22)"
      ]
     },
     "execution_count": 50,
     "metadata": {},
     "output_type": "execute_result"
    }
   ],
   "source": [
    "u_stat, p_value = mannwhitneyu(R1401_house_price['value'], U1401_house_price['value'])\n",
    "u_stat, p_value"
   ]
  },
  {
   "cell_type": "markdown",
   "metadata": {},
   "source": [
    "چون مقدار متغیر پی از 0.05 کمتر است، در نتیجه فرض اولیه مبنی بر تساوی ارزش خانه های شهری و روستایی رد شده و نتیجه می شود که این دو گروه در سال 1401 با هم برابر نیستند"
   ]
  }
 ],
 "metadata": {
  "colab": {
   "provenance": [],
   "toc_visible": true
  },
  "kernelspec": {
   "display_name": "Python 3",
   "language": "python",
   "name": "python3"
  },
  "language_info": {
   "codemirror_mode": {
    "name": "ipython",
    "version": 3
   },
   "file_extension": ".py",
   "mimetype": "text/x-python",
   "name": "python",
   "nbconvert_exporter": "python",
   "pygments_lexer": "ipython3",
   "version": "3.9.19"
  },
  "vscode": {
   "interpreter": {
    "hash": "44e7e1b8fa2096bd5707ed7fd18b1724a2db25f4c565a7673f8b6e7bfc49d25d"
   }
  }
 },
 "nbformat": 4,
 "nbformat_minor": 0
}
