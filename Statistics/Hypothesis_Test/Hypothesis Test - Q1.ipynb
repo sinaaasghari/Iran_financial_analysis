{
  "cells": [
    {
      "cell_type": "markdown",
      "metadata": {},
      "source": [
        "### 1. درآمد خانوارهای شهری و روستایی استان چهارمحال و. بختیاری"
      ]
    },
    {
      "cell_type": "code",
      "execution_count": 1,
      "metadata": {},
      "outputs": [],
      "source": [
        "import numpy as np\n",
        "import pandas as pd"
      ]
    },
    {
      "cell_type": "code",
      "execution_count": 2,
      "metadata": {},
      "outputs": [],
      "source": [
        "def get_total_job_income(df, address):\n",
        "    return df[df['Address'] == address]['netincome_w_y'].apply(to_int).sum()\n",
        "\n",
        "\n",
        "def get_total_free_income(df, address):\n",
        "    return df[df['Address'] == address]['income_s_y'].apply(to_int).sum()\n",
        "\n",
        "\n",
        "def to_int(num):\n",
        "    try:\n",
        "        if type(num) == str:\n",
        "            num = num.strip()\n",
        "        return int(num)\n",
        "    except Exception as e:\n",
        "        return 0\n",
        "\n",
        "\n",
        "def get_total_other_income(record):\n",
        "    total_income = 0\n",
        "\n",
        "    total_income += to_int(record['income_pension'])\n",
        "    total_income += to_int(record['income_rent'])\n",
        "    total_income += to_int(record['income_interest'])\n",
        "    total_income += to_int(record['income_aid'])\n",
        "    total_income += to_int(record['income_resale'])\n",
        "    total_income += to_int(record['income_transfer'])\n",
        "\n",
        "    return total_income\n",
        "\n",
        "\n",
        "def get_total_subsidy_income(df, address):\n",
        "    return df[df['Address'] == address]['subsidy'].apply(to_int).sum()\n",
        "\n",
        "\n",
        "def get_total_income(df, address):\n",
        "    return df[df['Address'] == address]['income'].apply(to_int).sum()\n",
        "\n",
        "\n",
        "def calc_total_family_income(file_name):\n",
        "    df_job_income = pd.read_excel(file_name, engine='openpyxl', sheet_name=file_name.split('.')[0] + 'P4S01')\n",
        "\n",
        "    df_job_income['income'] = df_job_income.apply(lambda r: get_total_job_income(df_job_income, r['Address']), axis=1)\n",
        "    df_job_income.drop_duplicates(subset=['Address'], inplace=True)\n",
        "    df_job_income = df_job_income[['Address', 'income']]\n",
        "\n",
        "    df_free_income = pd.read_excel(file_name, engine='openpyxl', sheet_name=file_name.split('.')[0] + 'P4S02')\n",
        "\n",
        "    df_free_income['income'] = df_free_income.apply(lambda r: get_total_free_income(df_free_income, r['Address']), axis=1)\n",
        "    df_free_income.drop_duplicates(subset=['Address'], inplace=True)\n",
        "    df_free_income = df_free_income[['Address', 'income']]\n",
        "\n",
        "    df_other_income = pd.read_excel(file_name, engine='openpyxl', sheet_name=file_name.split('.')[0] + 'P4S03')\n",
        "\n",
        "    df_other_income.fillna(0, inplace=True)\n",
        "    df_other_income['income'] = df_other_income.apply(lambda r: get_total_other_income(r), axis=1)\n",
        "    df_other_income.drop_duplicates(subset=['Address'], inplace=True)\n",
        "    df_other_income = df_other_income[['Address', 'income']]\n",
        "\n",
        "    df_subsidy_income = pd.read_excel(file_name, engine='openpyxl', sheet_name=file_name.split('.')[0] + 'P4S04')\n",
        "\n",
        "    df_subsidy_income['income'] = df_subsidy_income.apply(lambda r: get_total_subsidy_income(df_subsidy_income, r['Address']), axis=1)\n",
        "    df_subsidy_income.drop_duplicates(subset=['Address'], inplace=True)\n",
        "    df_subsidy_income = df_subsidy_income[['Address', 'income']]\n",
        "\n",
        "    df_income = pd.concat([df_job_income, df_free_income, df_other_income, df_subsidy_income])\n",
        "    df_income['income'] = df_income.apply(lambda r: get_total_income(df_income, r['Address']), axis=1)\n",
        "    df_income.drop_duplicates(subset=['Address'], inplace=True)\n",
        "\n",
        "    df_Data = pd.read_excel(file_name, engine='openpyxl', sheet_name=file_name.split('.')[0] + 'Data')\n",
        "\n",
        "    df_Data = df_Data[df_Data['province'] == 'CharmahalBakhtiari']\n",
        "    df_Data = df_Data.merge(df_income, on='Address')\n",
        "\n",
        "    return df_Data\n"
      ]
    },
    {
      "cell_type": "code",
      "execution_count": 3,
      "metadata": {},
      "outputs": [
        {
          "data": {
            "text/html": [
              "<div>\n",
              "<style scoped>\n",
              "    .dataframe tbody tr th:only-of-type {\n",
              "        vertical-align: middle;\n",
              "    }\n",
              "\n",
              "    .dataframe tbody tr th {\n",
              "        vertical-align: top;\n",
              "    }\n",
              "\n",
              "    .dataframe thead th {\n",
              "        text-align: right;\n",
              "    }\n",
              "</style>\n",
              "<table border=\"1\" class=\"dataframe\">\n",
              "  <thead>\n",
              "    <tr style=\"text-align: right;\">\n",
              "      <th></th>\n",
              "      <th>Address</th>\n",
              "      <th>MahMorajeh</th>\n",
              "      <th>Fasl</th>\n",
              "      <th>weight</th>\n",
              "      <th>khanevartype</th>\n",
              "      <th>Takmil</th>\n",
              "      <th>TakmilDescA</th>\n",
              "      <th>TakmilDescB</th>\n",
              "      <th>TakmilDescC</th>\n",
              "      <th>Jaygozin</th>\n",
              "      <th>JaygozinDescA</th>\n",
              "      <th>JaygozinDescB</th>\n",
              "      <th>JaygozinDescC</th>\n",
              "      <th>BlkAbdJaygozin</th>\n",
              "      <th>RadifJaygozin</th>\n",
              "      <th>province</th>\n",
              "      <th>town</th>\n",
              "      <th>income</th>\n",
              "    </tr>\n",
              "  </thead>\n",
              "  <tbody>\n",
              "    <tr>\n",
              "      <th>0</th>\n",
              "      <td>21401545208</td>\n",
              "      <td>5</td>\n",
              "      <td>2</td>\n",
              "      <td>132.659492</td>\n",
              "      <td>1</td>\n",
              "      <td>1</td>\n",
              "      <td>NaN</td>\n",
              "      <td>NaN</td>\n",
              "      <td>NaN</td>\n",
              "      <td>NaN</td>\n",
              "      <td>NaN</td>\n",
              "      <td>NaN</td>\n",
              "      <td>NaN</td>\n",
              "      <td>NaN</td>\n",
              "      <td>NaN</td>\n",
              "      <td>CharmahalBakhtiari</td>\n",
              "      <td>1</td>\n",
              "      <td>162420000</td>\n",
              "    </tr>\n",
              "    <tr>\n",
              "      <th>1</th>\n",
              "      <td>21401545211</td>\n",
              "      <td>5</td>\n",
              "      <td>2</td>\n",
              "      <td>132.659492</td>\n",
              "      <td>1</td>\n",
              "      <td>1</td>\n",
              "      <td>NaN</td>\n",
              "      <td>NaN</td>\n",
              "      <td>NaN</td>\n",
              "      <td>NaN</td>\n",
              "      <td>NaN</td>\n",
              "      <td>NaN</td>\n",
              "      <td>NaN</td>\n",
              "      <td>NaN</td>\n",
              "      <td>NaN</td>\n",
              "      <td>CharmahalBakhtiari</td>\n",
              "      <td>1</td>\n",
              "      <td>306190000</td>\n",
              "    </tr>\n",
              "    <tr>\n",
              "      <th>2</th>\n",
              "      <td>21401545214</td>\n",
              "      <td>5</td>\n",
              "      <td>2</td>\n",
              "      <td>132.659492</td>\n",
              "      <td>1</td>\n",
              "      <td>2</td>\n",
              "      <td>NaN</td>\n",
              "      <td>1.0</td>\n",
              "      <td>NaN</td>\n",
              "      <td>1.0</td>\n",
              "      <td>NaN</td>\n",
              "      <td>NaN</td>\n",
              "      <td>NaN</td>\n",
              "      <td>211391.0</td>\n",
              "      <td>15.0</td>\n",
              "      <td>CharmahalBakhtiari</td>\n",
              "      <td>1</td>\n",
              "      <td>126920000</td>\n",
              "    </tr>\n",
              "    <tr>\n",
              "      <th>3</th>\n",
              "      <td>21401545217</td>\n",
              "      <td>5</td>\n",
              "      <td>2</td>\n",
              "      <td>132.659492</td>\n",
              "      <td>1</td>\n",
              "      <td>1</td>\n",
              "      <td>NaN</td>\n",
              "      <td>NaN</td>\n",
              "      <td>NaN</td>\n",
              "      <td>NaN</td>\n",
              "      <td>NaN</td>\n",
              "      <td>NaN</td>\n",
              "      <td>NaN</td>\n",
              "      <td>NaN</td>\n",
              "      <td>NaN</td>\n",
              "      <td>CharmahalBakhtiari</td>\n",
              "      <td>1</td>\n",
              "      <td>28120000</td>\n",
              "    </tr>\n",
              "    <tr>\n",
              "      <th>4</th>\n",
              "      <td>21401545220</td>\n",
              "      <td>5</td>\n",
              "      <td>2</td>\n",
              "      <td>132.659492</td>\n",
              "      <td>1</td>\n",
              "      <td>2</td>\n",
              "      <td>NaN</td>\n",
              "      <td>1.0</td>\n",
              "      <td>NaN</td>\n",
              "      <td>1.0</td>\n",
              "      <td>NaN</td>\n",
              "      <td>NaN</td>\n",
              "      <td>NaN</td>\n",
              "      <td>211391.0</td>\n",
              "      <td>21.0</td>\n",
              "      <td>CharmahalBakhtiari</td>\n",
              "      <td>1</td>\n",
              "      <td>39000000</td>\n",
              "    </tr>\n",
              "  </tbody>\n",
              "</table>\n",
              "</div>"
            ],
            "text/plain": [
              "       Address  MahMorajeh  Fasl      weight  khanevartype  Takmil  \\\n",
              "0  21401545208           5     2  132.659492             1       1   \n",
              "1  21401545211           5     2  132.659492             1       1   \n",
              "2  21401545214           5     2  132.659492             1       2   \n",
              "3  21401545217           5     2  132.659492             1       1   \n",
              "4  21401545220           5     2  132.659492             1       2   \n",
              "\n",
              "   TakmilDescA  TakmilDescB TakmilDescC  Jaygozin  JaygozinDescA  \\\n",
              "0          NaN          NaN         NaN       NaN            NaN   \n",
              "1          NaN          NaN         NaN       NaN            NaN   \n",
              "2          NaN          1.0         NaN       1.0            NaN   \n",
              "3          NaN          NaN         NaN       NaN            NaN   \n",
              "4          NaN          1.0         NaN       1.0            NaN   \n",
              "\n",
              "   JaygozinDescB  JaygozinDescC  BlkAbdJaygozin  RadifJaygozin  \\\n",
              "0            NaN            NaN             NaN            NaN   \n",
              "1            NaN            NaN             NaN            NaN   \n",
              "2            NaN            NaN        211391.0           15.0   \n",
              "3            NaN            NaN             NaN            NaN   \n",
              "4            NaN            NaN        211391.0           21.0   \n",
              "\n",
              "             province  town     income  \n",
              "0  CharmahalBakhtiari     1  162420000  \n",
              "1  CharmahalBakhtiari     1  306190000  \n",
              "2  CharmahalBakhtiari     1  126920000  \n",
              "3  CharmahalBakhtiari     1   28120000  \n",
              "4  CharmahalBakhtiari     1   39000000  "
            ]
          },
          "execution_count": 3,
          "metadata": {},
          "output_type": "execute_result"
        }
      ],
      "source": [
        "R98_income = calc_total_family_income('R98.xlsx')\n",
        "R98_income.head()"
      ]
    },
    {
      "cell_type": "code",
      "execution_count": 4,
      "metadata": {},
      "outputs": [
        {
          "data": {
            "text/html": [
              "<div>\n",
              "<style scoped>\n",
              "    .dataframe tbody tr th:only-of-type {\n",
              "        vertical-align: middle;\n",
              "    }\n",
              "\n",
              "    .dataframe tbody tr th {\n",
              "        vertical-align: top;\n",
              "    }\n",
              "\n",
              "    .dataframe thead th {\n",
              "        text-align: right;\n",
              "    }\n",
              "</style>\n",
              "<table border=\"1\" class=\"dataframe\">\n",
              "  <thead>\n",
              "    <tr style=\"text-align: right;\">\n",
              "      <th></th>\n",
              "      <th>Address</th>\n",
              "      <th>MahMorajeh</th>\n",
              "      <th>Fasl</th>\n",
              "      <th>weight</th>\n",
              "      <th>khanevartype</th>\n",
              "      <th>Takmil</th>\n",
              "      <th>TakmilDescA</th>\n",
              "      <th>TakmilDescB</th>\n",
              "      <th>TakmilDescC</th>\n",
              "      <th>Jaygozin</th>\n",
              "      <th>JaygozinDescA</th>\n",
              "      <th>JaygozinDescB</th>\n",
              "      <th>JaygozinDescC</th>\n",
              "      <th>BlkAbdJaygozin</th>\n",
              "      <th>RadifJaygozin</th>\n",
              "      <th>IsTel</th>\n",
              "      <th>FVam</th>\n",
              "      <th>province</th>\n",
              "      <th>town</th>\n",
              "      <th>income</th>\n",
              "    </tr>\n",
              "  </thead>\n",
              "  <tbody>\n",
              "    <tr>\n",
              "      <th>0</th>\n",
              "      <td>21401545215</td>\n",
              "      <td>5</td>\n",
              "      <td>2</td>\n",
              "      <td>132.595155</td>\n",
              "      <td>1</td>\n",
              "      <td>1</td>\n",
              "      <td>NaN</td>\n",
              "      <td>NaN</td>\n",
              "      <td>NaN</td>\n",
              "      <td>NaN</td>\n",
              "      <td>NaN</td>\n",
              "      <td>NaN</td>\n",
              "      <td>NaN</td>\n",
              "      <td>NaN</td>\n",
              "      <td>NaN</td>\n",
              "      <td>1.0</td>\n",
              "      <td>1.0</td>\n",
              "      <td>CharmahalBakhtiari</td>\n",
              "      <td>1</td>\n",
              "      <td>125570000</td>\n",
              "    </tr>\n",
              "    <tr>\n",
              "      <th>1</th>\n",
              "      <td>21401545217</td>\n",
              "      <td>5</td>\n",
              "      <td>2</td>\n",
              "      <td>132.595155</td>\n",
              "      <td>1</td>\n",
              "      <td>1</td>\n",
              "      <td>NaN</td>\n",
              "      <td>NaN</td>\n",
              "      <td>NaN</td>\n",
              "      <td>NaN</td>\n",
              "      <td>NaN</td>\n",
              "      <td>NaN</td>\n",
              "      <td>NaN</td>\n",
              "      <td>NaN</td>\n",
              "      <td>NaN</td>\n",
              "      <td>1.0</td>\n",
              "      <td>1.0</td>\n",
              "      <td>CharmahalBakhtiari</td>\n",
              "      <td>1</td>\n",
              "      <td>36110000</td>\n",
              "    </tr>\n",
              "    <tr>\n",
              "      <th>2</th>\n",
              "      <td>21401545221</td>\n",
              "      <td>5</td>\n",
              "      <td>2</td>\n",
              "      <td>132.595155</td>\n",
              "      <td>1</td>\n",
              "      <td>1</td>\n",
              "      <td>NaN</td>\n",
              "      <td>NaN</td>\n",
              "      <td>NaN</td>\n",
              "      <td>NaN</td>\n",
              "      <td>NaN</td>\n",
              "      <td>NaN</td>\n",
              "      <td>NaN</td>\n",
              "      <td>NaN</td>\n",
              "      <td>NaN</td>\n",
              "      <td>1.0</td>\n",
              "      <td>1.0</td>\n",
              "      <td>CharmahalBakhtiari</td>\n",
              "      <td>1</td>\n",
              "      <td>56990000</td>\n",
              "    </tr>\n",
              "    <tr>\n",
              "      <th>3</th>\n",
              "      <td>21401545223</td>\n",
              "      <td>6</td>\n",
              "      <td>2</td>\n",
              "      <td>132.595155</td>\n",
              "      <td>1</td>\n",
              "      <td>1</td>\n",
              "      <td>NaN</td>\n",
              "      <td>NaN</td>\n",
              "      <td>NaN</td>\n",
              "      <td>NaN</td>\n",
              "      <td>NaN</td>\n",
              "      <td>NaN</td>\n",
              "      <td>NaN</td>\n",
              "      <td>NaN</td>\n",
              "      <td>NaN</td>\n",
              "      <td>1.0</td>\n",
              "      <td>1.0</td>\n",
              "      <td>CharmahalBakhtiari</td>\n",
              "      <td>1</td>\n",
              "      <td>147290000</td>\n",
              "    </tr>\n",
              "    <tr>\n",
              "      <th>4</th>\n",
              "      <td>21401545226</td>\n",
              "      <td>5</td>\n",
              "      <td>2</td>\n",
              "      <td>132.595155</td>\n",
              "      <td>1</td>\n",
              "      <td>1</td>\n",
              "      <td>NaN</td>\n",
              "      <td>NaN</td>\n",
              "      <td>NaN</td>\n",
              "      <td>NaN</td>\n",
              "      <td>NaN</td>\n",
              "      <td>NaN</td>\n",
              "      <td>NaN</td>\n",
              "      <td>NaN</td>\n",
              "      <td>NaN</td>\n",
              "      <td>1.0</td>\n",
              "      <td>1.0</td>\n",
              "      <td>CharmahalBakhtiari</td>\n",
              "      <td>1</td>\n",
              "      <td>218310000</td>\n",
              "    </tr>\n",
              "  </tbody>\n",
              "</table>\n",
              "</div>"
            ],
            "text/plain": [
              "       Address  MahMorajeh  Fasl      weight  khanevartype  Takmil  \\\n",
              "0  21401545215           5     2  132.595155             1       1   \n",
              "1  21401545217           5     2  132.595155             1       1   \n",
              "2  21401545221           5     2  132.595155             1       1   \n",
              "3  21401545223           6     2  132.595155             1       1   \n",
              "4  21401545226           5     2  132.595155             1       1   \n",
              "\n",
              "   TakmilDescA  TakmilDescB TakmilDescC  Jaygozin  JaygozinDescA  \\\n",
              "0          NaN          NaN         NaN       NaN            NaN   \n",
              "1          NaN          NaN         NaN       NaN            NaN   \n",
              "2          NaN          NaN         NaN       NaN            NaN   \n",
              "3          NaN          NaN         NaN       NaN            NaN   \n",
              "4          NaN          NaN         NaN       NaN            NaN   \n",
              "\n",
              "   JaygozinDescB  JaygozinDescC  BlkAbdJaygozin  RadifJaygozin  IsTel  FVam  \\\n",
              "0            NaN            NaN             NaN            NaN    1.0   1.0   \n",
              "1            NaN            NaN             NaN            NaN    1.0   1.0   \n",
              "2            NaN            NaN             NaN            NaN    1.0   1.0   \n",
              "3            NaN            NaN             NaN            NaN    1.0   1.0   \n",
              "4            NaN            NaN             NaN            NaN    1.0   1.0   \n",
              "\n",
              "             province  town     income  \n",
              "0  CharmahalBakhtiari     1  125570000  \n",
              "1  CharmahalBakhtiari     1   36110000  \n",
              "2  CharmahalBakhtiari     1   56990000  \n",
              "3  CharmahalBakhtiari     1  147290000  \n",
              "4  CharmahalBakhtiari     1  218310000  "
            ]
          },
          "execution_count": 4,
          "metadata": {},
          "output_type": "execute_result"
        }
      ],
      "source": [
        "R99_income = calc_total_family_income('R99.xlsx')\n",
        "R99_income.head()"
      ]
    },
    {
      "cell_type": "code",
      "execution_count": 5,
      "metadata": {},
      "outputs": [
        {
          "data": {
            "text/html": [
              "<div>\n",
              "<style scoped>\n",
              "    .dataframe tbody tr th:only-of-type {\n",
              "        vertical-align: middle;\n",
              "    }\n",
              "\n",
              "    .dataframe tbody tr th {\n",
              "        vertical-align: top;\n",
              "    }\n",
              "\n",
              "    .dataframe thead th {\n",
              "        text-align: right;\n",
              "    }\n",
              "</style>\n",
              "<table border=\"1\" class=\"dataframe\">\n",
              "  <thead>\n",
              "    <tr style=\"text-align: right;\">\n",
              "      <th></th>\n",
              "      <th>Address</th>\n",
              "      <th>Fasl</th>\n",
              "      <th>weight</th>\n",
              "      <th>khanevartype</th>\n",
              "      <th>Takmil</th>\n",
              "      <th>TakmilDescA</th>\n",
              "      <th>TakmilDescB</th>\n",
              "      <th>TakmilDescC</th>\n",
              "      <th>Jaygozin</th>\n",
              "      <th>JaygozinDescA</th>\n",
              "      <th>JaygozinDescB</th>\n",
              "      <th>JaygozinDescC</th>\n",
              "      <th>BlkAbdJaygozin</th>\n",
              "      <th>RadifJaygozin</th>\n",
              "      <th>IsTel</th>\n",
              "      <th>FVam</th>\n",
              "      <th>province</th>\n",
              "      <th>town</th>\n",
              "      <th>income</th>\n",
              "    </tr>\n",
              "  </thead>\n",
              "  <tbody>\n",
              "    <tr>\n",
              "      <th>0</th>\n",
              "      <td>21401545221</td>\n",
              "      <td>2</td>\n",
              "      <td>132</td>\n",
              "      <td>1</td>\n",
              "      <td>1</td>\n",
              "      <td>NaN</td>\n",
              "      <td>NaN</td>\n",
              "      <td>NaN</td>\n",
              "      <td>NaN</td>\n",
              "      <td>NaN</td>\n",
              "      <td>NaN</td>\n",
              "      <td>NaN</td>\n",
              "      <td>NaN</td>\n",
              "      <td>NaN</td>\n",
              "      <td>1</td>\n",
              "      <td>1</td>\n",
              "      <td>CharmahalBakhtiari</td>\n",
              "      <td>1</td>\n",
              "      <td>118760000</td>\n",
              "    </tr>\n",
              "    <tr>\n",
              "      <th>1</th>\n",
              "      <td>21401545223</td>\n",
              "      <td>2</td>\n",
              "      <td>132</td>\n",
              "      <td>1</td>\n",
              "      <td>1</td>\n",
              "      <td>NaN</td>\n",
              "      <td>NaN</td>\n",
              "      <td>NaN</td>\n",
              "      <td>NaN</td>\n",
              "      <td>NaN</td>\n",
              "      <td>NaN</td>\n",
              "      <td>NaN</td>\n",
              "      <td>NaN</td>\n",
              "      <td>NaN</td>\n",
              "      <td>1</td>\n",
              "      <td>1</td>\n",
              "      <td>CharmahalBakhtiari</td>\n",
              "      <td>1</td>\n",
              "      <td>217920000</td>\n",
              "    </tr>\n",
              "    <tr>\n",
              "      <th>2</th>\n",
              "      <td>21401545225</td>\n",
              "      <td>2</td>\n",
              "      <td>132</td>\n",
              "      <td>1</td>\n",
              "      <td>1</td>\n",
              "      <td>NaN</td>\n",
              "      <td>NaN</td>\n",
              "      <td>NaN</td>\n",
              "      <td>NaN</td>\n",
              "      <td>NaN</td>\n",
              "      <td>NaN</td>\n",
              "      <td>NaN</td>\n",
              "      <td>NaN</td>\n",
              "      <td>NaN</td>\n",
              "      <td>1</td>\n",
              "      <td>2</td>\n",
              "      <td>CharmahalBakhtiari</td>\n",
              "      <td>1</td>\n",
              "      <td>624400000</td>\n",
              "    </tr>\n",
              "    <tr>\n",
              "      <th>3</th>\n",
              "      <td>21401545226</td>\n",
              "      <td>2</td>\n",
              "      <td>132</td>\n",
              "      <td>1</td>\n",
              "      <td>1</td>\n",
              "      <td>NaN</td>\n",
              "      <td>NaN</td>\n",
              "      <td>NaN</td>\n",
              "      <td>NaN</td>\n",
              "      <td>NaN</td>\n",
              "      <td>NaN</td>\n",
              "      <td>NaN</td>\n",
              "      <td>NaN</td>\n",
              "      <td>NaN</td>\n",
              "      <td>1</td>\n",
              "      <td>1</td>\n",
              "      <td>CharmahalBakhtiari</td>\n",
              "      <td>1</td>\n",
              "      <td>650805000</td>\n",
              "    </tr>\n",
              "    <tr>\n",
              "      <th>4</th>\n",
              "      <td>21401545232</td>\n",
              "      <td>2</td>\n",
              "      <td>132</td>\n",
              "      <td>1</td>\n",
              "      <td>1</td>\n",
              "      <td>NaN</td>\n",
              "      <td>NaN</td>\n",
              "      <td>NaN</td>\n",
              "      <td>NaN</td>\n",
              "      <td>NaN</td>\n",
              "      <td>NaN</td>\n",
              "      <td>NaN</td>\n",
              "      <td>NaN</td>\n",
              "      <td>NaN</td>\n",
              "      <td>1</td>\n",
              "      <td>1</td>\n",
              "      <td>CharmahalBakhtiari</td>\n",
              "      <td>1</td>\n",
              "      <td>402250000</td>\n",
              "    </tr>\n",
              "  </tbody>\n",
              "</table>\n",
              "</div>"
            ],
            "text/plain": [
              "       Address  Fasl  weight  khanevartype  Takmil  TakmilDescA  TakmilDescB  \\\n",
              "0  21401545221     2     132             1       1          NaN          NaN   \n",
              "1  21401545223     2     132             1       1          NaN          NaN   \n",
              "2  21401545225     2     132             1       1          NaN          NaN   \n",
              "3  21401545226     2     132             1       1          NaN          NaN   \n",
              "4  21401545232     2     132             1       1          NaN          NaN   \n",
              "\n",
              "  TakmilDescC  Jaygozin  JaygozinDescA  JaygozinDescB  JaygozinDescC  \\\n",
              "0         NaN       NaN            NaN            NaN            NaN   \n",
              "1         NaN       NaN            NaN            NaN            NaN   \n",
              "2         NaN       NaN            NaN            NaN            NaN   \n",
              "3         NaN       NaN            NaN            NaN            NaN   \n",
              "4         NaN       NaN            NaN            NaN            NaN   \n",
              "\n",
              "   BlkAbdJaygozin  RadifJaygozin  IsTel  FVam            province  town  \\\n",
              "0             NaN            NaN      1     1  CharmahalBakhtiari     1   \n",
              "1             NaN            NaN      1     1  CharmahalBakhtiari     1   \n",
              "2             NaN            NaN      1     2  CharmahalBakhtiari     1   \n",
              "3             NaN            NaN      1     1  CharmahalBakhtiari     1   \n",
              "4             NaN            NaN      1     1  CharmahalBakhtiari     1   \n",
              "\n",
              "      income  \n",
              "0  118760000  \n",
              "1  217920000  \n",
              "2  624400000  \n",
              "3  650805000  \n",
              "4  402250000  "
            ]
          },
          "execution_count": 5,
          "metadata": {},
          "output_type": "execute_result"
        }
      ],
      "source": [
        "R1400_income = calc_total_family_income('R1400.xlsx')\n",
        "R1400_income.head()"
      ]
    },
    {
      "cell_type": "code",
      "execution_count": 6,
      "metadata": {},
      "outputs": [
        {
          "data": {
            "text/html": [
              "<div>\n",
              "<style scoped>\n",
              "    .dataframe tbody tr th:only-of-type {\n",
              "        vertical-align: middle;\n",
              "    }\n",
              "\n",
              "    .dataframe tbody tr th {\n",
              "        vertical-align: top;\n",
              "    }\n",
              "\n",
              "    .dataframe thead th {\n",
              "        text-align: right;\n",
              "    }\n",
              "</style>\n",
              "<table border=\"1\" class=\"dataframe\">\n",
              "  <thead>\n",
              "    <tr style=\"text-align: right;\">\n",
              "      <th></th>\n",
              "      <th>Address</th>\n",
              "      <th>Fasl</th>\n",
              "      <th>weight</th>\n",
              "      <th>khanevartype</th>\n",
              "      <th>Takmil</th>\n",
              "      <th>TakmilDescA</th>\n",
              "      <th>TakmilDescB</th>\n",
              "      <th>TakmilDescC</th>\n",
              "      <th>Jaygozin</th>\n",
              "      <th>JaygozinDescA</th>\n",
              "      <th>JaygozinDescB</th>\n",
              "      <th>BlkAbdJaygozin</th>\n",
              "      <th>RadifJaygozin</th>\n",
              "      <th>province</th>\n",
              "      <th>town</th>\n",
              "      <th>income</th>\n",
              "    </tr>\n",
              "  </thead>\n",
              "  <tbody>\n",
              "    <tr>\n",
              "      <th>0</th>\n",
              "      <td>21402545926</td>\n",
              "      <td>1</td>\n",
              "      <td>191.409659</td>\n",
              "      <td>1</td>\n",
              "      <td>1</td>\n",
              "      <td></td>\n",
              "      <td></td>\n",
              "      <td></td>\n",
              "      <td></td>\n",
              "      <td></td>\n",
              "      <td></td>\n",
              "      <td>NaN</td>\n",
              "      <td>NaN</td>\n",
              "      <td>CharmahalBakhtiari</td>\n",
              "      <td>2</td>\n",
              "      <td>667080000</td>\n",
              "    </tr>\n",
              "    <tr>\n",
              "      <th>1</th>\n",
              "      <td>21402545929</td>\n",
              "      <td>1</td>\n",
              "      <td>191.409659</td>\n",
              "      <td>1</td>\n",
              "      <td>1</td>\n",
              "      <td></td>\n",
              "      <td></td>\n",
              "      <td></td>\n",
              "      <td></td>\n",
              "      <td></td>\n",
              "      <td></td>\n",
              "      <td>NaN</td>\n",
              "      <td>NaN</td>\n",
              "      <td>CharmahalBakhtiari</td>\n",
              "      <td>2</td>\n",
              "      <td>492080000</td>\n",
              "    </tr>\n",
              "    <tr>\n",
              "      <th>2</th>\n",
              "      <td>21402545932</td>\n",
              "      <td>1</td>\n",
              "      <td>191.409659</td>\n",
              "      <td>1</td>\n",
              "      <td>1</td>\n",
              "      <td></td>\n",
              "      <td></td>\n",
              "      <td></td>\n",
              "      <td></td>\n",
              "      <td></td>\n",
              "      <td></td>\n",
              "      <td>NaN</td>\n",
              "      <td>NaN</td>\n",
              "      <td>CharmahalBakhtiari</td>\n",
              "      <td>2</td>\n",
              "      <td>981600000</td>\n",
              "    </tr>\n",
              "    <tr>\n",
              "      <th>3</th>\n",
              "      <td>21402545935</td>\n",
              "      <td>1</td>\n",
              "      <td>191.409659</td>\n",
              "      <td>1</td>\n",
              "      <td>1</td>\n",
              "      <td></td>\n",
              "      <td></td>\n",
              "      <td></td>\n",
              "      <td></td>\n",
              "      <td></td>\n",
              "      <td></td>\n",
              "      <td>NaN</td>\n",
              "      <td>NaN</td>\n",
              "      <td>CharmahalBakhtiari</td>\n",
              "      <td>2</td>\n",
              "      <td>706400000</td>\n",
              "    </tr>\n",
              "    <tr>\n",
              "      <th>4</th>\n",
              "      <td>21402545938</td>\n",
              "      <td>1</td>\n",
              "      <td>191.409659</td>\n",
              "      <td>1</td>\n",
              "      <td>1</td>\n",
              "      <td></td>\n",
              "      <td></td>\n",
              "      <td></td>\n",
              "      <td></td>\n",
              "      <td></td>\n",
              "      <td></td>\n",
              "      <td>NaN</td>\n",
              "      <td>NaN</td>\n",
              "      <td>CharmahalBakhtiari</td>\n",
              "      <td>2</td>\n",
              "      <td>423740000</td>\n",
              "    </tr>\n",
              "  </tbody>\n",
              "</table>\n",
              "</div>"
            ],
            "text/plain": [
              "       Address  Fasl      weight  khanevartype  Takmil TakmilDescA  \\\n",
              "0  21402545926     1  191.409659             1       1               \n",
              "1  21402545929     1  191.409659             1       1               \n",
              "2  21402545932     1  191.409659             1       1               \n",
              "3  21402545935     1  191.409659             1       1               \n",
              "4  21402545938     1  191.409659             1       1               \n",
              "\n",
              "  TakmilDescB TakmilDescC Jaygozin JaygozinDescA JaygozinDescB  \\\n",
              "0                                                                \n",
              "1                                                                \n",
              "2                                                                \n",
              "3                                                                \n",
              "4                                                                \n",
              "\n",
              "   BlkAbdJaygozin  RadifJaygozin            province  town     income  \n",
              "0             NaN            NaN  CharmahalBakhtiari     2  667080000  \n",
              "1             NaN            NaN  CharmahalBakhtiari     2  492080000  \n",
              "2             NaN            NaN  CharmahalBakhtiari     2  981600000  \n",
              "3             NaN            NaN  CharmahalBakhtiari     2  706400000  \n",
              "4             NaN            NaN  CharmahalBakhtiari     2  423740000  "
            ]
          },
          "execution_count": 6,
          "metadata": {},
          "output_type": "execute_result"
        }
      ],
      "source": [
        "R1401_income = calc_total_family_income('R1401.xlsx')\n",
        "R1401_income.head()"
      ]
    },
    {
      "cell_type": "code",
      "execution_count": 7,
      "metadata": {},
      "outputs": [
        {
          "data": {
            "text/html": [
              "<div>\n",
              "<style scoped>\n",
              "    .dataframe tbody tr th:only-of-type {\n",
              "        vertical-align: middle;\n",
              "    }\n",
              "\n",
              "    .dataframe tbody tr th {\n",
              "        vertical-align: top;\n",
              "    }\n",
              "\n",
              "    .dataframe thead th {\n",
              "        text-align: right;\n",
              "    }\n",
              "</style>\n",
              "<table border=\"1\" class=\"dataframe\">\n",
              "  <thead>\n",
              "    <tr style=\"text-align: right;\">\n",
              "      <th></th>\n",
              "      <th>Address</th>\n",
              "      <th>MahMorajeh</th>\n",
              "      <th>Fasl</th>\n",
              "      <th>weight</th>\n",
              "      <th>khanevartype</th>\n",
              "      <th>Takmil</th>\n",
              "      <th>TakmilDescA</th>\n",
              "      <th>TakmilDescB</th>\n",
              "      <th>TakmilDescC</th>\n",
              "      <th>Jaygozin</th>\n",
              "      <th>JaygozinDescA</th>\n",
              "      <th>JaygozinDescB</th>\n",
              "      <th>JaygozinDescC</th>\n",
              "      <th>BlkAbdJaygozin</th>\n",
              "      <th>RadifJaygozin</th>\n",
              "      <th>province</th>\n",
              "      <th>town</th>\n",
              "      <th>income</th>\n",
              "    </tr>\n",
              "  </thead>\n",
              "  <tbody>\n",
              "    <tr>\n",
              "      <th>0</th>\n",
              "      <td>11401171708</td>\n",
              "      <td>11</td>\n",
              "      <td>4</td>\n",
              "      <td>266.339013</td>\n",
              "      <td>1</td>\n",
              "      <td>1</td>\n",
              "      <td>NaN</td>\n",
              "      <td>NaN</td>\n",
              "      <td>NaN</td>\n",
              "      <td>NaN</td>\n",
              "      <td>NaN</td>\n",
              "      <td>NaN</td>\n",
              "      <td>NaN</td>\n",
              "      <td>NaN</td>\n",
              "      <td>NaN</td>\n",
              "      <td>CharmahalBakhtiari</td>\n",
              "      <td>1</td>\n",
              "      <td>303760000</td>\n",
              "    </tr>\n",
              "    <tr>\n",
              "      <th>1</th>\n",
              "      <td>11401171711</td>\n",
              "      <td>11</td>\n",
              "      <td>4</td>\n",
              "      <td>266.339013</td>\n",
              "      <td>1</td>\n",
              "      <td>1</td>\n",
              "      <td>NaN</td>\n",
              "      <td>NaN</td>\n",
              "      <td>NaN</td>\n",
              "      <td>NaN</td>\n",
              "      <td>NaN</td>\n",
              "      <td>NaN</td>\n",
              "      <td>NaN</td>\n",
              "      <td>NaN</td>\n",
              "      <td>NaN</td>\n",
              "      <td>CharmahalBakhtiari</td>\n",
              "      <td>1</td>\n",
              "      <td>594960018</td>\n",
              "    </tr>\n",
              "    <tr>\n",
              "      <th>2</th>\n",
              "      <td>11401171714</td>\n",
              "      <td>11</td>\n",
              "      <td>4</td>\n",
              "      <td>266.339013</td>\n",
              "      <td>1</td>\n",
              "      <td>1</td>\n",
              "      <td>NaN</td>\n",
              "      <td>NaN</td>\n",
              "      <td>NaN</td>\n",
              "      <td>NaN</td>\n",
              "      <td>NaN</td>\n",
              "      <td>NaN</td>\n",
              "      <td>NaN</td>\n",
              "      <td>NaN</td>\n",
              "      <td>NaN</td>\n",
              "      <td>CharmahalBakhtiari</td>\n",
              "      <td>1</td>\n",
              "      <td>294995009</td>\n",
              "    </tr>\n",
              "    <tr>\n",
              "      <th>3</th>\n",
              "      <td>11401171717</td>\n",
              "      <td>11</td>\n",
              "      <td>4</td>\n",
              "      <td>266.339013</td>\n",
              "      <td>1</td>\n",
              "      <td>1</td>\n",
              "      <td>NaN</td>\n",
              "      <td>NaN</td>\n",
              "      <td>NaN</td>\n",
              "      <td>NaN</td>\n",
              "      <td>NaN</td>\n",
              "      <td>NaN</td>\n",
              "      <td>NaN</td>\n",
              "      <td>NaN</td>\n",
              "      <td>NaN</td>\n",
              "      <td>CharmahalBakhtiari</td>\n",
              "      <td>1</td>\n",
              "      <td>185460000</td>\n",
              "    </tr>\n",
              "    <tr>\n",
              "      <th>4</th>\n",
              "      <td>11401171720</td>\n",
              "      <td>11</td>\n",
              "      <td>4</td>\n",
              "      <td>266.339013</td>\n",
              "      <td>1</td>\n",
              "      <td>1</td>\n",
              "      <td>NaN</td>\n",
              "      <td>NaN</td>\n",
              "      <td>NaN</td>\n",
              "      <td>NaN</td>\n",
              "      <td>NaN</td>\n",
              "      <td>NaN</td>\n",
              "      <td>NaN</td>\n",
              "      <td>NaN</td>\n",
              "      <td>NaN</td>\n",
              "      <td>CharmahalBakhtiari</td>\n",
              "      <td>1</td>\n",
              "      <td>296380000</td>\n",
              "    </tr>\n",
              "  </tbody>\n",
              "</table>\n",
              "</div>"
            ],
            "text/plain": [
              "       Address  MahMorajeh  Fasl      weight  khanevartype  Takmil  \\\n",
              "0  11401171708          11     4  266.339013             1       1   \n",
              "1  11401171711          11     4  266.339013             1       1   \n",
              "2  11401171714          11     4  266.339013             1       1   \n",
              "3  11401171717          11     4  266.339013             1       1   \n",
              "4  11401171720          11     4  266.339013             1       1   \n",
              "\n",
              "   TakmilDescA  TakmilDescB TakmilDescC  Jaygozin  JaygozinDescA  \\\n",
              "0          NaN          NaN         NaN       NaN            NaN   \n",
              "1          NaN          NaN         NaN       NaN            NaN   \n",
              "2          NaN          NaN         NaN       NaN            NaN   \n",
              "3          NaN          NaN         NaN       NaN            NaN   \n",
              "4          NaN          NaN         NaN       NaN            NaN   \n",
              "\n",
              "   JaygozinDescB  JaygozinDescC  BlkAbdJaygozin  RadifJaygozin  \\\n",
              "0            NaN            NaN             NaN            NaN   \n",
              "1            NaN            NaN             NaN            NaN   \n",
              "2            NaN            NaN             NaN            NaN   \n",
              "3            NaN            NaN             NaN            NaN   \n",
              "4            NaN            NaN             NaN            NaN   \n",
              "\n",
              "             province  town     income  \n",
              "0  CharmahalBakhtiari     1  303760000  \n",
              "1  CharmahalBakhtiari     1  594960018  \n",
              "2  CharmahalBakhtiari     1  294995009  \n",
              "3  CharmahalBakhtiari     1  185460000  \n",
              "4  CharmahalBakhtiari     1  296380000  "
            ]
          },
          "execution_count": 7,
          "metadata": {},
          "output_type": "execute_result"
        }
      ],
      "source": [
        "U98_income = calc_total_family_income('U98.xlsx')\n",
        "U98_income.head()"
      ]
    },
    {
      "cell_type": "code",
      "execution_count": 8,
      "metadata": {},
      "outputs": [
        {
          "data": {
            "text/html": [
              "<div>\n",
              "<style scoped>\n",
              "    .dataframe tbody tr th:only-of-type {\n",
              "        vertical-align: middle;\n",
              "    }\n",
              "\n",
              "    .dataframe tbody tr th {\n",
              "        vertical-align: top;\n",
              "    }\n",
              "\n",
              "    .dataframe thead th {\n",
              "        text-align: right;\n",
              "    }\n",
              "</style>\n",
              "<table border=\"1\" class=\"dataframe\">\n",
              "  <thead>\n",
              "    <tr style=\"text-align: right;\">\n",
              "      <th></th>\n",
              "      <th>Address</th>\n",
              "      <th>MahMorajeh</th>\n",
              "      <th>Fasl</th>\n",
              "      <th>weight</th>\n",
              "      <th>khanevartype</th>\n",
              "      <th>Takmil</th>\n",
              "      <th>TakmilDescA</th>\n",
              "      <th>TakmilDescB</th>\n",
              "      <th>TakmilDescC</th>\n",
              "      <th>Jaygozin</th>\n",
              "      <th>JaygozinDescA</th>\n",
              "      <th>JaygozinDescB</th>\n",
              "      <th>JaygozinDescC</th>\n",
              "      <th>BlkAbdJaygozin</th>\n",
              "      <th>RadifJaygozin</th>\n",
              "      <th>IsTel</th>\n",
              "      <th>FVam</th>\n",
              "      <th>province</th>\n",
              "      <th>town</th>\n",
              "      <th>income</th>\n",
              "    </tr>\n",
              "  </thead>\n",
              "  <tbody>\n",
              "    <tr>\n",
              "      <th>0</th>\n",
              "      <td>11401171714</td>\n",
              "      <td>11</td>\n",
              "      <td>4</td>\n",
              "      <td>328.919621</td>\n",
              "      <td>1</td>\n",
              "      <td>1</td>\n",
              "      <td>NaN</td>\n",
              "      <td>NaN</td>\n",
              "      <td>NaN</td>\n",
              "      <td>NaN</td>\n",
              "      <td>NaN</td>\n",
              "      <td>NaN</td>\n",
              "      <td>NaN</td>\n",
              "      <td>NaN</td>\n",
              "      <td>NaN</td>\n",
              "      <td>1.0</td>\n",
              "      <td>1.0</td>\n",
              "      <td>CharmahalBakhtiari</td>\n",
              "      <td>1</td>\n",
              "      <td>421390000</td>\n",
              "    </tr>\n",
              "    <tr>\n",
              "      <th>1</th>\n",
              "      <td>11401171717</td>\n",
              "      <td>11</td>\n",
              "      <td>4</td>\n",
              "      <td>328.919621</td>\n",
              "      <td>1</td>\n",
              "      <td>1</td>\n",
              "      <td>NaN</td>\n",
              "      <td>NaN</td>\n",
              "      <td>NaN</td>\n",
              "      <td>NaN</td>\n",
              "      <td>NaN</td>\n",
              "      <td>NaN</td>\n",
              "      <td>NaN</td>\n",
              "      <td>NaN</td>\n",
              "      <td>NaN</td>\n",
              "      <td>1.0</td>\n",
              "      <td>1.0</td>\n",
              "      <td>CharmahalBakhtiari</td>\n",
              "      <td>1</td>\n",
              "      <td>251130000</td>\n",
              "    </tr>\n",
              "    <tr>\n",
              "      <th>2</th>\n",
              "      <td>11401171720</td>\n",
              "      <td>11</td>\n",
              "      <td>4</td>\n",
              "      <td>328.919621</td>\n",
              "      <td>1</td>\n",
              "      <td>1</td>\n",
              "      <td>NaN</td>\n",
              "      <td>NaN</td>\n",
              "      <td>NaN</td>\n",
              "      <td>NaN</td>\n",
              "      <td>NaN</td>\n",
              "      <td>NaN</td>\n",
              "      <td>NaN</td>\n",
              "      <td>NaN</td>\n",
              "      <td>NaN</td>\n",
              "      <td>1.0</td>\n",
              "      <td>2.0</td>\n",
              "      <td>CharmahalBakhtiari</td>\n",
              "      <td>1</td>\n",
              "      <td>388380000</td>\n",
              "    </tr>\n",
              "    <tr>\n",
              "      <th>3</th>\n",
              "      <td>11401171726</td>\n",
              "      <td>11</td>\n",
              "      <td>4</td>\n",
              "      <td>328.919621</td>\n",
              "      <td>1</td>\n",
              "      <td>2</td>\n",
              "      <td>NaN</td>\n",
              "      <td>2.0</td>\n",
              "      <td>NaN</td>\n",
              "      <td>1.0</td>\n",
              "      <td>NaN</td>\n",
              "      <td>NaN</td>\n",
              "      <td>NaN</td>\n",
              "      <td>55.0</td>\n",
              "      <td>27.0</td>\n",
              "      <td>1.0</td>\n",
              "      <td>2.0</td>\n",
              "      <td>CharmahalBakhtiari</td>\n",
              "      <td>1</td>\n",
              "      <td>58380000</td>\n",
              "    </tr>\n",
              "    <tr>\n",
              "      <th>4</th>\n",
              "      <td>11401171729</td>\n",
              "      <td>11</td>\n",
              "      <td>4</td>\n",
              "      <td>328.919621</td>\n",
              "      <td>1</td>\n",
              "      <td>1</td>\n",
              "      <td>NaN</td>\n",
              "      <td>NaN</td>\n",
              "      <td>NaN</td>\n",
              "      <td>NaN</td>\n",
              "      <td>NaN</td>\n",
              "      <td>NaN</td>\n",
              "      <td>NaN</td>\n",
              "      <td>NaN</td>\n",
              "      <td>NaN</td>\n",
              "      <td>1.0</td>\n",
              "      <td>1.0</td>\n",
              "      <td>CharmahalBakhtiari</td>\n",
              "      <td>1</td>\n",
              "      <td>722730000</td>\n",
              "    </tr>\n",
              "  </tbody>\n",
              "</table>\n",
              "</div>"
            ],
            "text/plain": [
              "       Address  MahMorajeh  Fasl      weight  khanevartype  Takmil  \\\n",
              "0  11401171714          11     4  328.919621             1       1   \n",
              "1  11401171717          11     4  328.919621             1       1   \n",
              "2  11401171720          11     4  328.919621             1       1   \n",
              "3  11401171726          11     4  328.919621             1       2   \n",
              "4  11401171729          11     4  328.919621             1       1   \n",
              "\n",
              "   TakmilDescA  TakmilDescB TakmilDescC  Jaygozin  JaygozinDescA  \\\n",
              "0          NaN          NaN         NaN       NaN            NaN   \n",
              "1          NaN          NaN         NaN       NaN            NaN   \n",
              "2          NaN          NaN         NaN       NaN            NaN   \n",
              "3          NaN          2.0         NaN       1.0            NaN   \n",
              "4          NaN          NaN         NaN       NaN            NaN   \n",
              "\n",
              "   JaygozinDescB  JaygozinDescC  BlkAbdJaygozin  RadifJaygozin  IsTel  FVam  \\\n",
              "0            NaN            NaN             NaN            NaN    1.0   1.0   \n",
              "1            NaN            NaN             NaN            NaN    1.0   1.0   \n",
              "2            NaN            NaN             NaN            NaN    1.0   2.0   \n",
              "3            NaN            NaN            55.0           27.0    1.0   2.0   \n",
              "4            NaN            NaN             NaN            NaN    1.0   1.0   \n",
              "\n",
              "             province  town     income  \n",
              "0  CharmahalBakhtiari     1  421390000  \n",
              "1  CharmahalBakhtiari     1  251130000  \n",
              "2  CharmahalBakhtiari     1  388380000  \n",
              "3  CharmahalBakhtiari     1   58380000  \n",
              "4  CharmahalBakhtiari     1  722730000  "
            ]
          },
          "execution_count": 8,
          "metadata": {},
          "output_type": "execute_result"
        }
      ],
      "source": [
        "U99_income = calc_total_family_income('U99.xlsx')\n",
        "U99_income.head()"
      ]
    },
    {
      "cell_type": "code",
      "execution_count": 9,
      "metadata": {},
      "outputs": [
        {
          "data": {
            "text/html": [
              "<div>\n",
              "<style scoped>\n",
              "    .dataframe tbody tr th:only-of-type {\n",
              "        vertical-align: middle;\n",
              "    }\n",
              "\n",
              "    .dataframe tbody tr th {\n",
              "        vertical-align: top;\n",
              "    }\n",
              "\n",
              "    .dataframe thead th {\n",
              "        text-align: right;\n",
              "    }\n",
              "</style>\n",
              "<table border=\"1\" class=\"dataframe\">\n",
              "  <thead>\n",
              "    <tr style=\"text-align: right;\">\n",
              "      <th></th>\n",
              "      <th>Address</th>\n",
              "      <th>Fasl</th>\n",
              "      <th>weight</th>\n",
              "      <th>khanevartype</th>\n",
              "      <th>Takmil</th>\n",
              "      <th>TakmilDescA</th>\n",
              "      <th>TakmilDescB</th>\n",
              "      <th>TakmilDescC</th>\n",
              "      <th>Jaygozin</th>\n",
              "      <th>JaygozinDescA</th>\n",
              "      <th>JaygozinDescB</th>\n",
              "      <th>JaygozinDescC</th>\n",
              "      <th>BlkAbdJaygozin</th>\n",
              "      <th>RadifJaygozin</th>\n",
              "      <th>IsTel</th>\n",
              "      <th>FVam</th>\n",
              "      <th>province</th>\n",
              "      <th>town</th>\n",
              "      <th>income</th>\n",
              "    </tr>\n",
              "  </thead>\n",
              "  <tbody>\n",
              "    <tr>\n",
              "      <th>0</th>\n",
              "      <td>11401171720</td>\n",
              "      <td>4</td>\n",
              "      <td>282</td>\n",
              "      <td>1</td>\n",
              "      <td>1</td>\n",
              "      <td>NaN</td>\n",
              "      <td>NaN</td>\n",
              "      <td>NaN</td>\n",
              "      <td>NaN</td>\n",
              "      <td>NaN</td>\n",
              "      <td>NaN</td>\n",
              "      <td>NaN</td>\n",
              "      <td>NaN</td>\n",
              "      <td>NaN</td>\n",
              "      <td>1</td>\n",
              "      <td>2</td>\n",
              "      <td>CharmahalBakhtiari</td>\n",
              "      <td>1</td>\n",
              "      <td>1023180000</td>\n",
              "    </tr>\n",
              "    <tr>\n",
              "      <th>1</th>\n",
              "      <td>11401171723</td>\n",
              "      <td>4</td>\n",
              "      <td>282</td>\n",
              "      <td>1</td>\n",
              "      <td>1</td>\n",
              "      <td>NaN</td>\n",
              "      <td>NaN</td>\n",
              "      <td>NaN</td>\n",
              "      <td>NaN</td>\n",
              "      <td>NaN</td>\n",
              "      <td>NaN</td>\n",
              "      <td>NaN</td>\n",
              "      <td>NaN</td>\n",
              "      <td>NaN</td>\n",
              "      <td>1</td>\n",
              "      <td>2</td>\n",
              "      <td>CharmahalBakhtiari</td>\n",
              "      <td>1</td>\n",
              "      <td>683740000</td>\n",
              "    </tr>\n",
              "    <tr>\n",
              "      <th>2</th>\n",
              "      <td>11401171727</td>\n",
              "      <td>4</td>\n",
              "      <td>282</td>\n",
              "      <td>1</td>\n",
              "      <td>1</td>\n",
              "      <td>NaN</td>\n",
              "      <td>NaN</td>\n",
              "      <td>NaN</td>\n",
              "      <td>NaN</td>\n",
              "      <td>NaN</td>\n",
              "      <td>NaN</td>\n",
              "      <td>NaN</td>\n",
              "      <td>NaN</td>\n",
              "      <td>NaN</td>\n",
              "      <td>2</td>\n",
              "      <td>2</td>\n",
              "      <td>CharmahalBakhtiari</td>\n",
              "      <td>1</td>\n",
              "      <td>64360000</td>\n",
              "    </tr>\n",
              "    <tr>\n",
              "      <th>3</th>\n",
              "      <td>11401171729</td>\n",
              "      <td>4</td>\n",
              "      <td>282</td>\n",
              "      <td>1</td>\n",
              "      <td>1</td>\n",
              "      <td>NaN</td>\n",
              "      <td>NaN</td>\n",
              "      <td>NaN</td>\n",
              "      <td>NaN</td>\n",
              "      <td>NaN</td>\n",
              "      <td>NaN</td>\n",
              "      <td>NaN</td>\n",
              "      <td>NaN</td>\n",
              "      <td>NaN</td>\n",
              "      <td>2</td>\n",
              "      <td>2</td>\n",
              "      <td>CharmahalBakhtiari</td>\n",
              "      <td>1</td>\n",
              "      <td>922640000</td>\n",
              "    </tr>\n",
              "    <tr>\n",
              "      <th>4</th>\n",
              "      <td>11401171732</td>\n",
              "      <td>4</td>\n",
              "      <td>282</td>\n",
              "      <td>1</td>\n",
              "      <td>1</td>\n",
              "      <td>NaN</td>\n",
              "      <td>NaN</td>\n",
              "      <td>NaN</td>\n",
              "      <td>NaN</td>\n",
              "      <td>NaN</td>\n",
              "      <td>NaN</td>\n",
              "      <td>NaN</td>\n",
              "      <td>NaN</td>\n",
              "      <td>NaN</td>\n",
              "      <td>2</td>\n",
              "      <td>2</td>\n",
              "      <td>CharmahalBakhtiari</td>\n",
              "      <td>1</td>\n",
              "      <td>217860000</td>\n",
              "    </tr>\n",
              "  </tbody>\n",
              "</table>\n",
              "</div>"
            ],
            "text/plain": [
              "       Address  Fasl  weight  khanevartype  Takmil  TakmilDescA  TakmilDescB  \\\n",
              "0  11401171720     4     282             1       1          NaN          NaN   \n",
              "1  11401171723     4     282             1       1          NaN          NaN   \n",
              "2  11401171727     4     282             1       1          NaN          NaN   \n",
              "3  11401171729     4     282             1       1          NaN          NaN   \n",
              "4  11401171732     4     282             1       1          NaN          NaN   \n",
              "\n",
              "  TakmilDescC  Jaygozin  JaygozinDescA  JaygozinDescB  JaygozinDescC  \\\n",
              "0         NaN       NaN            NaN            NaN            NaN   \n",
              "1         NaN       NaN            NaN            NaN            NaN   \n",
              "2         NaN       NaN            NaN            NaN            NaN   \n",
              "3         NaN       NaN            NaN            NaN            NaN   \n",
              "4         NaN       NaN            NaN            NaN            NaN   \n",
              "\n",
              "   BlkAbdJaygozin  RadifJaygozin  IsTel  FVam            province  town  \\\n",
              "0             NaN            NaN      1     2  CharmahalBakhtiari     1   \n",
              "1             NaN            NaN      1     2  CharmahalBakhtiari     1   \n",
              "2             NaN            NaN      2     2  CharmahalBakhtiari     1   \n",
              "3             NaN            NaN      2     2  CharmahalBakhtiari     1   \n",
              "4             NaN            NaN      2     2  CharmahalBakhtiari     1   \n",
              "\n",
              "       income  \n",
              "0  1023180000  \n",
              "1   683740000  \n",
              "2    64360000  \n",
              "3   922640000  \n",
              "4   217860000  "
            ]
          },
          "execution_count": 9,
          "metadata": {},
          "output_type": "execute_result"
        }
      ],
      "source": [
        "U1400_income = calc_total_family_income('U1400.xlsx')\n",
        "U1400_income.head()"
      ]
    },
    {
      "cell_type": "code",
      "execution_count": 10,
      "metadata": {},
      "outputs": [
        {
          "data": {
            "text/html": [
              "<div>\n",
              "<style scoped>\n",
              "    .dataframe tbody tr th:only-of-type {\n",
              "        vertical-align: middle;\n",
              "    }\n",
              "\n",
              "    .dataframe tbody tr th {\n",
              "        vertical-align: top;\n",
              "    }\n",
              "\n",
              "    .dataframe thead th {\n",
              "        text-align: right;\n",
              "    }\n",
              "</style>\n",
              "<table border=\"1\" class=\"dataframe\">\n",
              "  <thead>\n",
              "    <tr style=\"text-align: right;\">\n",
              "      <th></th>\n",
              "      <th>Address</th>\n",
              "      <th>Fasl</th>\n",
              "      <th>weight</th>\n",
              "      <th>khanevartype</th>\n",
              "      <th>Takmil</th>\n",
              "      <th>TakmilDescA</th>\n",
              "      <th>TakmilDescB</th>\n",
              "      <th>TakmilDescC</th>\n",
              "      <th>Jaygozin</th>\n",
              "      <th>JaygozinDescA</th>\n",
              "      <th>JaygozinDescB</th>\n",
              "      <th>BlkAbdJaygozin</th>\n",
              "      <th>RadifJaygozin</th>\n",
              "      <th>province</th>\n",
              "      <th>town</th>\n",
              "      <th>income</th>\n",
              "    </tr>\n",
              "  </thead>\n",
              "  <tbody>\n",
              "    <tr>\n",
              "      <th>0</th>\n",
              "      <td>11401171826</td>\n",
              "      <td>1</td>\n",
              "      <td>348.310329</td>\n",
              "      <td>1</td>\n",
              "      <td>1</td>\n",
              "      <td></td>\n",
              "      <td></td>\n",
              "      <td></td>\n",
              "      <td></td>\n",
              "      <td></td>\n",
              "      <td></td>\n",
              "      <td>NaN</td>\n",
              "      <td>NaN</td>\n",
              "      <td>CharmahalBakhtiari</td>\n",
              "      <td>1</td>\n",
              "      <td>1799010000</td>\n",
              "    </tr>\n",
              "    <tr>\n",
              "      <th>1</th>\n",
              "      <td>11401171829</td>\n",
              "      <td>1</td>\n",
              "      <td>348.310329</td>\n",
              "      <td>1</td>\n",
              "      <td>1</td>\n",
              "      <td></td>\n",
              "      <td></td>\n",
              "      <td></td>\n",
              "      <td></td>\n",
              "      <td></td>\n",
              "      <td></td>\n",
              "      <td>NaN</td>\n",
              "      <td>NaN</td>\n",
              "      <td>CharmahalBakhtiari</td>\n",
              "      <td>1</td>\n",
              "      <td>455780000</td>\n",
              "    </tr>\n",
              "    <tr>\n",
              "      <th>2</th>\n",
              "      <td>11401171832</td>\n",
              "      <td>1</td>\n",
              "      <td>348.310329</td>\n",
              "      <td>1</td>\n",
              "      <td>1</td>\n",
              "      <td></td>\n",
              "      <td></td>\n",
              "      <td></td>\n",
              "      <td></td>\n",
              "      <td></td>\n",
              "      <td></td>\n",
              "      <td>NaN</td>\n",
              "      <td>NaN</td>\n",
              "      <td>CharmahalBakhtiari</td>\n",
              "      <td>1</td>\n",
              "      <td>105080000</td>\n",
              "    </tr>\n",
              "    <tr>\n",
              "      <th>3</th>\n",
              "      <td>11401171838</td>\n",
              "      <td>1</td>\n",
              "      <td>348.310329</td>\n",
              "      <td>1</td>\n",
              "      <td>2</td>\n",
              "      <td></td>\n",
              "      <td></td>\n",
              "      <td>3</td>\n",
              "      <td>1</td>\n",
              "      <td></td>\n",
              "      <td></td>\n",
              "      <td>15.0</td>\n",
              "      <td>39.0</td>\n",
              "      <td>CharmahalBakhtiari</td>\n",
              "      <td>1</td>\n",
              "      <td>402680000</td>\n",
              "    </tr>\n",
              "    <tr>\n",
              "      <th>4</th>\n",
              "      <td>11401171841</td>\n",
              "      <td>1</td>\n",
              "      <td>348.310329</td>\n",
              "      <td>1</td>\n",
              "      <td>1</td>\n",
              "      <td></td>\n",
              "      <td></td>\n",
              "      <td></td>\n",
              "      <td></td>\n",
              "      <td></td>\n",
              "      <td></td>\n",
              "      <td>NaN</td>\n",
              "      <td>NaN</td>\n",
              "      <td>CharmahalBakhtiari</td>\n",
              "      <td>1</td>\n",
              "      <td>545445000</td>\n",
              "    </tr>\n",
              "  </tbody>\n",
              "</table>\n",
              "</div>"
            ],
            "text/plain": [
              "       Address  Fasl      weight  khanevartype  Takmil TakmilDescA  \\\n",
              "0  11401171826     1  348.310329             1       1               \n",
              "1  11401171829     1  348.310329             1       1               \n",
              "2  11401171832     1  348.310329             1       1               \n",
              "3  11401171838     1  348.310329             1       2               \n",
              "4  11401171841     1  348.310329             1       1               \n",
              "\n",
              "  TakmilDescB TakmilDescC Jaygozin JaygozinDescA JaygozinDescB  \\\n",
              "0                                                                \n",
              "1                                                                \n",
              "2                                                                \n",
              "3                       3        1                               \n",
              "4                                                                \n",
              "\n",
              "   BlkAbdJaygozin  RadifJaygozin            province  town      income  \n",
              "0             NaN            NaN  CharmahalBakhtiari     1  1799010000  \n",
              "1             NaN            NaN  CharmahalBakhtiari     1   455780000  \n",
              "2             NaN            NaN  CharmahalBakhtiari     1   105080000  \n",
              "3            15.0           39.0  CharmahalBakhtiari     1   402680000  \n",
              "4             NaN            NaN  CharmahalBakhtiari     1   545445000  "
            ]
          },
          "execution_count": 10,
          "metadata": {},
          "output_type": "execute_result"
        }
      ],
      "source": [
        "U1401_income = calc_total_family_income('U1401.xlsx')\n",
        "U1401_income.head()"
      ]
    },
    {
      "cell_type": "markdown",
      "metadata": {},
      "source": [
        "### مقایسه درآمد خانوارهای روستایی و شهری در سال 1398\n"
      ]
    },
    {
      "cell_type": "code",
      "execution_count": 40,
      "metadata": {},
      "outputs": [
        {
          "data": {
            "text/plain": [
              "(257892684.6371308, 356801201.8595679)"
            ]
          },
          "execution_count": 40,
          "metadata": {},
          "output_type": "execute_result"
        }
      ],
      "source": [
        "R98_income['income'].mean(), U98_income['income'].mean()"
      ]
    },
    {
      "cell_type": "code",
      "execution_count": 41,
      "metadata": {},
      "outputs": [
        {
          "data": {
            "text/plain": [
              "(187244744.10251424, 273958709.03271013)"
            ]
          },
          "execution_count": 41,
          "metadata": {},
          "output_type": "execute_result"
        }
      ],
      "source": [
        "R98_income['income'].std(), U98_income['income'].std()"
      ]
    },
    {
      "cell_type": "code",
      "execution_count": 57,
      "metadata": {},
      "outputs": [
        {
          "data": {
            "image/png": "[encoded data removed]",
            "text/plain": [
              "<Figure size 640x480 with 1 Axes>"
            ]
          },
          "metadata": {},
          "output_type": "display_data"
        },
        {
          "data": {
            "image/png": "[encoded data removed]",
            "text/plain": [
              "<Figure size 640x480 with 1 Axes>"
            ]
          },
          "metadata": {},
          "output_type": "display_data"
        }
      ],
      "source": [
        "import matplotlib.pyplot as plt\n",
        "\n",
        "plt.hist(R98_income['income'])\n",
        "plt.show()\n",
        "plt.hist(U98_income['income'])\n",
        "plt.show()"
      ]
    },
    {
      "cell_type": "code",
      "execution_count": 58,
      "metadata": {},
      "outputs": [
        {
          "data": {
            "image/png": "[encoded data removed]",
            "text/plain": [
              "<Figure size 640x480 with 1 Axes>"
            ]
          },
          "metadata": {},
          "output_type": "display_data"
        },
        {
          "data": {
            "image/png": "[encoded data removed]",
            "text/plain": [
              "<Figure size 640x480 with 1 Axes>"
            ]
          },
          "metadata": {},
          "output_type": "display_data"
        }
      ],
      "source": [
        "from scipy import stats\n",
        "\n",
        "R98_income = R98_income[R98_income['income'] >= 0]\n",
        "R98_income_normal, _ = stats.yeojohnson(R98_income['income'])\n",
        "\n",
        "U98_income = U98_income[U98_income['income'] >= 0]\n",
        "U98_income_normal, _ = stats.yeojohnson(U98_income['income'])\n",
        "\n",
        "plt.hist(U98_income_normal, bins=10)\n",
        "plt.show()\n",
        "plt.hist(R98_income_normal, bins=10)\n",
        "plt.show()"
      ]
    },
    {
      "cell_type": "code",
      "execution_count": 59,
      "metadata": {},
      "outputs": [
        {
          "data": {
            "text/plain": [
              "(ShapiroResult(statistic=0.9810089197800121, pvalue=1.9737189608277155e-07),\n",
              " ShapiroResult(statistic=0.9900141657976167, pvalue=0.0026715987513643686))"
            ]
          },
          "execution_count": 59,
          "metadata": {},
          "output_type": "execute_result"
        }
      ],
      "source": [
        "from scipy.stats import shapiro\n",
        "\n",
        "shapiro(U98_income_normal), shapiro(R98_income_normal)"
      ]
    },
    {
      "cell_type": "markdown",
      "metadata": {},
      "source": [
        "چون مقدار متغیر پی از 0.05 کمتر شده است در نتیجه فرض ما مبنی بر نرمال بودن داده ها رد می شود\n",
        "در نتیجه داده ها همچنان غیر نرمال هستند و از تست دیگری استفاده می کنیم."
      ]
    },
    {
      "cell_type": "code",
      "execution_count": 60,
      "metadata": {},
      "outputs": [],
      "source": [
        "#n1 = len(U98_income['income'])\n",
        "#n2 = len(R98_income['income'])\n",
        "#x1 = U98_income['income'].mean()\n",
        "#x2 = R98_income['income'].mean()\n",
        "#s1 = U98_income['income'].std(ddof=1)\n",
        "#s2 = R98_income['income'].std(ddof=1)\n",
        "\n",
        "#degree_of_freedom = n1 + n2 - 2\n",
        "#t_value = (x1 - x2) / np.sqrt((s1 ** 2) / n1 + (s2 ** 2) / n2)\n",
        "#p_value = 1 - stats.t.cdf(t_value, degree_of_freedom)\n",
        "\n",
        "#t_value, p_value"
      ]
    },
    {
      "cell_type": "code",
      "execution_count": 61,
      "metadata": {},
      "outputs": [
        {
          "data": {
            "text/plain": [
              "(197056.5, 1.1218963453189605e-16)"
            ]
          },
          "execution_count": 61,
          "metadata": {},
          "output_type": "execute_result"
        }
      ],
      "source": [
        "from scipy.stats import mannwhitneyu\n",
        "\n",
        "u_stat, p_value = mannwhitneyu(U98_income['income'], R98_income['income'])\n",
        "u_stat, p_value"
      ]
    },
    {
      "cell_type": "markdown",
      "metadata": {},
      "source": [
        "نتیجه می شود میانگین درآمدهای خانوارهای شهری و روستایی در سال 1398 با یکدیگر برابر نیست زیرا مقدار متغیر پی از 0.05 کمتر است\n",
        "بنابراین فرض اولیه باطل شده و نتیجه می شود میانگین ها یکی نیستند"
      ]
    },
    {
      "cell_type": "markdown",
      "metadata": {},
      "source": [
        "### مقایسه درآمد خانوارهای شهری و روستایی سال 1399"
      ]
    },
    {
      "cell_type": "code",
      "execution_count": 64,
      "metadata": {},
      "outputs": [
        {
          "data": {
            "text/plain": [
              "(385434775.8343685, 491890978.33228344)"
            ]
          },
          "execution_count": 64,
          "metadata": {},
          "output_type": "execute_result"
        }
      ],
      "source": [
        "R99_income['income'].mean(), U99_income['income'].mean()"
      ]
    },
    {
      "cell_type": "code",
      "execution_count": 65,
      "metadata": {},
      "outputs": [
        {
          "data": {
            "text/plain": [
              "(274244684.6791777, 323346342.1234748)"
            ]
          },
          "execution_count": 65,
          "metadata": {},
          "output_type": "execute_result"
        }
      ],
      "source": [
        "R99_income['income'].std(), U99_income['income'].std()"
      ]
    },
    {
      "cell_type": "code",
      "execution_count": 66,
      "metadata": {},
      "outputs": [
        {
          "data": {
            "image/png": "[encoded data removed]",
            "text/plain": [
              "<Figure size 640x480 with 1 Axes>"
            ]
          },
          "metadata": {},
          "output_type": "display_data"
        },
        {
          "data": {
            "image/png": "[encoded data removed]",
            "text/plain": [
              "<Figure size 640x480 with 1 Axes>"
            ]
          },
          "metadata": {},
          "output_type": "display_data"
        }
      ],
      "source": [
        "plt.hist(R99_income['income'])\n",
        "plt.show()\n",
        "plt.hist(U99_income['income'])\n",
        "plt.show()"
      ]
    },
    {
      "cell_type": "code",
      "execution_count": 67,
      "metadata": {},
      "outputs": [
        {
          "data": {
            "image/png": "[encoded data removed]",
            "text/plain": [
              "<Figure size 640x480 with 1 Axes>"
            ]
          },
          "metadata": {},
          "output_type": "display_data"
        },
        {
          "data": {
            "image/png": "[encoded data removed]",
            "text/plain": [
              "<Figure size 640x480 with 1 Axes>"
            ]
          },
          "metadata": {},
          "output_type": "display_data"
        }
      ],
      "source": [
        "R99_income = R99_income[R99_income['income'] >= 0]\n",
        "R99_income_normal, _ = stats.yeojohnson(R99_income['income'])\n",
        "\n",
        "U99_income = U99_income[U99_income['income'] >= 0]\n",
        "U99_income_normal, _ = stats.yeojohnson(U99_income['income'])\n",
        "\n",
        "plt.hist(R99_income_normal, bins=10)\n",
        "plt.show()\n",
        "plt.hist(U99_income_normal, bins=10)\n",
        "plt.show()"
      ]
    },
    {
      "cell_type": "code",
      "execution_count": 70,
      "metadata": {},
      "outputs": [
        {
          "data": {
            "text/plain": [
              "(ShapiroResult(statistic=0.9876325773999854, pvalue=3.332934946895108e-05),\n",
              " ShapiroResult(statistic=0.9870688231383097, pvalue=0.00027640764662027154))"
            ]
          },
          "execution_count": 70,
          "metadata": {},
          "output_type": "execute_result"
        }
      ],
      "source": [
        "shapiro(U99_income_normal), shapiro(R99_income_normal)"
      ]
    },
    {
      "cell_type": "markdown",
      "metadata": {},
      "source": [
        "چون مقدار متغیر پی بسیار کمتر از 0.05 است پس میتوان فرض نرمال شدن داده ها را رد کرده و نتیجه گرفت که داده ها نرمال نیستند یا به عبارتی هنوز نرمال نشده اند\n",
        "بنابراین از تست آماری دیگری استفاده می کنیم."
      ]
    },
    {
      "cell_type": "code",
      "execution_count": 71,
      "metadata": {},
      "outputs": [],
      "source": [
        "#n1 = len(U99_income['income'])\n",
        "#n2 = len(R99_income['income'])\n",
        "#x1 = U99_income['income'].mean()\n",
        "#x2 = R99_income['income'].mean()\n",
        "#s1 = U99_income['income'].std(ddof=1)\n",
        "#s2 = R99_income['income'].std(ddof=1)\n",
        "\n",
        "#degree_of_freedom = n1 + n2 - 2\n",
        "#t_value = (x1 - x2) / np.sqrt((s1 ** 2) / n1 + (s2 ** 2) / n2)\n",
        "#p_value = 1 - stats.t.cdf(t_value, degree_of_freedom)\n",
        "\n",
        "#t_value, p_value"
      ]
    },
    {
      "cell_type": "code",
      "execution_count": 73,
      "metadata": {},
      "outputs": [
        {
          "data": {
            "text/plain": [
              "(188167.0, 7.524012910967868e-11)"
            ]
          },
          "execution_count": 73,
          "metadata": {},
          "output_type": "execute_result"
        }
      ],
      "source": [
        "u_stat, p_value = mannwhitneyu(U99_income['income'], R99_income['income'])\n",
        "u_stat, p_value"
      ]
    },
    {
      "cell_type": "markdown",
      "metadata": {},
      "source": [
        "اینجا نیز با کوچکتر بودن مقدار متغیر پی نسبت به 0.05 فرض برابری درآمدها نقض شده و نتیجه میگیریم که در سال 1399 نیز درآمد شهری ها و روستایی ها برابر نمی باشد"
      ]
    },
    {
      "cell_type": "markdown",
      "metadata": {},
      "source": [
        "### مقایسه درآمد خانوارهای روستایی و شهری سال 1400"
      ]
    },
    {
      "cell_type": "code",
      "execution_count": 74,
      "metadata": {},
      "outputs": [
        {
          "data": {
            "text/plain": [
              "(569582833.5050917, 746060831.7096775)"
            ]
          },
          "execution_count": 74,
          "metadata": {},
          "output_type": "execute_result"
        }
      ],
      "source": [
        "R1400_income['income'].mean(), U1400_income['income'].mean()"
      ]
    },
    {
      "cell_type": "code",
      "execution_count": 75,
      "metadata": {},
      "outputs": [
        {
          "data": {
            "text/plain": [
              "(402311781.486489, 530935148.2879168)"
            ]
          },
          "execution_count": 75,
          "metadata": {},
          "output_type": "execute_result"
        }
      ],
      "source": [
        "R1400_income['income'].std(), U1400_income['income'].std()"
      ]
    },
    {
      "cell_type": "code",
      "execution_count": 76,
      "metadata": {},
      "outputs": [
        {
          "data": {
            "image/png": "[encoded data removed]",
            "text/plain": [
              "<Figure size 640x480 with 1 Axes>"
            ]
          },
          "metadata": {},
          "output_type": "display_data"
        },
        {
          "data": {
            "image/png": "[encoded data removed]",
            "text/plain": [
              "<Figure size 640x480 with 1 Axes>"
            ]
          },
          "metadata": {},
          "output_type": "display_data"
        }
      ],
      "source": [
        "plt.hist(R1400_income['income'])\n",
        "plt.show()\n",
        "plt.hist(U1400_income['income'])\n",
        "plt.show()"
      ]
    },
    {
      "cell_type": "code",
      "execution_count": 77,
      "metadata": {},
      "outputs": [
        {
          "data": {
            "image/png": "[encoded data removed]",
            "text/plain": [
              "<Figure size 640x480 with 1 Axes>"
            ]
          },
          "metadata": {},
          "output_type": "display_data"
        },
        {
          "data": {
            "image/png": "[encoded data removed]",
            "text/plain": [
              "<Figure size 640x480 with 1 Axes>"
            ]
          },
          "metadata": {},
          "output_type": "display_data"
        }
      ],
      "source": [
        "R1400_income = R1400_income[R1400_income['income'] >= 0]\n",
        "R1400_income_normal, _ = stats.yeojohnson(R1400_income['income'])\n",
        "\n",
        "U1400_income = U1400_income[U1400_income['income'] >= 0]\n",
        "U1400_income_normal, _ = stats.yeojohnson(U1400_income['income'])\n",
        "\n",
        "plt.hist(R1400_income_normal, bins=10)\n",
        "plt.show()\n",
        "plt.hist(U1400_income_normal, bins=10)\n",
        "plt.show()"
      ]
    },
    {
      "cell_type": "code",
      "execution_count": 78,
      "metadata": {},
      "outputs": [
        {
          "data": {
            "text/plain": [
              "(ShapiroResult(statistic=0.9830343972201561, pvalue=7.327970703303551e-07),\n",
              " ShapiroResult(statistic=0.9818424180889902, pvalue=8.268094606754816e-06))"
            ]
          },
          "execution_count": 78,
          "metadata": {},
          "output_type": "execute_result"
        }
      ],
      "source": [
        "shapiro(U1400_income_normal), shapiro(R1400_income_normal)"
      ]
    },
    {
      "cell_type": "markdown",
      "metadata": {},
      "source": [
        "چون مقدار متغیر پی بسیار کمتر از 0.05 است پس میتوان فرض نرمال شدن داده ها را رد کرده و نتیجه گرفت که داده ها نرمال نیستند یا به عبارتی هنوز نرمال نشده اند\n",
        "بنابراین از تست آماری دیگری استفاده می کنیم."
      ]
    },
    {
      "cell_type": "code",
      "execution_count": 79,
      "metadata": {},
      "outputs": [],
      "source": [
        "#n1 = len(U99_income['income'])\n",
        "#n2 = len(R99_income['income'])\n",
        "#x1 = U99_income['income'].mean()\n",
        "#x2 = R99_income['income'].mean()\n",
        "#s1 = U99_income['income'].std(ddof=1)\n",
        "#s2 = R99_income['income'].std(ddof=1)\n",
        "\n",
        "#degree_of_freedom = n1 + n2 - 2\n",
        "#t_value = (x1 - x2) / np.sqrt((s1 ** 2) / n1 + (s2 ** 2) / n2)\n",
        "#p_value = 1 - stats.t.cdf(t_value, degree_of_freedom)\n",
        "\n",
        "#t_value, p_value"
      ]
    },
    {
      "cell_type": "code",
      "execution_count": 80,
      "metadata": {},
      "outputs": [
        {
          "data": {
            "text/plain": [
              "(198409.5, 2.681240350131669e-12)"
            ]
          },
          "execution_count": 80,
          "metadata": {},
          "output_type": "execute_result"
        }
      ],
      "source": [
        "u_stat, p_value = mannwhitneyu(U1400_income['income'], R1400_income['income'])\n",
        "u_stat, p_value"
      ]
    },
    {
      "cell_type": "markdown",
      "metadata": {},
      "source": [
        "اینجا نیز با کوچکتر بودن مقدار متغیر پی نسبت به 0.05 فرض برابری درآمدها نقض شده و نتیجه میگیریم که در سال 1400 نیز درآمد شهری ها و روستایی ها برابر نمی باشد"
      ]
    },
    {
      "cell_type": "markdown",
      "metadata": {},
      "source": [
        "### مقایسه درآمد خانوارهای شهری و روستایی سال 1401"
      ]
    },
    {
      "cell_type": "code",
      "execution_count": 85,
      "metadata": {},
      "outputs": [
        {
          "data": {
            "text/plain": [
              "(976059270.258727, 1217953281.0700152)"
            ]
          },
          "execution_count": 85,
          "metadata": {},
          "output_type": "execute_result"
        }
      ],
      "source": [
        "R1401_income['income'].mean(), U1401_income['income'].mean()"
      ]
    },
    {
      "cell_type": "code",
      "execution_count": 86,
      "metadata": {},
      "outputs": [
        {
          "data": {
            "text/plain": [
              "(649968260.2637795, 735230009.5400902)"
            ]
          },
          "execution_count": 86,
          "metadata": {},
          "output_type": "execute_result"
        }
      ],
      "source": [
        "R1401_income['income'].std(), U1401_income['income'].std()"
      ]
    },
    {
      "cell_type": "code",
      "execution_count": 87,
      "metadata": {},
      "outputs": [
        {
          "data": {
            "image/png": "[encoded data removed]",
            "text/plain": [
              "<Figure size 640x480 with 1 Axes>"
            ]
          },
          "metadata": {},
          "output_type": "display_data"
        },
        {
          "data": {
            "image/png": "[encoded data removed]",
            "text/plain": [
              "<Figure size 640x480 with 1 Axes>"
            ]
          },
          "metadata": {},
          "output_type": "display_data"
        }
      ],
      "source": [
        "plt.hist(R1401_income['income'])\n",
        "plt.show()\n",
        "plt.hist(U1401_income['income'])\n",
        "plt.show()"
      ]
    },
    {
      "cell_type": "code",
      "execution_count": 88,
      "metadata": {},
      "outputs": [
        {
          "data": {
            "image/png": "[encoded data removed]",
            "text/plain": [
              "<Figure size 640x480 with 1 Axes>"
            ]
          },
          "metadata": {},
          "output_type": "display_data"
        },
        {
          "data": {
            "image/png": "[encoded data removed]",
            "text/plain": [
              "<Figure size 640x480 with 1 Axes>"
            ]
          },
          "metadata": {},
          "output_type": "display_data"
        }
      ],
      "source": [
        "R1401_income = R1401_income[R1401_income['income'] >= 0]\n",
        "R1401_income_normal, _ = stats.yeojohnson(R1401_income['income'])\n",
        "\n",
        "U1401_income = U1401_income[U1401_income['income'] >= 0]\n",
        "U1401_income_normal, _ = stats.yeojohnson(U1401_income['income'])\n",
        "\n",
        "plt.hist(R1401_income_normal, bins=10)\n",
        "plt.show()\n",
        "plt.hist(U1401_income_normal, bins=10)\n",
        "plt.show()"
      ]
    },
    {
      "cell_type": "code",
      "execution_count": 89,
      "metadata": {},
      "outputs": [
        {
          "data": {
            "text/plain": [
              "(ShapiroResult(statistic=0.9912508353046431, pvalue=0.0006259307752805592),\n",
              " ShapiroResult(statistic=0.9910081670633774, pvalue=0.0046538271252705))"
            ]
          },
          "execution_count": 89,
          "metadata": {},
          "output_type": "execute_result"
        }
      ],
      "source": [
        "shapiro(U1401_income_normal), shapiro(R1401_income_normal)"
      ]
    },
    {
      "cell_type": "markdown",
      "metadata": {},
      "source": [
        "چون مقدار متغیر پی بسیار کمتر از 0.05 است پس میتوان فرض نرمال شدن داده ها را رد کرده و نتیجه گرفت که داده ها نرمال نیستند یا به عبارتی هنوز نرمال نشده اند\n",
        "بنابراین از تست آماری دیگری استفاده می کنیم."
      ]
    },
    {
      "cell_type": "code",
      "execution_count": 90,
      "metadata": {},
      "outputs": [],
      "source": [
        "#n1 = len(U99_income['income'])\n",
        "#n2 = len(R99_income['income'])\n",
        "#x1 = U99_income['income'].mean()\n",
        "#x2 = R99_income['income'].mean()\n",
        "#s1 = U99_income['income'].std(ddof=1)\n",
        "#s2 = R99_income['income'].std(ddof=1)\n",
        "\n",
        "#degree_of_freedom = n1 + n2 - 2\n",
        "#t_value = (x1 - x2) / np.sqrt((s1 ** 2) / n1 + (s2 ** 2) / n2)\n",
        "#p_value = 1 - stats.t.cdf(t_value, degree_of_freedom)\n",
        "\n",
        "#t_value, p_value"
      ]
    },
    {
      "cell_type": "code",
      "execution_count": 91,
      "metadata": {},
      "outputs": [
        {
          "data": {
            "text/plain": [
              "(195839.0, 8.588582499822181e-11)"
            ]
          },
          "execution_count": 91,
          "metadata": {},
          "output_type": "execute_result"
        }
      ],
      "source": [
        "u_stat, p_value = mannwhitneyu(U1401_income['income'], R1401_income['income'])\n",
        "u_stat, p_value"
      ]
    },
    {
      "cell_type": "markdown",
      "metadata": {},
      "source": [
        "اینجا نیز با کوچکتر بودن مقدار متغیر پی نسبت به 0.05 فرض برابری درآمدها نقض شده و نتیجه میگیریم که در سال 1401 نیز درآمد شهری ها و روستایی ها برابر نمی باشد"
      ]
    }
  ],
  "metadata": {
    "colab": {
      "provenance": [],
      "toc_visible": true
    },
    "kernelspec": {
      "display_name": "Python 3",
      "language": "python",
      "name": "python3"
    },
    "language_info": {
      "codemirror_mode": {
        "name": "ipython",
        "version": 3
      },
      "file_extension": ".py",
      "mimetype": "text/x-python",
      "name": "python",
      "nbconvert_exporter": "python",
      "pygments_lexer": "ipython3",
      "version": "3.9.19"
    },
    "vscode": {
      "interpreter": {
        "hash": "44e7e1b8fa2096bd5707ed7fd18b1724a2db25f4c565a7673f8b6e7bfc49d25d"
      }
    }
  },
  "nbformat": 4,
  "nbformat_minor": 0
}
