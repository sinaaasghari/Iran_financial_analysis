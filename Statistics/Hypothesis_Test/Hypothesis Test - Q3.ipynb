{
  "cells": [
    {
      "cell_type": "markdown",
      "metadata": {},
      "source": [
        "### 3. تفاوت مجموع درآمد افراد دانشگاهی و غیر دانشگاهی"
      ]
    },
    {
      "cell_type": "code",
      "execution_count": 3,
      "metadata": {},
      "outputs": [],
      "source": [
        "import numpy as np\n",
        "import pandas as pd"
      ]
    },
    {
      "cell_type": "code",
      "execution_count": 4,
      "metadata": {},
      "outputs": [],
      "source": [
        "def get_total_job_income(df, member_id):\n",
        "    return df[df['Member_id'] == member_id]['netincome_w_y'].apply(to_int).sum()\n",
        "\n",
        "\n",
        "def to_int(num):\n",
        "    try:\n",
        "        if type(num) == str:\n",
        "            num = num.strip()\n",
        "        return int(num)\n",
        "    except Exception as e:\n",
        "        return 0\n",
        "\n",
        "\n",
        "def calc_total_person_income(file_name):\n",
        "    df_job_income = pd.read_excel(file_name, engine='openpyxl', sheet_name=file_name.split('.')[0] + 'P4S01')\n",
        "\n",
        "    df_job_income['Member_id'] = df_job_income.apply(lambda r: str(r['Address']) + '_' + str(int(r['member'])), axis=1)\n",
        "    df_job_income['income'] = df_job_income.apply(lambda r: get_total_job_income(df_job_income, r['Member_id']), axis=1)\n",
        "    df_job_income.drop_duplicates(subset=['Member_id'], inplace=True)\n",
        "    df_job_income.rename({'netincome_w_y': 'income'}, inplace=True, axis=1)\n",
        "    df_job_income = df_job_income[['Member_id', 'income']]\n",
        "\n",
        "    return df_job_income\n"
      ]
    },
    {
      "cell_type": "code",
      "execution_count": 5,
      "metadata": {},
      "outputs": [
        {
          "data": {
            "text/html": [
              "<div>\n",
              "<style scoped>\n",
              "    .dataframe tbody tr th:only-of-type {\n",
              "        vertical-align: middle;\n",
              "    }\n",
              "\n",
              "    .dataframe tbody tr th {\n",
              "        vertical-align: top;\n",
              "    }\n",
              "\n",
              "    .dataframe thead th {\n",
              "        text-align: right;\n",
              "    }\n",
              "</style>\n",
              "<table border=\"1\" class=\"dataframe\">\n",
              "  <thead>\n",
              "    <tr style=\"text-align: right;\">\n",
              "      <th></th>\n",
              "      <th>Member_id</th>\n",
              "      <th>income</th>\n",
              "      <th>income</th>\n",
              "    </tr>\n",
              "  </thead>\n",
              "  <tbody>\n",
              "    <tr>\n",
              "      <th>0</th>\n",
              "      <td>20011395420.0_1</td>\n",
              "      <td>130000000</td>\n",
              "      <td>130000000</td>\n",
              "    </tr>\n",
              "    <tr>\n",
              "      <th>1</th>\n",
              "      <td>20001385412.0_1</td>\n",
              "      <td>102400000</td>\n",
              "      <td>102400000</td>\n",
              "    </tr>\n",
              "    <tr>\n",
              "      <th>2</th>\n",
              "      <td>20011395423.0_1</td>\n",
              "      <td>45000000</td>\n",
              "      <td>45000000</td>\n",
              "    </tr>\n",
              "    <tr>\n",
              "      <th>3</th>\n",
              "      <td>20005389018.0_1</td>\n",
              "      <td>40000000</td>\n",
              "      <td>40000000</td>\n",
              "    </tr>\n",
              "    <tr>\n",
              "      <th>4</th>\n",
              "      <td>20013397808.0_1</td>\n",
              "      <td>45000000</td>\n",
              "      <td>45000000</td>\n",
              "    </tr>\n",
              "  </tbody>\n",
              "</table>\n",
              "</div>"
            ],
            "text/plain": [
              "         Member_id     income     income\n",
              "0  20011395420.0_1  130000000  130000000\n",
              "1  20001385412.0_1  102400000  102400000\n",
              "2  20011395423.0_1   45000000   45000000\n",
              "3  20005389018.0_1   40000000   40000000\n",
              "4  20013397808.0_1   45000000   45000000"
            ]
          },
          "execution_count": 5,
          "metadata": {},
          "output_type": "execute_result"
        }
      ],
      "source": [
        "R98_income = calc_total_person_income('R98.xlsx')\n",
        "R98_income"
      ]
    },
    {
      "cell_type": "code",
      "execution_count": null,
      "metadata": {},
      "outputs": [],
      "source": []
    }
  ],
  "metadata": {
    "colab": {
      "provenance": [],
      "toc_visible": true
    },
    "kernelspec": {
      "display_name": "Python 3",
      "language": "python",
      "name": "python3"
    },
    "language_info": {
      "codemirror_mode": {
        "name": "ipython",
        "version": 3
      },
      "file_extension": ".py",
      "mimetype": "text/x-python",
      "name": "python",
      "nbconvert_exporter": "python",
      "pygments_lexer": "ipython3",
      "version": "3.9.19"
    },
    "vscode": {
      "interpreter": {
        "hash": "44e7e1b8fa2096bd5707ed7fd18b1724a2db25f4c565a7673f8b6e7bfc49d25d"
      }
    }
  },
  "nbformat": 4,
  "nbformat_minor": 0
}
