{
 "cells": [
  {
   "cell_type": "code",
   "execution_count": null,
   "metadata": {},
   "outputs": [],
   "source": [
    "import pandas as pd\n",
    "import matplotlib.pyplot as plt\n",
    "import seaborn as sns\n",
    "\n",
    "files_U = {\n",
    "    98: '/content/drive/MyDrive/prj/U98.xlsx',\n",
    "    99: '/content/drive/MyDrive/prj/U99.xlsx',\n",
    "    1400: '/content/drive/MyDrive/prj/U1400.xlsx',\n",
    "    1401: '/content/drive/MyDrive/prj/U1401.xlsx'\n",
    "}\n",
    "\n",
    "files_R = {\n",
    "    98: '/content/drive/MyDrive/prj/R98.xlsx',\n",
    "    99: '/content/drive/MyDrive/prj/R99.xlsx',\n",
    "    1400: '/content/drive/MyDrive/prj/R1400.xlsx',\n",
    "    1401: '/content/drive/MyDrive/prj/R1401.xlsx'\n",
    "}\n",
    "\n",
    "sheets = {\n",
    "    'clothing_shoes': 'P3S03',  # پوشاک و کفش\n",
    "    'food': 'P3S05',            # هزینه‌های خوراکی خانوار\n",
    "    'housing_water': 'P3S06',   # هزینه‌های مسكن، آب، فاضلاب، سوخت و روشنايي\n",
    "    'healthcare': 'P3S12'       # هزینه‌هاي بهداشتي و درماني خانوار\n",
    "}\n",
    "\n",
    "def load_expenses(files, year,type):\n",
    "    data = {\n",
    "        'clothing_shoes': pd.read_excel(files[year], sheet_name=f'{type}{year}{sheets[\"clothing_shoes\"]}')['value'],\n",
    "        'food': pd.read_excel(files[year], sheet_name=f'{type}{year}{sheets[\"food\"]}')['value'],\n",
    "        'housing_water': pd.read_excel(files[year], sheet_name=f'{type}{year}{sheets[\"housing_water\"]}')['value'],\n",
    "        'healthcare': pd.read_excel(files[year], sheet_name=f'{type}{year}{sheets[\"healthcare\"]}')['value']\n",
    "    }\n",
    "    return pd.DataFrame(data)\n",
    "\n",
    "def plot_correlation_matrix(data, year, region):\n",
    "    correlation_matrix = data.corr()\n",
    "    plt.figure(figsize=(8, 6))\n",
    "    sns.heatmap(correlation_matrix, annot=True, cmap='coolwarm', linewidths=0.5, square=True)\n",
    "    plt.title(f'Correlation Matrix for Household Expenses ({region}, Year {year})')\n",
    "    plt.show()\n",
    "for year in [98, 99, 1400, 1401]:\n",
    "    urban_data = load_expenses(files_U, year,'U')\n",
    "    rural_data = load_expenses(files_R, year,'R')\n",
    "    plot_correlation_matrix(urban_data, year, 'Urban')\n",
    "    plot_correlation_matrix(rural_data, year, 'Rural')\n"
   ]
  }
 ],
 "metadata": {
  "language_info": {
   "name": "python"
  }
 },
 "nbformat": 4,
 "nbformat_minor": 2
}
