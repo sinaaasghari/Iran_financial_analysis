{
 "cells": [
  {
   "cell_type": "code",
   "execution_count": 1,
   "metadata": {},
   "outputs": [],
   "source": [
    "import pandas as pd\n",
    "import numpy as np\n",
    "from sklearn.cluster import KMeans"
   ]
  },
  {
   "cell_type": "code",
   "execution_count": 11,
   "metadata": {},
   "outputs": [],
   "source": [
    "df_income_cost = pd.read_excel(r'../../df_income_cost_family.xlsx', usecols= lambda col: col != 'Unnamed: 0').dropna()"
   ]
  },
  {
   "cell_type": "code",
   "execution_count": 12,
   "metadata": {},
   "outputs": [
    {
     "data": {
      "text/html": [
       "<div>\n",
       "<style scoped>\n",
       "    .dataframe tbody tr th:only-of-type {\n",
       "        vertical-align: middle;\n",
       "    }\n",
       "\n",
       "    .dataframe tbody tr th {\n",
       "        vertical-align: top;\n",
       "    }\n",
       "\n",
       "    .dataframe thead th {\n",
       "        text-align: right;\n",
       "    }\n",
       "</style>\n",
       "<table border=\"1\" class=\"dataframe\">\n",
       "  <thead>\n",
       "    <tr style=\"text-align: right;\">\n",
       "      <th></th>\n",
       "      <th>Address</th>\n",
       "      <th>totall_income_x</th>\n",
       "      <th>totall_income_y</th>\n",
       "    </tr>\n",
       "  </thead>\n",
       "  <tbody>\n",
       "    <tr>\n",
       "      <th>0</th>\n",
       "      <td>10001000126</td>\n",
       "      <td>1.940928e+10</td>\n",
       "      <td>9750080000</td>\n",
       "    </tr>\n",
       "    <tr>\n",
       "      <th>1</th>\n",
       "      <td>10001000130</td>\n",
       "      <td>6.583760e+09</td>\n",
       "      <td>1229696000</td>\n",
       "    </tr>\n",
       "    <tr>\n",
       "      <th>2</th>\n",
       "      <td>10001000132</td>\n",
       "      <td>1.064632e+10</td>\n",
       "      <td>1309760000</td>\n",
       "    </tr>\n",
       "    <tr>\n",
       "      <th>3</th>\n",
       "      <td>10001000135</td>\n",
       "      <td>3.278320e+09</td>\n",
       "      <td>1103360000</td>\n",
       "    </tr>\n",
       "    <tr>\n",
       "      <th>4</th>\n",
       "      <td>10001000138</td>\n",
       "      <td>9.900592e+09</td>\n",
       "      <td>5228720000</td>\n",
       "    </tr>\n",
       "    <tr>\n",
       "      <th>...</th>\n",
       "      <td>...</td>\n",
       "      <td>...</td>\n",
       "      <td>...</td>\n",
       "    </tr>\n",
       "    <tr>\n",
       "      <th>19562</th>\n",
       "      <td>13006383827</td>\n",
       "      <td>6.598880e+09</td>\n",
       "      <td>3401704000</td>\n",
       "    </tr>\n",
       "    <tr>\n",
       "      <th>19563</th>\n",
       "      <td>13006383832</td>\n",
       "      <td>9.576840e+09</td>\n",
       "      <td>18243888000</td>\n",
       "    </tr>\n",
       "    <tr>\n",
       "      <th>19564</th>\n",
       "      <td>13006383835</td>\n",
       "      <td>1.201152e+10</td>\n",
       "      <td>2003120000</td>\n",
       "    </tr>\n",
       "    <tr>\n",
       "      <th>19565</th>\n",
       "      <td>13006383838</td>\n",
       "      <td>1.275764e+10</td>\n",
       "      <td>4870376000</td>\n",
       "    </tr>\n",
       "    <tr>\n",
       "      <th>19566</th>\n",
       "      <td>13006383841</td>\n",
       "      <td>7.580040e+09</td>\n",
       "      <td>716360000</td>\n",
       "    </tr>\n",
       "  </tbody>\n",
       "</table>\n",
       "<p>19557 rows × 3 columns</p>\n",
       "</div>"
      ],
      "text/plain": [
       "           Address  totall_income_x  totall_income_y\n",
       "0      10001000126     1.940928e+10       9750080000\n",
       "1      10001000130     6.583760e+09       1229696000\n",
       "2      10001000132     1.064632e+10       1309760000\n",
       "3      10001000135     3.278320e+09       1103360000\n",
       "4      10001000138     9.900592e+09       5228720000\n",
       "...            ...              ...              ...\n",
       "19562  13006383827     6.598880e+09       3401704000\n",
       "19563  13006383832     9.576840e+09      18243888000\n",
       "19564  13006383835     1.201152e+10       2003120000\n",
       "19565  13006383838     1.275764e+10       4870376000\n",
       "19566  13006383841     7.580040e+09        716360000\n",
       "\n",
       "[19557 rows x 3 columns]"
      ]
     },
     "execution_count": 12,
     "metadata": {},
     "output_type": "execute_result"
    }
   ],
   "source": [
    "df_income_cost"
   ]
  },
  {
   "cell_type": "code",
   "execution_count": 13,
   "metadata": {},
   "outputs": [],
   "source": [
    "kmeans = KMeans(n_clusters= 10, random_state= 88)\n",
    "df_income_cost['kmean'] = kmeans.fit_predict(df_income_cost[['totall_income_x', 'totall_income_y']])"
   ]
  },
  {
   "cell_type": "code",
   "execution_count": null,
   "metadata": {},
   "outputs": [],
   "source": []
  }
 ],
 "metadata": {
  "kernelspec": {
   "display_name": "bootCamp",
   "language": "python",
   "name": "python3"
  },
  "language_info": {
   "codemirror_mode": {
    "name": "ipython",
    "version": 3
   },
   "file_extension": ".py",
   "mimetype": "text/x-python",
   "name": "python",
   "nbconvert_exporter": "python",
   "pygments_lexer": "ipython3",
   "version": "3.9.19"
  }
 },
 "nbformat": 4,
 "nbformat_minor": 2
}
